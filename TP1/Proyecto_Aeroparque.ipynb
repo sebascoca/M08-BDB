{
  "nbformat": 4,
  "nbformat_minor": 0,
  "metadata": {
    "colab": {
      "provenance": []
    },
    "kernelspec": {
      "name": "python3",
      "display_name": "Python 3"
    },
    "language_info": {
      "name": "python"
    }
  },
  "cells": [
    {
      "cell_type": "markdown",
      "source": [
        "# Proyecto análisis y gestión de recursos aeroportuarios del Aeroparque Jorge Newbery\n",
        "\n",
        "### Big Data Bang: explosionando las rutas aéreas para predecir un caos en alto vuelo.\n",
        "---\n",
        "\n",
        "\n",
        "Grupos de trabajo:\n",
        "* Joaquin Barrionuevo\n",
        "* Sebastián Coca\n",
        "* Sabrina Gonzalez del Campo\n",
        "\n",
        "\n",
        "* Francisco Brogiolo\n",
        "* Miguel Cittadini\n",
        "* Marcelo Bianchi\n",
        "* Martín Brogiolo"
      ],
      "metadata": {
        "id": "6lvMF-7jZYQy"
      }
    },
    {
      "cell_type": "markdown",
      "source": [
        "#1 Entender el dominio"
      ],
      "metadata": {
        "id": "4cbLFqJAIDX7"
      }
    },
    {
      "cell_type": "markdown",
      "source": [
        "##a) Abstract\n",
        "\n",
        "Decidimos elegir este proyecto porque presenta diferentes desafíos como el cruzamiento con otras bases de datos (clima, aeropuertos, etc.) y la posibilidad de aplicar la ciencia de datos al área de logística, afrontando un problema real y que podría ser de utilidad en la práctica. Por otra parte, nos interesa también conocer más de cerca el aeropuerto Jorge Newbery, uno de los que más flujo de pasajeros presenta en toda la Argentina, y poder presentar propuestas de mejora acerca de la saturación del aeropuerto basándonos en datos. Entender la capacidad del aeropuerto y la gestión de sus recursos será clave para afrontar el proyecto.\n",
        "El período comprendido en nuestra base de datos es desde enero 2019 hasta septiembre 2022 y contiene información a cerca de los arribos al aeropuerto, con datos de fecha, procedencia, aerolínea. Es relevante que contamos con un año completo en la situación pre-pandemia para entender el flujo normal sin restricciones aeroportuarias. El problema se afrontará utilizando Python y una serie de librerías comunes en la Ciencia de Datos, tales como numpy, pandas, sklearn, matplotlib, seaborn, missingo, etc.\n",
        "El objetivo de este proyecto es entender el volumen de arribos: si hay alguna tendencia de horarios, día, mes o época del año donde se presenten picos, el porcentaje de vuelos con retrasos y entender si provienen mayoritariamente de una aerolínea o aeropuerto en particular (o si tienen correlación con alguna otra variable), y finalmente aplicar machine learning a la base de datos limpia para poder predecir algún pico y proponer de ser posible alguna acción que logre evitar la saturación del aeropuerto."
      ],
      "metadata": {
        "id": "ARuo8NnvGsay"
      }
    },
    {
      "cell_type": "markdown",
      "source": [
        "##b) Contexto comercial/empresarial\n",
        "\n",
        "Dada la excelente ubicación geográfica (a minutos de Capital Federal), el **Aeropuerto Jorge Newbery** es estretégico para la explotación de empresas aéreas tanto nacionales, como internacionales. Luego de la pandemia del Covid 2020 se decretó que el mismo volvería a ser un aeropuerto internacional (destinos del Mercosur y países de Sudamérica). Es por esto, que se han incrementado exponencialmente sus operaciones, pero su infraestructura para soportar este incremento no ha acompañado. Luego de la epoca de confinamiento, se reconstruyó la única pista que este aeródormo posee. Esta obra no es suficiente, ya que la terminal de pasajeros ha permanecido prácticamente sin grandes incrementos de su capacidad.\n",
        "\n",
        "Se realizará el estudio de los datos provistos por el explotador aéreo existente a fin de prever los picos de capacidad de todos los subsistemas que integran al aeropuerto en sí, y así evitar saturaciones de los mismos, permitiendo una mejor planificación de los recursos aeroportuarios.\n",
        "\n",
        "\n"
      ],
      "metadata": {
        "id": "Fq-1PjdrHFdg"
      }
    },
    {
      "cell_type": "markdown",
      "source": [
        "##c) Problema comercial\n",
        "\n",
        "Se procederá a formatear los datos existentes y proporcionar visualizaciones que respondan las siguientes preguntas:\n",
        "\n",
        "* Cantidad de arribos por mes\n",
        "* Cantidad de Pasajeros por mes\n",
        "* Distribución de arribos por día y frecuencia\n",
        "* Distribucion de vuelos provenientes de distintos lugares (eg. Brasil)\n",
        "* ¿Es posible predecir demoras por ruta?\n",
        "* Durante un año, ¿qué cabecera es la que más se utilizó? ¿En qué posición?\n",
        "* ¿Hay zonas geográficas que tienden a tener más demoras que otras?\n",
        "* ¿Cuáles son los horarios picos de pasajeros en la terminal?\n",
        "* Posibles causas de las demoras\n",
        "* Se relacionan las demoras al mal clima?\n",
        "\n",
        "\n"
      ],
      "metadata": {
        "id": "INMMvcy8HKTD"
      }
    },
    {
      "cell_type": "markdown",
      "source": [
        "##d) Contexto analítico\n",
        "\n",
        "Para efectuar el análisis se proporciona un archivo CSV que contiene datos de vuelos entre los años 2019 y septiembre del 2022 inclusive. Este dataset cuenta con informacion de cantidad de pasajeros, horas de arribo y de programación, etc. El problema a resolver es poder predecir las demoras en los distintos vuelos para así poder prever de la mejor manera los recursos aeroportuarios para evitar la saturación de los mismos.\n",
        "\n",
        "\n",
        "Detalle de las caracteristicas del Dataset:\n",
        "\n",
        "1. Tipos de datos que posee la tabla (en funcion de las variables)\n",
        "2. Dimensiones del dataset -> cantidad de observaciones (filas) y atributos (columnas)\n",
        "3. Posibles unidades de análisis"
      ],
      "metadata": {
        "id": "ibY8d6O_HVWp"
      }
    },
    {
      "cell_type": "markdown",
      "metadata": {
        "id": "3_ZB3lev0xOb"
      },
      "source": [
        "###  Consideraciones generales del contexto del negocio\n",
        "\n",
        "Consideramos que la base de datos es útil para entender el negocio, pero no sufuciente. Para ello se recurrirá a otras bases de datos complementarias (por ejemplo con bases de datos de aeropuertos nacionales e internacionales -útiles para complementar con el país y la ciudad de proveniencia de cada vuelo- y bases de datos del clima entre otras)."
      ]
    },
    {
      "cell_type": "markdown",
      "source": [
        "# Instalación y actualización de librerías a utilizar en el desarrollo del proyecto"
      ],
      "metadata": {
        "id": "3E5jitL8KugJ"
      }
    },
    {
      "cell_type": "code",
      "source": [
        "!pip --version #verificación de versión y actualización. No es necesario, está en su última versión (32.1.2 @ 2023/06/13)\n",
        "#!pip install --upgrade pip"
      ],
      "metadata": {
        "colab": {
          "base_uri": "https://localhost:8080/"
        },
        "id": "7G3DVtXt8Hk1",
        "outputId": "3580943d-f1ac-4d71-9570-5c7ac1680946"
      },
      "execution_count": null,
      "outputs": [
        {
          "output_type": "stream",
          "name": "stdout",
          "text": [
            "pip 23.1.2 from /usr/local/lib/python3.10/dist-packages/pip (python 3.10)\n"
          ]
        }
      ]
    },
    {
      "cell_type": "code",
      "source": [
        "#@title Instalación de librerías externas\n",
        "!pip install -q pingouin\n",
        "!pip install --upgrade Pillow           # para que funcione ydata-profiling\n",
        "!pip install -q -U ydata-profiling\n",
        "\n",
        "# Recordar reiniciar el runtime para que cargue bien las librerías"
      ],
      "metadata": {
        "id": "zcLk-eoBkQTD",
        "colab": {
          "base_uri": "https://localhost:8080/"
        },
        "outputId": "bf5c638f-2ef8-4918-f955-2c40224ccff0"
      },
      "execution_count": null,
      "outputs": [
        {
          "output_type": "stream",
          "name": "stdout",
          "text": [
            "Looking in indexes: https://pypi.org/simple, https://us-python.pkg.dev/colab-wheels/public/simple/\n",
            "Requirement already satisfied: Pillow in /usr/local/lib/python3.10/dist-packages (9.5.0)\n"
          ]
        }
      ]
    },
    {
      "cell_type": "code",
      "source": [
        "#@title Actualización de ydata-profiling a la última versión desde GitHub\n",
        "!pip install https://github.com/ydataai/pandas-profiling/archive/master.zip"
      ],
      "metadata": {
        "colab": {
          "base_uri": "https://localhost:8080/"
        },
        "id": "-Ph__mEF-kER",
        "outputId": "7fe0d07b-268a-4f66-e18b-7d3c51f4d625"
      },
      "execution_count": null,
      "outputs": [
        {
          "output_type": "stream",
          "name": "stdout",
          "text": [
            "Looking in indexes: https://pypi.org/simple, https://us-python.pkg.dev/colab-wheels/public/simple/\n",
            "Collecting https://github.com/ydataai/pandas-profiling/archive/master.zip\n",
            "  Using cached https://github.com/ydataai/pandas-profiling/archive/master.zip\n",
            "  Preparing metadata (setup.py) ... \u001b[?25l\u001b[?25hdone\n",
            "Requirement already satisfied: scipy<1.11,>=1.4.1 in /usr/local/lib/python3.10/dist-packages (from ydata-profiling==0.0.dev0) (1.10.1)\n",
            "Requirement already satisfied: pandas!=1.4.0,<2.1,>1.1 in /usr/local/lib/python3.10/dist-packages (from ydata-profiling==0.0.dev0) (1.5.3)\n",
            "Requirement already satisfied: matplotlib<4,>=3.2 in /usr/local/lib/python3.10/dist-packages (from ydata-profiling==0.0.dev0) (3.7.1)\n",
            "Requirement already satisfied: pydantic<2,>=1.8.1 in /usr/local/lib/python3.10/dist-packages (from ydata-profiling==0.0.dev0) (1.10.7)\n",
            "Requirement already satisfied: PyYAML<6.1,>=5.0.0 in /usr/local/lib/python3.10/dist-packages (from ydata-profiling==0.0.dev0) (6.0)\n",
            "Requirement already satisfied: jinja2<3.2,>=2.11.1 in /usr/local/lib/python3.10/dist-packages (from ydata-profiling==0.0.dev0) (3.1.2)\n",
            "Requirement already satisfied: visions[type_image_path]==0.7.5 in /usr/local/lib/python3.10/dist-packages (from ydata-profiling==0.0.dev0) (0.7.5)\n",
            "Requirement already satisfied: numpy<1.24,>=1.16.0 in /usr/local/lib/python3.10/dist-packages (from ydata-profiling==0.0.dev0) (1.22.4)\n",
            "Requirement already satisfied: htmlmin==0.1.12 in /usr/local/lib/python3.10/dist-packages (from ydata-profiling==0.0.dev0) (0.1.12)\n",
            "Requirement already satisfied: phik<0.13,>=0.11.1 in /usr/local/lib/python3.10/dist-packages (from ydata-profiling==0.0.dev0) (0.12.3)\n",
            "Requirement already satisfied: requests<3,>=2.24.0 in /usr/local/lib/python3.10/dist-packages (from ydata-profiling==0.0.dev0) (2.27.1)\n",
            "Requirement already satisfied: tqdm<5,>=4.48.2 in /usr/local/lib/python3.10/dist-packages (from ydata-profiling==0.0.dev0) (4.65.0)\n",
            "Requirement already satisfied: seaborn<0.13,>=0.10.1 in /usr/local/lib/python3.10/dist-packages (from ydata-profiling==0.0.dev0) (0.12.2)\n",
            "Requirement already satisfied: multimethod<2,>=1.4 in /usr/local/lib/python3.10/dist-packages (from ydata-profiling==0.0.dev0) (1.9.1)\n",
            "Requirement already satisfied: statsmodels<1,>=0.13.2 in /usr/local/lib/python3.10/dist-packages (from ydata-profiling==0.0.dev0) (0.13.5)\n",
            "Requirement already satisfied: typeguard<3,>=2.13.2 in /usr/local/lib/python3.10/dist-packages (from ydata-profiling==0.0.dev0) (2.13.3)\n",
            "Requirement already satisfied: imagehash==4.3.1 in /usr/local/lib/python3.10/dist-packages (from ydata-profiling==0.0.dev0) (4.3.1)\n",
            "Requirement already satisfied: wordcloud>=1.9.1 in /usr/local/lib/python3.10/dist-packages (from ydata-profiling==0.0.dev0) (1.9.2)\n",
            "Requirement already satisfied: dacite>=1.8 in /usr/local/lib/python3.10/dist-packages (from ydata-profiling==0.0.dev0) (1.8.1)\n",
            "Requirement already satisfied: PyWavelets in /usr/local/lib/python3.10/dist-packages (from imagehash==4.3.1->ydata-profiling==0.0.dev0) (1.4.1)\n",
            "Requirement already satisfied: pillow in /usr/local/lib/python3.10/dist-packages (from imagehash==4.3.1->ydata-profiling==0.0.dev0) (9.5.0)\n",
            "Requirement already satisfied: attrs>=19.3.0 in /usr/local/lib/python3.10/dist-packages (from visions[type_image_path]==0.7.5->ydata-profiling==0.0.dev0) (23.1.0)\n",
            "Requirement already satisfied: networkx>=2.4 in /usr/local/lib/python3.10/dist-packages (from visions[type_image_path]==0.7.5->ydata-profiling==0.0.dev0) (3.1)\n",
            "Requirement already satisfied: tangled-up-in-unicode>=0.0.4 in /usr/local/lib/python3.10/dist-packages (from visions[type_image_path]==0.7.5->ydata-profiling==0.0.dev0) (0.2.0)\n",
            "Requirement already satisfied: MarkupSafe>=2.0 in /usr/local/lib/python3.10/dist-packages (from jinja2<3.2,>=2.11.1->ydata-profiling==0.0.dev0) (2.1.2)\n",
            "Requirement already satisfied: contourpy>=1.0.1 in /usr/local/lib/python3.10/dist-packages (from matplotlib<4,>=3.2->ydata-profiling==0.0.dev0) (1.0.7)\n",
            "Requirement already satisfied: cycler>=0.10 in /usr/local/lib/python3.10/dist-packages (from matplotlib<4,>=3.2->ydata-profiling==0.0.dev0) (0.11.0)\n",
            "Requirement already satisfied: fonttools>=4.22.0 in /usr/local/lib/python3.10/dist-packages (from matplotlib<4,>=3.2->ydata-profiling==0.0.dev0) (4.39.3)\n",
            "Requirement already satisfied: kiwisolver>=1.0.1 in /usr/local/lib/python3.10/dist-packages (from matplotlib<4,>=3.2->ydata-profiling==0.0.dev0) (1.4.4)\n",
            "Requirement already satisfied: packaging>=20.0 in /usr/local/lib/python3.10/dist-packages (from matplotlib<4,>=3.2->ydata-profiling==0.0.dev0) (23.1)\n",
            "Requirement already satisfied: pyparsing>=2.3.1 in /usr/local/lib/python3.10/dist-packages (from matplotlib<4,>=3.2->ydata-profiling==0.0.dev0) (3.0.9)\n",
            "Requirement already satisfied: python-dateutil>=2.7 in /usr/local/lib/python3.10/dist-packages (from matplotlib<4,>=3.2->ydata-profiling==0.0.dev0) (2.8.2)\n",
            "Requirement already satisfied: pytz>=2020.1 in /usr/local/lib/python3.10/dist-packages (from pandas!=1.4.0,<2.1,>1.1->ydata-profiling==0.0.dev0) (2022.7.1)\n",
            "Requirement already satisfied: joblib>=0.14.1 in /usr/local/lib/python3.10/dist-packages (from phik<0.13,>=0.11.1->ydata-profiling==0.0.dev0) (1.2.0)\n",
            "Requirement already satisfied: typing-extensions>=4.2.0 in /usr/local/lib/python3.10/dist-packages (from pydantic<2,>=1.8.1->ydata-profiling==0.0.dev0) (4.5.0)\n",
            "Requirement already satisfied: urllib3<1.27,>=1.21.1 in /usr/local/lib/python3.10/dist-packages (from requests<3,>=2.24.0->ydata-profiling==0.0.dev0) (1.26.15)\n",
            "Requirement already satisfied: certifi>=2017.4.17 in /usr/local/lib/python3.10/dist-packages (from requests<3,>=2.24.0->ydata-profiling==0.0.dev0) (2022.12.7)\n",
            "Requirement already satisfied: charset-normalizer~=2.0.0 in /usr/local/lib/python3.10/dist-packages (from requests<3,>=2.24.0->ydata-profiling==0.0.dev0) (2.0.12)\n",
            "Requirement already satisfied: idna<4,>=2.5 in /usr/local/lib/python3.10/dist-packages (from requests<3,>=2.24.0->ydata-profiling==0.0.dev0) (3.4)\n",
            "Requirement already satisfied: patsy>=0.5.2 in /usr/local/lib/python3.10/dist-packages (from statsmodels<1,>=0.13.2->ydata-profiling==0.0.dev0) (0.5.3)\n",
            "Requirement already satisfied: six in /usr/local/lib/python3.10/dist-packages (from patsy>=0.5.2->statsmodels<1,>=0.13.2->ydata-profiling==0.0.dev0) (1.16.0)\n",
            "Building wheels for collected packages: ydata-profiling\n",
            "  Building wheel for ydata-profiling (setup.py) ... \u001b[?25l\u001b[?25hdone\n",
            "  Created wheel for ydata-profiling: filename=ydata_profiling-0.0.dev0-py2.py3-none-any.whl size=353033 sha256=782744fac517955a0c79ea06b69cb78e87c965befef18a2a68b68db70a7f89ce\n",
            "  Stored in directory: /tmp/pip-ephem-wheel-cache-db4hlnk9/wheels/f5/4e/04/09011c49d76834ce963a4fe57acc90b11fa8bb282bb9781d97\n",
            "Successfully built ydata-profiling\n",
            "Installing collected packages: ydata-profiling\n",
            "  Attempting uninstall: ydata-profiling\n",
            "    Found existing installation: ydata-profiling 4.3.1\n",
            "    Uninstalling ydata-profiling-4.3.1:\n",
            "      Successfully uninstalled ydata-profiling-4.3.1\n",
            "Successfully installed ydata-profiling-0.0.dev0\n"
          ]
        }
      ]
    },
    {
      "cell_type": "code",
      "source": [
        "#@title Carga de librerias\n",
        "\n",
        "import numpy as np\n",
        "import pandas as pd\n",
        "import matplotlib.pyplot as plt\n",
        "import matplotlib as mpl\n",
        "import seaborn as sns\n",
        "import sklearn\n",
        "\n",
        "import missingno as msno\n",
        "#import pingouin as pg\n",
        "import plotly.express as px\n",
        "#from ydata_profiling import ProfileReport\n",
        "\n",
        "from statsmodels.stats.proportion import proportions_ztest\n",
        "from scipy import stats\n",
        "from sklearn.impute import SimpleImputer\n",
        "from sklearn.preprocessing import MinMaxScaler, Normalizer, LabelEncoder\n",
        "from sklearn.cluster import KMeans\n",
        "from sklearn.tree import DecisionTreeClassifier  #arbol de decision\n",
        "from sklearn import tree #arbol de decision\n",
        "from sklearn import metrics\n",
        "from sklearn import datasets, linear_model\n",
        "from sklearn.metrics import mean_squared_error, r2_score, accuracy_score, confusion_matrix, classification_report\n",
        "from sklearn.model_selection import train_test_split, KFold, cross_val_score, GridSearchCV, StratifiedKFold, cross_val_score, LeaveOneOut\n",
        "from sklearn.neighbors import KNeighborsClassifier\n",
        "from sklearn.linear_model import LinearRegression\n",
        "from sklearn.ensemble import RandomForestClassifier, RandomForestRegressor\n",
        "from sklearn.linear_model import LogisticRegression\n",
        "from sklearn import neighbors\n"
      ],
      "metadata": {
        "id": "MsAyna7jkAPw"
      },
      "execution_count": null,
      "outputs": []
    },
    {
      "cell_type": "code",
      "source": [
        "from google.colab import drive\n",
        "drive.mount('/content/drive')\n",
        "# guardado de la DB en el drive\n",
        "path = '/content/drive/Shared drives/M08-BigDataBang/'"
      ],
      "metadata": {
        "id": "WUFMQFO06FGF",
        "colab": {
          "base_uri": "https://localhost:8080/"
        },
        "outputId": "bb0cfad7-3abd-4e53-aba9-2202b21459b9"
      },
      "execution_count": null,
      "outputs": [
        {
          "output_type": "stream",
          "name": "stdout",
          "text": [
            "Drive already mounted at /content/drive; to attempt to forcibly remount, call drive.mount(\"/content/drive\", force_remount=True).\n"
          ]
        }
      ]
    },
    {
      "cell_type": "code",
      "source": [
        "# Carga de parámetros\n",
        "pd.set_option('display.max_columns', None)\n",
        "pd.set_option('display.float_format', lambda x: '%.2f' % x)"
      ],
      "metadata": {
        "id": "NrU_eoK6XoVT"
      },
      "execution_count": null,
      "outputs": []
    },
    {
      "cell_type": "markdown",
      "source": [
        "#2 Preguntas que nos podemos hacer como data scientist"
      ],
      "metadata": {
        "id": "TJVuxGq66crs"
      }
    },
    {
      "cell_type": "markdown",
      "source": [
        "##a) Importar y analizar el dataset para ver con qué datos contamos, en cantidad y calidad: indagar no sólo el tipo de cada dato (categóricos, numéricos) si no su naturaleza (si son demográficos, económicos, temporales, etc)."
      ],
      "metadata": {
        "id": "idA732_GHtrf"
      }
    },
    {
      "cell_type": "code",
      "source": [
        "#@title Carga del dataset\n",
        "url = 'https://raw.githubusercontent.com/NoeliaFerrero/Proyecto_MentoriaFAMAF_2023/main/DataSet%20Aeropuerto%20Jorge%20Newery.csv'\n",
        "df = pd.read_csv(url, sep=\";\", encoding='latin-1')\n",
        "df\n",
        "\n",
        "#dfla = pd.read_csv('https://raw.githubusercontent.com/Fran-Brogiolo/DataScienceDiploma/master/Mentor%C3%ADa%20Big%20Data%20Bang/Aeropuertos.csv')"
      ],
      "metadata": {
        "id": "T1jh2BF-koFW",
        "colab": {
          "base_uri": "https://localhost:8080/",
          "height": 696
        },
        "outputId": "3c3617af-0fdf-4e25-c13d-9c9d5038db3e"
      },
      "execution_count": null,
      "outputs": [
        {
          "output_type": "stream",
          "name": "stderr",
          "text": [
            "<ipython-input-128-cf4e4690cb5f>:3: DtypeWarning: Columns (4) have mixed types. Specify dtype option on import or set low_memory=False.\n",
            "  df = pd.read_csv(url, sep=\";\", encoding='latin-1')\n"
          ]
        },
        {
          "output_type": "execute_result",
          "data": {
            "text/plain": [
              "       Aero #Vuelo  CShare Origen  Via              STA  SUG    ETA  \\\n",
              "0        DN   6049     NaN    IGR  NaN   1/1/2019 01:50  NaN    NaN   \n",
              "1        4M   7623     NaN    COR  NaN   1/1/2019 06:17  NaN  05:50   \n",
              "2        4M   7653     NaN    MDZ  NaN   1/1/2019 07:37  NaN  07:30   \n",
              "3        AR   1671     NaN    NQN  NaN   1/1/2019 07:40  NaN  07:29   \n",
              "4        AR   1611     NaN    MDQ  NaN   1/1/2019 07:55  NaN  07:45   \n",
              "...     ...    ...     ...    ...  ...              ...  ...    ...   \n",
              "127924   WJ   3481     NaN    SLA  NaN  30/9/2022 22:08  NaN  22:03   \n",
              "127925   JA   1003     NaN    SCL  NaN  30/9/2022 22:15  NaN    NaN   \n",
              "127926   WJ   3269     NaN    COR  NaN  30/9/2022 22:21  NaN  22:01   \n",
              "127927   FO   5225     NaN    TUC  NaN  30/9/2022 23:25  NaN  23:20   \n",
              "127928   WJ   3243     NaN    MDZ  NaN  30/9/2022 23:30  NaN  23:15   \n",
              "\n",
              "                    ATA   Tipo  Asignar Pos Ter Sec  Rmk Cin  L&F    Pax  Vip  \\\n",
              "0        1/1/2019 01:22  1 C P      NaN  31   A   2  ATE   8  NaN 100.00  NaN   \n",
              "1        1/1/2019 06:02  1 C P      NaN   9   A   2  ATE   6  NaN  36.00  NaN   \n",
              "2        1/1/2019 07:30  1 C P      NaN  10   A   2  ATE   8  NaN 153.00  NaN   \n",
              "3        1/1/2019 07:26  1 C P      NaN   7   A   2  ATE   1  NaN  28.00  NaN   \n",
              "4        1/1/2019 07:43  1 C P      NaN  26   A   2  ATE   2  NaN 146.00  NaN   \n",
              "...                 ...    ...      ...  ..  ..  ..  ...  ..  ...    ...  ...   \n",
              "127924  30/9/2022 22:05  1 C P      NaN  17   A   N  ATE   9  NaN 187.00  NaN   \n",
              "127925  30/9/2022 22:32  1 I P      NaN  68   A   I  ATE  3I  NaN 150.00  NaN   \n",
              "127926  30/9/2022 22:02  1 C P      NaN  16   A   N  ATE   7  NaN 163.00  NaN   \n",
              "127927  30/9/2022 23:15  1 C P      NaN  66   A   N  ATE   8  NaN 178.00  NaN   \n",
              "127928  30/9/2022 23:19  1 C P      NaN  67   A   N  ATE   3  NaN 164.00  NaN   \n",
              "\n",
              "          Mat  Acft Obs. Aero.1  #Rot  Cabecera   año  mes  hora  \n",
              "0       LVHQH   738  NaN     DN  6062     31.00  2019    1     1  \n",
              "1       LVBFO   320  NaN     4M  7502     31.00  2019    1     6  \n",
              "2       LVGLP   320  NaN     4M  7550     13.00  2019    1     7  \n",
              "3       LVFUA  738W  NaN     AR  1672     13.00  2019    1     7  \n",
              "4       LVGVA  738W  NaN     AR  1496     13.00  2019    1     7  \n",
              "...       ...   ...  ...    ...   ...       ...   ...  ...   ...  \n",
              "127924  LVKDP   320  NaN     WJ  3266     13.00  2022    9    22  \n",
              "127925  CCAWQ  320N  NaN     JA  1004     13.00  2022    9    22  \n",
              "127926  LVHVT   320  NaN     WJ  3461     13.00  2022    9    22  \n",
              "127927  LVKAY  738W  NaN     FO  5042     13.00  2022    9    23  \n",
              "127928  LVIVO   320  NaN     WJ  3444     13.00  2022    9    23  \n",
              "\n",
              "[127929 rows x 28 columns]"
            ],
            "text/html": [
              "\n",
              "  <div id=\"df-8cc6d976-5885-4f83-8471-2d640ddf114e\">\n",
              "    <div class=\"colab-df-container\">\n",
              "      <div>\n",
              "<style scoped>\n",
              "    .dataframe tbody tr th:only-of-type {\n",
              "        vertical-align: middle;\n",
              "    }\n",
              "\n",
              "    .dataframe tbody tr th {\n",
              "        vertical-align: top;\n",
              "    }\n",
              "\n",
              "    .dataframe thead th {\n",
              "        text-align: right;\n",
              "    }\n",
              "</style>\n",
              "<table border=\"1\" class=\"dataframe\">\n",
              "  <thead>\n",
              "    <tr style=\"text-align: right;\">\n",
              "      <th></th>\n",
              "      <th>Aero</th>\n",
              "      <th>#Vuelo</th>\n",
              "      <th>CShare</th>\n",
              "      <th>Origen</th>\n",
              "      <th>Via</th>\n",
              "      <th>STA</th>\n",
              "      <th>SUG</th>\n",
              "      <th>ETA</th>\n",
              "      <th>ATA</th>\n",
              "      <th>Tipo</th>\n",
              "      <th>Asignar</th>\n",
              "      <th>Pos</th>\n",
              "      <th>Ter</th>\n",
              "      <th>Sec</th>\n",
              "      <th>Rmk</th>\n",
              "      <th>Cin</th>\n",
              "      <th>L&amp;F</th>\n",
              "      <th>Pax</th>\n",
              "      <th>Vip</th>\n",
              "      <th>Mat</th>\n",
              "      <th>Acft</th>\n",
              "      <th>Obs.</th>\n",
              "      <th>Aero.1</th>\n",
              "      <th>#Rot</th>\n",
              "      <th>Cabecera</th>\n",
              "      <th>año</th>\n",
              "      <th>mes</th>\n",
              "      <th>hora</th>\n",
              "    </tr>\n",
              "  </thead>\n",
              "  <tbody>\n",
              "    <tr>\n",
              "      <th>0</th>\n",
              "      <td>DN</td>\n",
              "      <td>6049</td>\n",
              "      <td>NaN</td>\n",
              "      <td>IGR</td>\n",
              "      <td>NaN</td>\n",
              "      <td>1/1/2019 01:50</td>\n",
              "      <td>NaN</td>\n",
              "      <td>NaN</td>\n",
              "      <td>1/1/2019 01:22</td>\n",
              "      <td>1 C P</td>\n",
              "      <td>NaN</td>\n",
              "      <td>31</td>\n",
              "      <td>A</td>\n",
              "      <td>2</td>\n",
              "      <td>ATE</td>\n",
              "      <td>8</td>\n",
              "      <td>NaN</td>\n",
              "      <td>100.00</td>\n",
              "      <td>NaN</td>\n",
              "      <td>LVHQH</td>\n",
              "      <td>738</td>\n",
              "      <td>NaN</td>\n",
              "      <td>DN</td>\n",
              "      <td>6062</td>\n",
              "      <td>31.00</td>\n",
              "      <td>2019</td>\n",
              "      <td>1</td>\n",
              "      <td>1</td>\n",
              "    </tr>\n",
              "    <tr>\n",
              "      <th>1</th>\n",
              "      <td>4M</td>\n",
              "      <td>7623</td>\n",
              "      <td>NaN</td>\n",
              "      <td>COR</td>\n",
              "      <td>NaN</td>\n",
              "      <td>1/1/2019 06:17</td>\n",
              "      <td>NaN</td>\n",
              "      <td>05:50</td>\n",
              "      <td>1/1/2019 06:02</td>\n",
              "      <td>1 C P</td>\n",
              "      <td>NaN</td>\n",
              "      <td>9</td>\n",
              "      <td>A</td>\n",
              "      <td>2</td>\n",
              "      <td>ATE</td>\n",
              "      <td>6</td>\n",
              "      <td>NaN</td>\n",
              "      <td>36.00</td>\n",
              "      <td>NaN</td>\n",
              "      <td>LVBFO</td>\n",
              "      <td>320</td>\n",
              "      <td>NaN</td>\n",
              "      <td>4M</td>\n",
              "      <td>7502</td>\n",
              "      <td>31.00</td>\n",
              "      <td>2019</td>\n",
              "      <td>1</td>\n",
              "      <td>6</td>\n",
              "    </tr>\n",
              "    <tr>\n",
              "      <th>2</th>\n",
              "      <td>4M</td>\n",
              "      <td>7653</td>\n",
              "      <td>NaN</td>\n",
              "      <td>MDZ</td>\n",
              "      <td>NaN</td>\n",
              "      <td>1/1/2019 07:37</td>\n",
              "      <td>NaN</td>\n",
              "      <td>07:30</td>\n",
              "      <td>1/1/2019 07:30</td>\n",
              "      <td>1 C P</td>\n",
              "      <td>NaN</td>\n",
              "      <td>10</td>\n",
              "      <td>A</td>\n",
              "      <td>2</td>\n",
              "      <td>ATE</td>\n",
              "      <td>8</td>\n",
              "      <td>NaN</td>\n",
              "      <td>153.00</td>\n",
              "      <td>NaN</td>\n",
              "      <td>LVGLP</td>\n",
              "      <td>320</td>\n",
              "      <td>NaN</td>\n",
              "      <td>4M</td>\n",
              "      <td>7550</td>\n",
              "      <td>13.00</td>\n",
              "      <td>2019</td>\n",
              "      <td>1</td>\n",
              "      <td>7</td>\n",
              "    </tr>\n",
              "    <tr>\n",
              "      <th>3</th>\n",
              "      <td>AR</td>\n",
              "      <td>1671</td>\n",
              "      <td>NaN</td>\n",
              "      <td>NQN</td>\n",
              "      <td>NaN</td>\n",
              "      <td>1/1/2019 07:40</td>\n",
              "      <td>NaN</td>\n",
              "      <td>07:29</td>\n",
              "      <td>1/1/2019 07:26</td>\n",
              "      <td>1 C P</td>\n",
              "      <td>NaN</td>\n",
              "      <td>7</td>\n",
              "      <td>A</td>\n",
              "      <td>2</td>\n",
              "      <td>ATE</td>\n",
              "      <td>1</td>\n",
              "      <td>NaN</td>\n",
              "      <td>28.00</td>\n",
              "      <td>NaN</td>\n",
              "      <td>LVFUA</td>\n",
              "      <td>738W</td>\n",
              "      <td>NaN</td>\n",
              "      <td>AR</td>\n",
              "      <td>1672</td>\n",
              "      <td>13.00</td>\n",
              "      <td>2019</td>\n",
              "      <td>1</td>\n",
              "      <td>7</td>\n",
              "    </tr>\n",
              "    <tr>\n",
              "      <th>4</th>\n",
              "      <td>AR</td>\n",
              "      <td>1611</td>\n",
              "      <td>NaN</td>\n",
              "      <td>MDQ</td>\n",
              "      <td>NaN</td>\n",
              "      <td>1/1/2019 07:55</td>\n",
              "      <td>NaN</td>\n",
              "      <td>07:45</td>\n",
              "      <td>1/1/2019 07:43</td>\n",
              "      <td>1 C P</td>\n",
              "      <td>NaN</td>\n",
              "      <td>26</td>\n",
              "      <td>A</td>\n",
              "      <td>2</td>\n",
              "      <td>ATE</td>\n",
              "      <td>2</td>\n",
              "      <td>NaN</td>\n",
              "      <td>146.00</td>\n",
              "      <td>NaN</td>\n",
              "      <td>LVGVA</td>\n",
              "      <td>738W</td>\n",
              "      <td>NaN</td>\n",
              "      <td>AR</td>\n",
              "      <td>1496</td>\n",
              "      <td>13.00</td>\n",
              "      <td>2019</td>\n",
              "      <td>1</td>\n",
              "      <td>7</td>\n",
              "    </tr>\n",
              "    <tr>\n",
              "      <th>...</th>\n",
              "      <td>...</td>\n",
              "      <td>...</td>\n",
              "      <td>...</td>\n",
              "      <td>...</td>\n",
              "      <td>...</td>\n",
              "      <td>...</td>\n",
              "      <td>...</td>\n",
              "      <td>...</td>\n",
              "      <td>...</td>\n",
              "      <td>...</td>\n",
              "      <td>...</td>\n",
              "      <td>...</td>\n",
              "      <td>...</td>\n",
              "      <td>...</td>\n",
              "      <td>...</td>\n",
              "      <td>...</td>\n",
              "      <td>...</td>\n",
              "      <td>...</td>\n",
              "      <td>...</td>\n",
              "      <td>...</td>\n",
              "      <td>...</td>\n",
              "      <td>...</td>\n",
              "      <td>...</td>\n",
              "      <td>...</td>\n",
              "      <td>...</td>\n",
              "      <td>...</td>\n",
              "      <td>...</td>\n",
              "      <td>...</td>\n",
              "    </tr>\n",
              "    <tr>\n",
              "      <th>127924</th>\n",
              "      <td>WJ</td>\n",
              "      <td>3481</td>\n",
              "      <td>NaN</td>\n",
              "      <td>SLA</td>\n",
              "      <td>NaN</td>\n",
              "      <td>30/9/2022 22:08</td>\n",
              "      <td>NaN</td>\n",
              "      <td>22:03</td>\n",
              "      <td>30/9/2022 22:05</td>\n",
              "      <td>1 C P</td>\n",
              "      <td>NaN</td>\n",
              "      <td>17</td>\n",
              "      <td>A</td>\n",
              "      <td>N</td>\n",
              "      <td>ATE</td>\n",
              "      <td>9</td>\n",
              "      <td>NaN</td>\n",
              "      <td>187.00</td>\n",
              "      <td>NaN</td>\n",
              "      <td>LVKDP</td>\n",
              "      <td>320</td>\n",
              "      <td>NaN</td>\n",
              "      <td>WJ</td>\n",
              "      <td>3266</td>\n",
              "      <td>13.00</td>\n",
              "      <td>2022</td>\n",
              "      <td>9</td>\n",
              "      <td>22</td>\n",
              "    </tr>\n",
              "    <tr>\n",
              "      <th>127925</th>\n",
              "      <td>JA</td>\n",
              "      <td>1003</td>\n",
              "      <td>NaN</td>\n",
              "      <td>SCL</td>\n",
              "      <td>NaN</td>\n",
              "      <td>30/9/2022 22:15</td>\n",
              "      <td>NaN</td>\n",
              "      <td>NaN</td>\n",
              "      <td>30/9/2022 22:32</td>\n",
              "      <td>1 I P</td>\n",
              "      <td>NaN</td>\n",
              "      <td>68</td>\n",
              "      <td>A</td>\n",
              "      <td>I</td>\n",
              "      <td>ATE</td>\n",
              "      <td>3I</td>\n",
              "      <td>NaN</td>\n",
              "      <td>150.00</td>\n",
              "      <td>NaN</td>\n",
              "      <td>CCAWQ</td>\n",
              "      <td>320N</td>\n",
              "      <td>NaN</td>\n",
              "      <td>JA</td>\n",
              "      <td>1004</td>\n",
              "      <td>13.00</td>\n",
              "      <td>2022</td>\n",
              "      <td>9</td>\n",
              "      <td>22</td>\n",
              "    </tr>\n",
              "    <tr>\n",
              "      <th>127926</th>\n",
              "      <td>WJ</td>\n",
              "      <td>3269</td>\n",
              "      <td>NaN</td>\n",
              "      <td>COR</td>\n",
              "      <td>NaN</td>\n",
              "      <td>30/9/2022 22:21</td>\n",
              "      <td>NaN</td>\n",
              "      <td>22:01</td>\n",
              "      <td>30/9/2022 22:02</td>\n",
              "      <td>1 C P</td>\n",
              "      <td>NaN</td>\n",
              "      <td>16</td>\n",
              "      <td>A</td>\n",
              "      <td>N</td>\n",
              "      <td>ATE</td>\n",
              "      <td>7</td>\n",
              "      <td>NaN</td>\n",
              "      <td>163.00</td>\n",
              "      <td>NaN</td>\n",
              "      <td>LVHVT</td>\n",
              "      <td>320</td>\n",
              "      <td>NaN</td>\n",
              "      <td>WJ</td>\n",
              "      <td>3461</td>\n",
              "      <td>13.00</td>\n",
              "      <td>2022</td>\n",
              "      <td>9</td>\n",
              "      <td>22</td>\n",
              "    </tr>\n",
              "    <tr>\n",
              "      <th>127927</th>\n",
              "      <td>FO</td>\n",
              "      <td>5225</td>\n",
              "      <td>NaN</td>\n",
              "      <td>TUC</td>\n",
              "      <td>NaN</td>\n",
              "      <td>30/9/2022 23:25</td>\n",
              "      <td>NaN</td>\n",
              "      <td>23:20</td>\n",
              "      <td>30/9/2022 23:15</td>\n",
              "      <td>1 C P</td>\n",
              "      <td>NaN</td>\n",
              "      <td>66</td>\n",
              "      <td>A</td>\n",
              "      <td>N</td>\n",
              "      <td>ATE</td>\n",
              "      <td>8</td>\n",
              "      <td>NaN</td>\n",
              "      <td>178.00</td>\n",
              "      <td>NaN</td>\n",
              "      <td>LVKAY</td>\n",
              "      <td>738W</td>\n",
              "      <td>NaN</td>\n",
              "      <td>FO</td>\n",
              "      <td>5042</td>\n",
              "      <td>13.00</td>\n",
              "      <td>2022</td>\n",
              "      <td>9</td>\n",
              "      <td>23</td>\n",
              "    </tr>\n",
              "    <tr>\n",
              "      <th>127928</th>\n",
              "      <td>WJ</td>\n",
              "      <td>3243</td>\n",
              "      <td>NaN</td>\n",
              "      <td>MDZ</td>\n",
              "      <td>NaN</td>\n",
              "      <td>30/9/2022 23:30</td>\n",
              "      <td>NaN</td>\n",
              "      <td>23:15</td>\n",
              "      <td>30/9/2022 23:19</td>\n",
              "      <td>1 C P</td>\n",
              "      <td>NaN</td>\n",
              "      <td>67</td>\n",
              "      <td>A</td>\n",
              "      <td>N</td>\n",
              "      <td>ATE</td>\n",
              "      <td>3</td>\n",
              "      <td>NaN</td>\n",
              "      <td>164.00</td>\n",
              "      <td>NaN</td>\n",
              "      <td>LVIVO</td>\n",
              "      <td>320</td>\n",
              "      <td>NaN</td>\n",
              "      <td>WJ</td>\n",
              "      <td>3444</td>\n",
              "      <td>13.00</td>\n",
              "      <td>2022</td>\n",
              "      <td>9</td>\n",
              "      <td>23</td>\n",
              "    </tr>\n",
              "  </tbody>\n",
              "</table>\n",
              "<p>127929 rows × 28 columns</p>\n",
              "</div>\n",
              "      <button class=\"colab-df-convert\" onclick=\"convertToInteractive('df-8cc6d976-5885-4f83-8471-2d640ddf114e')\"\n",
              "              title=\"Convert this dataframe to an interactive table.\"\n",
              "              style=\"display:none;\">\n",
              "        \n",
              "  <svg xmlns=\"http://www.w3.org/2000/svg\" height=\"24px\"viewBox=\"0 0 24 24\"\n",
              "       width=\"24px\">\n",
              "    <path d=\"M0 0h24v24H0V0z\" fill=\"none\"/>\n",
              "    <path d=\"M18.56 5.44l.94 2.06.94-2.06 2.06-.94-2.06-.94-.94-2.06-.94 2.06-2.06.94zm-11 1L8.5 8.5l.94-2.06 2.06-.94-2.06-.94L8.5 2.5l-.94 2.06-2.06.94zm10 10l.94 2.06.94-2.06 2.06-.94-2.06-.94-.94-2.06-.94 2.06-2.06.94z\"/><path d=\"M17.41 7.96l-1.37-1.37c-.4-.4-.92-.59-1.43-.59-.52 0-1.04.2-1.43.59L10.3 9.45l-7.72 7.72c-.78.78-.78 2.05 0 2.83L4 21.41c.39.39.9.59 1.41.59.51 0 1.02-.2 1.41-.59l7.78-7.78 2.81-2.81c.8-.78.8-2.07 0-2.86zM5.41 20L4 18.59l7.72-7.72 1.47 1.35L5.41 20z\"/>\n",
              "  </svg>\n",
              "      </button>\n",
              "      \n",
              "  <style>\n",
              "    .colab-df-container {\n",
              "      display:flex;\n",
              "      flex-wrap:wrap;\n",
              "      gap: 12px;\n",
              "    }\n",
              "\n",
              "    .colab-df-convert {\n",
              "      background-color: #E8F0FE;\n",
              "      border: none;\n",
              "      border-radius: 50%;\n",
              "      cursor: pointer;\n",
              "      display: none;\n",
              "      fill: #1967D2;\n",
              "      height: 32px;\n",
              "      padding: 0 0 0 0;\n",
              "      width: 32px;\n",
              "    }\n",
              "\n",
              "    .colab-df-convert:hover {\n",
              "      background-color: #E2EBFA;\n",
              "      box-shadow: 0px 1px 2px rgba(60, 64, 67, 0.3), 0px 1px 3px 1px rgba(60, 64, 67, 0.15);\n",
              "      fill: #174EA6;\n",
              "    }\n",
              "\n",
              "    [theme=dark] .colab-df-convert {\n",
              "      background-color: #3B4455;\n",
              "      fill: #D2E3FC;\n",
              "    }\n",
              "\n",
              "    [theme=dark] .colab-df-convert:hover {\n",
              "      background-color: #434B5C;\n",
              "      box-shadow: 0px 1px 3px 1px rgba(0, 0, 0, 0.15);\n",
              "      filter: drop-shadow(0px 1px 2px rgba(0, 0, 0, 0.3));\n",
              "      fill: #FFFFFF;\n",
              "    }\n",
              "  </style>\n",
              "\n",
              "      <script>\n",
              "        const buttonEl =\n",
              "          document.querySelector('#df-8cc6d976-5885-4f83-8471-2d640ddf114e button.colab-df-convert');\n",
              "        buttonEl.style.display =\n",
              "          google.colab.kernel.accessAllowed ? 'block' : 'none';\n",
              "\n",
              "        async function convertToInteractive(key) {\n",
              "          const element = document.querySelector('#df-8cc6d976-5885-4f83-8471-2d640ddf114e');\n",
              "          const dataTable =\n",
              "            await google.colab.kernel.invokeFunction('convertToInteractive',\n",
              "                                                     [key], {});\n",
              "          if (!dataTable) return;\n",
              "\n",
              "          const docLinkHtml = 'Like what you see? Visit the ' +\n",
              "            '<a target=\"_blank\" href=https://colab.research.google.com/notebooks/data_table.ipynb>data table notebook</a>'\n",
              "            + ' to learn more about interactive tables.';\n",
              "          element.innerHTML = '';\n",
              "          dataTable['output_type'] = 'display_data';\n",
              "          await google.colab.output.renderOutput(dataTable, element);\n",
              "          const docLink = document.createElement('div');\n",
              "          docLink.innerHTML = docLinkHtml;\n",
              "          element.appendChild(docLink);\n",
              "        }\n",
              "      </script>\n",
              "    </div>\n",
              "  </div>\n",
              "  "
            ]
          },
          "metadata": {},
          "execution_count": 128
        }
      ]
    },
    {
      "cell_type": "markdown",
      "source": [
        "## Tipos de datos\n",
        "\n",
        "**Columnas**:\n",
        "* Nombre_Aerolinea: Aerolinea --> categórico\n",
        "* Codigo_Vuelo --> categórico, código único por vuelo\n",
        "* Ruta_Vuelo: Ruta del vuelo --> categórica\n",
        "* Horario_Prog_Arribo: Horario programado de arribo. Es el horario de arribo al momento de comprar el pasaje. --> categórica temporal.\n",
        "* Horario_Estimado_Arribo: Estimated Time Arrival.Es el horario de arribo actualizado al momento que el vuelo parte. --> categórica temporal.\n",
        "* Horario_Actual_Arribo: Actual Time Arrival. Es el horario real de arribo. --> categórica temporal.\n",
        "* Tipo_Vuelo: Codificación del tipo de vuelo --> categórica\n",
        "* Posicion_Arribo: Posición asignada al arribo --> categórica\n",
        "* Terminal_Arribo: Terminal en que opera el arribo --> categórica\n",
        "* Sector: sector asociado a la terminal --> categórica\n",
        "* Estado_vuelo: Estado del vuelo --> categórica\n",
        "* Cinta_equipajes: Cinta asignada para retirar equipajes --> categórica\n",
        "* Cant_Pasajeros: Cantidad de pasajeros\n",
        "* Matricula_Aeronave: MAtricula de la aeronave --> categórica\n",
        "* Tipo_aeronave: Tipo de aeronave --> categórica\n",
        "* Nombre_Aerolinea_Partida: empresa aerea asociada a la partida --> categórica\n",
        "* Vuelo_Partida: Vuelo asociado a la partida --> categórica\n",
        "* Cabecera_Arribo: Cabecera de pista donde operó el arribo --> categórica\n",
        "* Año_Vuelo: año de operación del vuelo --> categórica temporal\n",
        "* Mes_Vuelo: mes de operación del vuelo --> categórica\n",
        "\n",
        "Columnas eliminadas posteriormente por tener muchos o todos los datos vacíos: Via, Obs., L&F, Vip, SUG, CShare, Asignar"
      ],
      "metadata": {
        "id": "M35Y7D1PmnQu"
      }
    },
    {
      "cell_type": "code",
      "source": [
        "#@title Generación del reporte a través de ydata-profiling para un primer análisis\n",
        "profile = ProfileReport(df, title=\"Profiling Report\")\n",
        "#profile.to_file(\"ReporteFull.html\")\n",
        "#from wordcloud import WordCloud\n",
        "#from pillow import ImageFont\n",
        "#font = ImageFont.truetype('Roboto-Bold.ttf', size=10)\n",
        "#ImageFont.truetype('Roboto-Bold.ttf', size=10)"
      ],
      "metadata": {
        "id": "GPKHLjgUpG31",
        "colab": {
          "base_uri": "https://localhost:8080/",
          "height": 235
        },
        "outputId": "837f77a6-5cda-4cb4-bfdf-1eb56de70514"
      },
      "execution_count": null,
      "outputs": [
        {
          "output_type": "error",
          "ename": "NameError",
          "evalue": "ignored",
          "traceback": [
            "\u001b[0;31m---------------------------------------------------------------------------\u001b[0m",
            "\u001b[0;31mNameError\u001b[0m                                 Traceback (most recent call last)",
            "\u001b[0;32m<ipython-input-129-3a0c24f76d68>\u001b[0m in \u001b[0;36m<cell line: 2>\u001b[0;34m()\u001b[0m\n\u001b[1;32m      1\u001b[0m \u001b[0;31m#@title Generación del reporte a través de ydata-profiling para un primer análisis\u001b[0m\u001b[0;34m\u001b[0m\u001b[0;34m\u001b[0m\u001b[0m\n\u001b[0;32m----> 2\u001b[0;31m \u001b[0mprofile\u001b[0m \u001b[0;34m=\u001b[0m \u001b[0mProfileReport\u001b[0m\u001b[0;34m(\u001b[0m\u001b[0mdf\u001b[0m\u001b[0;34m,\u001b[0m \u001b[0mtitle\u001b[0m\u001b[0;34m=\u001b[0m\u001b[0;34m\"Profiling Report\"\u001b[0m\u001b[0;34m)\u001b[0m\u001b[0;34m\u001b[0m\u001b[0;34m\u001b[0m\u001b[0m\n\u001b[0m\u001b[1;32m      3\u001b[0m \u001b[0;31m#profile.to_file(\"ReporteFull.html\")\u001b[0m\u001b[0;34m\u001b[0m\u001b[0;34m\u001b[0m\u001b[0m\n\u001b[1;32m      4\u001b[0m \u001b[0;31m#from wordcloud import WordCloud\u001b[0m\u001b[0;34m\u001b[0m\u001b[0;34m\u001b[0m\u001b[0m\n\u001b[1;32m      5\u001b[0m \u001b[0;31m#from pillow import ImageFont\u001b[0m\u001b[0;34m\u001b[0m\u001b[0;34m\u001b[0m\u001b[0m\n",
            "\u001b[0;31mNameError\u001b[0m: name 'ProfileReport' is not defined"
          ]
        }
      ]
    },
    {
      "cell_type": "code",
      "source": [
        "# Se exporta al drive el reporte\n",
        "profile.to_file(path+\"ReporteFull.html\")"
      ],
      "metadata": {
        "id": "wi-OYjB_aE77"
      },
      "execution_count": null,
      "outputs": []
    },
    {
      "cell_type": "code",
      "source": [
        "# Se genera el reporte dentro de la notebook\n",
        "#profile.to_widgets()\n",
        "profile.to_notebook_iframe()"
      ],
      "metadata": {
        "id": "2Aey9iUepf9k"
      },
      "execution_count": null,
      "outputs": []
    },
    {
      "cell_type": "markdown",
      "source": [
        "Del análisis del reporte podemos descartar las siguientes columnas por no contener datos o estar prácticamente vacías:\n",
        "* CShare (sin datos)\n",
        "* Via\n",
        "* SUG (sin datos)\n",
        "* Asignar (sin datos)\n",
        "* L&F\n",
        "* Vip\n",
        "* Obs\n",
        "\n",
        "\n"
      ],
      "metadata": {
        "id": "sxGJrhKGUeR1"
      }
    },
    {
      "cell_type": "code",
      "source": [
        "#gráfico de missing values para todo el dataset\n",
        "plt.figure(figsize=(10,5))\n",
        "sns.heatmap(df.isnull(), cbar=False)\n",
        "plt.show()\n",
        "msno.bar(df,figsize=(10, 5), fontsize=12, color='steelblue')"
      ],
      "metadata": {
        "id": "n280Hjj5Vo_2",
        "colab": {
          "base_uri": "https://localhost:8080/",
          "height": 1000
        },
        "outputId": "b6a0406e-c070-46f9-e504-f98528332fde"
      },
      "execution_count": null,
      "outputs": [
        {
          "output_type": "display_data",
          "data": {
            "text/plain": [
              "<Figure size 1000x500 with 1 Axes>"
            ],
            "image/png": "[encoded data removed]"
          },
          "metadata": {}
        },
        {
          "output_type": "execute_result",
          "data": {
            "text/plain": [
              "<Axes: >"
            ]
          },
          "metadata": {},
          "execution_count": 130
        },
        {
          "output_type": "display_data",
          "data": {
            "text/plain": [
              "<Figure size 1000x500 with 3 Axes>"
            ],
            "image/png": "[encoded data removed]"
          },
          "metadata": {}
        }
      ]
    },
    {
      "cell_type": "markdown",
      "metadata": {
        "id": "6XrqrA961dg5"
      },
      "source": [
        "##c) Consideramos que el objetivo podria ser cumplido con los datos existentes?\n",
        "\n",
        "Consideramos que sería útil agregar información geográfica sobre los aeropuertos, así como información del tipo de aeronave: su uso más común y su capacidad máxima de pasajeros. Para ello hemos preparado estas bases de datos:"
      ]
    },
    {
      "cell_type": "code",
      "execution_count": null,
      "metadata": {
        "colab": {
          "base_uri": "https://localhost:8080/",
          "height": 206
        },
        "id": "9oPPXrzjFSsk",
        "outputId": "809c0af8-6e0d-4831-8a84-c58f608f6f3f"
      },
      "outputs": [
        {
          "output_type": "execute_result",
          "data": {
            "text/plain": [
              "  Código_aeropuerto                     Nombre_aeropuerto       Pais  \\\n",
              "0               ABV  Nnamdi Azikiwe International Airport    Nigeria   \n",
              "1               AEP              Aeroparque Jorge Newbery  Argentina   \n",
              "2               AFA                    San Rafael Airport  Argentina   \n",
              "3               ANF    Cerro Moreno International Airport      Chile   \n",
              "4               ANU       V.C. Bird International Airport    Antigua   \n",
              "\n",
              "         Ciudad  \n",
              "0         Abuja  \n",
              "1  Buenos Aires  \n",
              "2    San Rafael  \n",
              "3   Antofagasta  \n",
              "4    St. John's  "
            ],
            "text/html": [
              "\n",
              "  <div id=\"df-941cf3b8-a519-4f92-9057-11038cb4655c\">\n",
              "    <div class=\"colab-df-container\">\n",
              "      <div>\n",
              "<style scoped>\n",
              "    .dataframe tbody tr th:only-of-type {\n",
              "        vertical-align: middle;\n",
              "    }\n",
              "\n",
              "    .dataframe tbody tr th {\n",
              "        vertical-align: top;\n",
              "    }\n",
              "\n",
              "    .dataframe thead th {\n",
              "        text-align: right;\n",
              "    }\n",
              "</style>\n",
              "<table border=\"1\" class=\"dataframe\">\n",
              "  <thead>\n",
              "    <tr style=\"text-align: right;\">\n",
              "      <th></th>\n",
              "      <th>Código_aeropuerto</th>\n",
              "      <th>Nombre_aeropuerto</th>\n",
              "      <th>Pais</th>\n",
              "      <th>Ciudad</th>\n",
              "    </tr>\n",
              "  </thead>\n",
              "  <tbody>\n",
              "    <tr>\n",
              "      <th>0</th>\n",
              "      <td>ABV</td>\n",
              "      <td>Nnamdi Azikiwe International Airport</td>\n",
              "      <td>Nigeria</td>\n",
              "      <td>Abuja</td>\n",
              "    </tr>\n",
              "    <tr>\n",
              "      <th>1</th>\n",
              "      <td>AEP</td>\n",
              "      <td>Aeroparque Jorge Newbery</td>\n",
              "      <td>Argentina</td>\n",
              "      <td>Buenos Aires</td>\n",
              "    </tr>\n",
              "    <tr>\n",
              "      <th>2</th>\n",
              "      <td>AFA</td>\n",
              "      <td>San Rafael Airport</td>\n",
              "      <td>Argentina</td>\n",
              "      <td>San Rafael</td>\n",
              "    </tr>\n",
              "    <tr>\n",
              "      <th>3</th>\n",
              "      <td>ANF</td>\n",
              "      <td>Cerro Moreno International Airport</td>\n",
              "      <td>Chile</td>\n",
              "      <td>Antofagasta</td>\n",
              "    </tr>\n",
              "    <tr>\n",
              "      <th>4</th>\n",
              "      <td>ANU</td>\n",
              "      <td>V.C. Bird International Airport</td>\n",
              "      <td>Antigua</td>\n",
              "      <td>St. John's</td>\n",
              "    </tr>\n",
              "  </tbody>\n",
              "</table>\n",
              "</div>\n",
              "      <button class=\"colab-df-convert\" onclick=\"convertToInteractive('df-941cf3b8-a519-4f92-9057-11038cb4655c')\"\n",
              "              title=\"Convert this dataframe to an interactive table.\"\n",
              "              style=\"display:none;\">\n",
              "        \n",
              "  <svg xmlns=\"http://www.w3.org/2000/svg\" height=\"24px\"viewBox=\"0 0 24 24\"\n",
              "       width=\"24px\">\n",
              "    <path d=\"M0 0h24v24H0V0z\" fill=\"none\"/>\n",
              "    <path d=\"M18.56 5.44l.94 2.06.94-2.06 2.06-.94-2.06-.94-.94-2.06-.94 2.06-2.06.94zm-11 1L8.5 8.5l.94-2.06 2.06-.94-2.06-.94L8.5 2.5l-.94 2.06-2.06.94zm10 10l.94 2.06.94-2.06 2.06-.94-2.06-.94-.94-2.06-.94 2.06-2.06.94z\"/><path d=\"M17.41 7.96l-1.37-1.37c-.4-.4-.92-.59-1.43-.59-.52 0-1.04.2-1.43.59L10.3 9.45l-7.72 7.72c-.78.78-.78 2.05 0 2.83L4 21.41c.39.39.9.59 1.41.59.51 0 1.02-.2 1.41-.59l7.78-7.78 2.81-2.81c.8-.78.8-2.07 0-2.86zM5.41 20L4 18.59l7.72-7.72 1.47 1.35L5.41 20z\"/>\n",
              "  </svg>\n",
              "      </button>\n",
              "      \n",
              "  <style>\n",
              "    .colab-df-container {\n",
              "      display:flex;\n",
              "      flex-wrap:wrap;\n",
              "      gap: 12px;\n",
              "    }\n",
              "\n",
              "    .colab-df-convert {\n",
              "      background-color: #E8F0FE;\n",
              "      border: none;\n",
              "      border-radius: 50%;\n",
              "      cursor: pointer;\n",
              "      display: none;\n",
              "      fill: #1967D2;\n",
              "      height: 32px;\n",
              "      padding: 0 0 0 0;\n",
              "      width: 32px;\n",
              "    }\n",
              "\n",
              "    .colab-df-convert:hover {\n",
              "      background-color: #E2EBFA;\n",
              "      box-shadow: 0px 1px 2px rgba(60, 64, 67, 0.3), 0px 1px 3px 1px rgba(60, 64, 67, 0.15);\n",
              "      fill: #174EA6;\n",
              "    }\n",
              "\n",
              "    [theme=dark] .colab-df-convert {\n",
              "      background-color: #3B4455;\n",
              "      fill: #D2E3FC;\n",
              "    }\n",
              "\n",
              "    [theme=dark] .colab-df-convert:hover {\n",
              "      background-color: #434B5C;\n",
              "      box-shadow: 0px 1px 3px 1px rgba(0, 0, 0, 0.15);\n",
              "      filter: drop-shadow(0px 1px 2px rgba(0, 0, 0, 0.3));\n",
              "      fill: #FFFFFF;\n",
              "    }\n",
              "  </style>\n",
              "\n",
              "      <script>\n",
              "        const buttonEl =\n",
              "          document.querySelector('#df-941cf3b8-a519-4f92-9057-11038cb4655c button.colab-df-convert');\n",
              "        buttonEl.style.display =\n",
              "          google.colab.kernel.accessAllowed ? 'block' : 'none';\n",
              "\n",
              "        async function convertToInteractive(key) {\n",
              "          const element = document.querySelector('#df-941cf3b8-a519-4f92-9057-11038cb4655c');\n",
              "          const dataTable =\n",
              "            await google.colab.kernel.invokeFunction('convertToInteractive',\n",
              "                                                     [key], {});\n",
              "          if (!dataTable) return;\n",
              "\n",
              "          const docLinkHtml = 'Like what you see? Visit the ' +\n",
              "            '<a target=\"_blank\" href=https://colab.research.google.com/notebooks/data_table.ipynb>data table notebook</a>'\n",
              "            + ' to learn more about interactive tables.';\n",
              "          element.innerHTML = '';\n",
              "          dataTable['output_type'] = 'display_data';\n",
              "          await google.colab.output.renderOutput(dataTable, element);\n",
              "          const docLink = document.createElement('div');\n",
              "          docLink.innerHTML = docLinkHtml;\n",
              "          element.appendChild(docLink);\n",
              "        }\n",
              "      </script>\n",
              "    </div>\n",
              "  </div>\n",
              "  "
            ]
          },
          "metadata": {},
          "execution_count": 131
        }
      ],
      "source": [
        "Link_Aeropuertos = 'https://raw.githubusercontent.com/Fran-Brogiolo/DataScienceDiploma/master/Mentor%C3%ADa%20Big%20Data%20Bang/Aeropuertos.csv'\n",
        "Aeropuertos_df = pd.read_csv(Link_Aeropuertos)# , sep=',')\n",
        "Aeropuertos_df[:5]"
      ]
    },
    {
      "cell_type": "code",
      "source": [
        "Link_Aeronaves = 'https://raw.githubusercontent.com/Fran-Brogiolo/DataScienceDiploma/master/Mentor%C3%ADa%20Big%20Data%20Bang/Aeronaves.csv'\n",
        "Aeronaves_df = pd.read_csv(Link_Aeronaves , encoding='latin-1')\n",
        "Aeronaves_df[:5]"
      ],
      "metadata": {
        "colab": {
          "base_uri": "https://localhost:8080/",
          "height": 206
        },
        "id": "phke9JAhKGh3",
        "outputId": "669e3e39-ee3c-4a5f-9de3-db97bff1af7d"
      },
      "execution_count": null,
      "outputs": [
        {
          "output_type": "execute_result",
          "data": {
            "text/plain": [
              "  Tipo de Aeronave Capacidad máxima de pasajeros            Uso más común\n",
              "0              738                           189  Transporte de pasajeros\n",
              "1              320                           180  Transporte de pasajeros\n",
              "2             738W                           189  Transporte de pasajeros\n",
              "3             E190                           114  Transporte de pasajeros\n",
              "4             737W                           189  Transporte de pasajeros"
            ],
            "text/html": [
              "\n",
              "  <div id=\"df-347257b0-3f38-445b-bd62-dea1a82bcf24\">\n",
              "    <div class=\"colab-df-container\">\n",
              "      <div>\n",
              "<style scoped>\n",
              "    .dataframe tbody tr th:only-of-type {\n",
              "        vertical-align: middle;\n",
              "    }\n",
              "\n",
              "    .dataframe tbody tr th {\n",
              "        vertical-align: top;\n",
              "    }\n",
              "\n",
              "    .dataframe thead th {\n",
              "        text-align: right;\n",
              "    }\n",
              "</style>\n",
              "<table border=\"1\" class=\"dataframe\">\n",
              "  <thead>\n",
              "    <tr style=\"text-align: right;\">\n",
              "      <th></th>\n",
              "      <th>Tipo de Aeronave</th>\n",
              "      <th>Capacidad máxima de pasajeros</th>\n",
              "      <th>Uso más común</th>\n",
              "    </tr>\n",
              "  </thead>\n",
              "  <tbody>\n",
              "    <tr>\n",
              "      <th>0</th>\n",
              "      <td>738</td>\n",
              "      <td>189</td>\n",
              "      <td>Transporte de pasajeros</td>\n",
              "    </tr>\n",
              "    <tr>\n",
              "      <th>1</th>\n",
              "      <td>320</td>\n",
              "      <td>180</td>\n",
              "      <td>Transporte de pasajeros</td>\n",
              "    </tr>\n",
              "    <tr>\n",
              "      <th>2</th>\n",
              "      <td>738W</td>\n",
              "      <td>189</td>\n",
              "      <td>Transporte de pasajeros</td>\n",
              "    </tr>\n",
              "    <tr>\n",
              "      <th>3</th>\n",
              "      <td>E190</td>\n",
              "      <td>114</td>\n",
              "      <td>Transporte de pasajeros</td>\n",
              "    </tr>\n",
              "    <tr>\n",
              "      <th>4</th>\n",
              "      <td>737W</td>\n",
              "      <td>189</td>\n",
              "      <td>Transporte de pasajeros</td>\n",
              "    </tr>\n",
              "  </tbody>\n",
              "</table>\n",
              "</div>\n",
              "      <button class=\"colab-df-convert\" onclick=\"convertToInteractive('df-347257b0-3f38-445b-bd62-dea1a82bcf24')\"\n",
              "              title=\"Convert this dataframe to an interactive table.\"\n",
              "              style=\"display:none;\">\n",
              "        \n",
              "  <svg xmlns=\"http://www.w3.org/2000/svg\" height=\"24px\"viewBox=\"0 0 24 24\"\n",
              "       width=\"24px\">\n",
              "    <path d=\"M0 0h24v24H0V0z\" fill=\"none\"/>\n",
              "    <path d=\"M18.56 5.44l.94 2.06.94-2.06 2.06-.94-2.06-.94-.94-2.06-.94 2.06-2.06.94zm-11 1L8.5 8.5l.94-2.06 2.06-.94-2.06-.94L8.5 2.5l-.94 2.06-2.06.94zm10 10l.94 2.06.94-2.06 2.06-.94-2.06-.94-.94-2.06-.94 2.06-2.06.94z\"/><path d=\"M17.41 7.96l-1.37-1.37c-.4-.4-.92-.59-1.43-.59-.52 0-1.04.2-1.43.59L10.3 9.45l-7.72 7.72c-.78.78-.78 2.05 0 2.83L4 21.41c.39.39.9.59 1.41.59.51 0 1.02-.2 1.41-.59l7.78-7.78 2.81-2.81c.8-.78.8-2.07 0-2.86zM5.41 20L4 18.59l7.72-7.72 1.47 1.35L5.41 20z\"/>\n",
              "  </svg>\n",
              "      </button>\n",
              "      \n",
              "  <style>\n",
              "    .colab-df-container {\n",
              "      display:flex;\n",
              "      flex-wrap:wrap;\n",
              "      gap: 12px;\n",
              "    }\n",
              "\n",
              "    .colab-df-convert {\n",
              "      background-color: #E8F0FE;\n",
              "      border: none;\n",
              "      border-radius: 50%;\n",
              "      cursor: pointer;\n",
              "      display: none;\n",
              "      fill: #1967D2;\n",
              "      height: 32px;\n",
              "      padding: 0 0 0 0;\n",
              "      width: 32px;\n",
              "    }\n",
              "\n",
              "    .colab-df-convert:hover {\n",
              "      background-color: #E2EBFA;\n",
              "      box-shadow: 0px 1px 2px rgba(60, 64, 67, 0.3), 0px 1px 3px 1px rgba(60, 64, 67, 0.15);\n",
              "      fill: #174EA6;\n",
              "    }\n",
              "\n",
              "    [theme=dark] .colab-df-convert {\n",
              "      background-color: #3B4455;\n",
              "      fill: #D2E3FC;\n",
              "    }\n",
              "\n",
              "    [theme=dark] .colab-df-convert:hover {\n",
              "      background-color: #434B5C;\n",
              "      box-shadow: 0px 1px 3px 1px rgba(0, 0, 0, 0.15);\n",
              "      filter: drop-shadow(0px 1px 2px rgba(0, 0, 0, 0.3));\n",
              "      fill: #FFFFFF;\n",
              "    }\n",
              "  </style>\n",
              "\n",
              "      <script>\n",
              "        const buttonEl =\n",
              "          document.querySelector('#df-347257b0-3f38-445b-bd62-dea1a82bcf24 button.colab-df-convert');\n",
              "        buttonEl.style.display =\n",
              "          google.colab.kernel.accessAllowed ? 'block' : 'none';\n",
              "\n",
              "        async function convertToInteractive(key) {\n",
              "          const element = document.querySelector('#df-347257b0-3f38-445b-bd62-dea1a82bcf24');\n",
              "          const dataTable =\n",
              "            await google.colab.kernel.invokeFunction('convertToInteractive',\n",
              "                                                     [key], {});\n",
              "          if (!dataTable) return;\n",
              "\n",
              "          const docLinkHtml = 'Like what you see? Visit the ' +\n",
              "            '<a target=\"_blank\" href=https://colab.research.google.com/notebooks/data_table.ipynb>data table notebook</a>'\n",
              "            + ' to learn more about interactive tables.';\n",
              "          element.innerHTML = '';\n",
              "          dataTable['output_type'] = 'display_data';\n",
              "          await google.colab.output.renderOutput(dataTable, element);\n",
              "          const docLink = document.createElement('div');\n",
              "          docLink.innerHTML = docLinkHtml;\n",
              "          element.appendChild(docLink);\n",
              "        }\n",
              "      </script>\n",
              "    </div>\n",
              "  </div>\n",
              "  "
            ]
          },
          "metadata": {},
          "execution_count": 132
        }
      ]
    },
    {
      "cell_type": "markdown",
      "metadata": {
        "id": "zmpqGRcHFOo4"
      },
      "source": [
        "##d) ¿Tenemos forma de identificar de manera única cada registro? ¿Cuántas observaciones?\n",
        "Si, mediante el codigo de vuelo."
      ]
    },
    {
      "cell_type": "code",
      "execution_count": null,
      "metadata": {
        "id": "Bpb-tYkcFhM7",
        "colab": {
          "base_uri": "https://localhost:8080/"
        },
        "outputId": "7d3d60a5-7945-4750-f59e-ac3d5811a903"
      },
      "outputs": [
        {
          "output_type": "stream",
          "name": "stdout",
          "text": [
            "Observaciones:  127929\n"
          ]
        }
      ],
      "source": [
        "print(\"Observaciones: \",df.shape[0])"
      ]
    },
    {
      "cell_type": "markdown",
      "metadata": {
        "id": "Gww-c5s7FoZD"
      },
      "source": [
        "##e)  ¿Qué periodos de fechas tenemos en el dataset?\n",
        "Desde enero 2019 hasta septiembre 2022"
      ]
    },
    {
      "cell_type": "code",
      "execution_count": null,
      "metadata": {
        "id": "BBtgXBsSHHPu",
        "colab": {
          "base_uri": "https://localhost:8080/"
        },
        "outputId": "519970f2-b87b-48e7-b9e4-a79a6a9b688c"
      },
      "outputs": [
        {
          "output_type": "stream",
          "name": "stdout",
          "text": [
            "Mínimo  1/1/2019 01:50\n",
            "Máximo 9/9/2022 23:55\n"
          ]
        }
      ],
      "source": [
        "print(\"Mínimo \", min(df['STA']))\n",
        "print(\"Máximo\", max(df['STA']))"
      ]
    },
    {
      "cell_type": "markdown",
      "metadata": {
        "id": "zb4oVhi4Hh9_"
      },
      "source": [
        "##f) Pensando en el histórico de datos, ¿tenemos datos \"suficientes\" para pensar en realizar un modelo predictivo?\n",
        "De datos \"replicables\" tenemos solo un año y medio aproximadamente, que sería el 2019 y 2022, ya que el 2020 y 2021 están fuertemente afectados por las restricciones por la pandemia. Consideramos igualmente que es información suficiente para crear modelo predictivo aunque no tan robusto. Tambien si nuestro objetivo es predecir indicadores de retrasos en los vuelos tenemos 2 columnas de mucha utilidad, una siendo STA la cual nos indica el horario en el cual el avion deberia arribar y ATA que nos indica el horario en el que el avion efectivamente arribo."
      ]
    },
    {
      "cell_type": "markdown",
      "metadata": {
        "id": "mxQIs3a6ICmH"
      },
      "source": [
        "##g) ¿Tenemos la columna target (necesaria en problemas de aprendizaje supervisado)?\n",
        "Podemos crear 3 columnas target como resta de las columnas STA, ETA y ATA tomando de a 2 columnas a la vez, generando columnas de \"Demora en minutos\""
      ]
    },
    {
      "cell_type": "markdown",
      "source": [
        "#3 Limpieza y Feature Engineering\n"
      ],
      "metadata": {
        "id": "9w4KrW8EsXjo"
      }
    },
    {
      "cell_type": "markdown",
      "source": [
        "##a) Revisión, eliminación o imputación de datos Nulos."
      ],
      "metadata": {
        "id": "pZ4FeWdDIEcN"
      }
    },
    {
      "cell_type": "code",
      "source": [
        "def porcentaje_nulos(df):\n",
        "  porc_null=(df.isnull().sum()/df.shape[0])*100 #porcentaje de nulos por columna\n",
        "  porc_null=porc_null.sort_values(ascending=False)\n",
        "  print(porc_null[porc_null>0])\n",
        "  return"
      ],
      "metadata": {
        "id": "JduYSzDoFw2Y"
      },
      "execution_count": null,
      "outputs": []
    },
    {
      "cell_type": "code",
      "source": [
        "porcentaje_nulos(df)"
      ],
      "metadata": {
        "colab": {
          "base_uri": "https://localhost:8080/"
        },
        "id": "ekoK460FF_h3",
        "outputId": "a8e24967-4a4e-4eb7-f44a-33978e8e5f9f"
      },
      "execution_count": null,
      "outputs": [
        {
          "output_type": "stream",
          "name": "stdout",
          "text": [
            "Asignar    100.00\n",
            "CShare     100.00\n",
            "SUG        100.00\n",
            "Vip         99.92\n",
            "L&F         99.85\n",
            "Obs.        99.52\n",
            "Via         99.39\n",
            "ETA         21.48\n",
            "Cin         11.16\n",
            "Sec          9.73\n",
            "Pax          1.85\n",
            "ATA          1.83\n",
            "#Rot         1.82\n",
            "Aero.1       1.82\n",
            "Pos          1.82\n",
            "Cabecera     1.80\n",
            "Mat          1.71\n",
            "Ter          0.09\n",
            "dtype: float64\n"
          ]
        }
      ]
    },
    {
      "cell_type": "code",
      "source": [
        "#@title Eliminación de columnas vacías y con pocos datos\n",
        "display(df.shape)\n",
        "df.dropna(axis=1, how='all', inplace=True)\n",
        "display(df.shape)\n",
        "print('Se eliminaron 3 columnas vacías')"
      ],
      "metadata": {
        "id": "ZHn-r6HghUzo",
        "colab": {
          "base_uri": "https://localhost:8080/",
          "height": 69
        },
        "outputId": "4fb4de7f-5541-4f89-8877-ddeb9510cee8"
      },
      "execution_count": null,
      "outputs": [
        {
          "output_type": "display_data",
          "data": {
            "text/plain": [
              "(127929, 28)"
            ]
          },
          "metadata": {}
        },
        {
          "output_type": "display_data",
          "data": {
            "text/plain": [
              "(127929, 25)"
            ]
          },
          "metadata": {}
        },
        {
          "output_type": "stream",
          "name": "stdout",
          "text": [
            "Se eliminaron 3 columnas vacías\n"
          ]
        }
      ]
    },
    {
      "cell_type": "markdown",
      "source": [
        "Eliminamos las 4 columnas con más del 99% de datos nulos"
      ],
      "metadata": {
        "id": "e7GwKheJIJ2a"
      }
    },
    {
      "cell_type": "code",
      "source": [
        "#columnas a eliminar:\n",
        "columns_to_drop = ['Via','L&F','Vip','Obs.']\n",
        "\n",
        "#count de los valores no na de estas columnas:\n",
        "\n",
        "print('CANTIDAD DE VALORES NO NULOS DE LAS COLUMNAS A ELIMINAR:')\n",
        "for col in columns_to_drop:\n",
        "    print(col, df[col].count())\n",
        "print('')\n",
        "print('Filas del df: {df.shape[0]}')\n",
        "\n",
        "#eliminar las columnas\n",
        "df.drop(columns_to_drop, axis=1, inplace=True)\n",
        "print('Se eliminaron 4 columnas con pocos datos:', columns_to_drop)\n",
        "\n",
        "df.shape"
      ],
      "metadata": {
        "id": "lGF5pFf3hi4Q",
        "colab": {
          "base_uri": "https://localhost:8080/"
        },
        "outputId": "ebd44cb7-f029-490c-97ea-256d617836e2"
      },
      "execution_count": null,
      "outputs": [
        {
          "output_type": "stream",
          "name": "stdout",
          "text": [
            "CANTIDAD DE VALORES NO NULOS DE LAS COLUMNAS A ELIMINAR:\n",
            "Via 778\n",
            "L&F 189\n",
            "Vip 98\n",
            "Obs. 620\n",
            "\n",
            "Filas del df: {df.shape[0]}\n",
            "Se eliminaron 4 columnas con pocos datos: ['Via', 'L&F', 'Vip', 'Obs.']\n"
          ]
        },
        {
          "output_type": "execute_result",
          "data": {
            "text/plain": [
              "(127929, 21)"
            ]
          },
          "metadata": {},
          "execution_count": 138
        }
      ]
    },
    {
      "cell_type": "markdown",
      "source": [
        "Renombramos las columnas para que los nombres sean más significativos:"
      ],
      "metadata": {
        "id": "yJI8dhlTIztw"
      }
    },
    {
      "cell_type": "code",
      "source": [
        "df.rename(columns={'Aero': 'Nombre_Aerolinea', # '4M' '5U' 'A0' 'AJ' 'AR' 'AU' 'DN' 'FAA' 'FO' 'FQ' 'G3' 'H2' 'H8' 'JA', 'LA' 'LP' 'OY' 'PRV' 'USF' 'VH' 'WJ' 'Z7' 'ZP'\n",
        "           '#Vuelo': 'Codigo_Vuelo',\n",
        "           'Origen': 'Ruta_Vuelo',\n",
        "           'STA': 'Horario_Prog_Arribo',\n",
        "           'ETA': 'Horario_Estimado_Arribo',\n",
        "           'ATA': 'Horario_Actual_Arribo',\n",
        "           'Tipo': 'Tipo_Vuelo',                     # que valores que puede contener esta variable?\n",
        "           'Pos': 'Posicion_Arribo',\n",
        "           'Ter': 'Terminal_Arribo',\n",
        "           'Sec': 'Sector',\n",
        "           'Rmk': 'Estado_Vuelo',                    # Ate: aterrizado (tierra), Can: Cancelado, Alt: Altura (aire)\n",
        "           'Cin': 'Cinta_Equipajes',\n",
        "           'Pax': 'Cant_Pasajeros',\n",
        "           'Mat': 'Matricula_Aeronave',\n",
        "           'Acft': 'Tipo_Aeronave',                  # que valores que puede contener esta variable?\n",
        "           'Aero.1': 'Nombre_Aerolinea_Partida',     # 4M' '5U' 'A0' 'AJ' 'AR' 'AU' 'DN' 'FAA' 'FO' 'FQ' 'G3' 'H2' 'H8' 'JA', 'LA' 'LP' 'OY' 'PRV' 'USF' 'VH' 'WJ' 'Z7' 'ZP', etc...\n",
        "           '#Rot': 'Vuelo_Partida',\n",
        "           'Cabecera': 'Cabecera_Arribo',\n",
        "           'año': 'Año_Vuelo',\n",
        "           'mes': 'Mes_Vuelo',\n",
        "           'hora': 'Hora_Vuelo'},\n",
        "           inplace = True)"
      ],
      "metadata": {
        "id": "tqqSYq3EI2kM"
      },
      "execution_count": null,
      "outputs": []
    },
    {
      "cell_type": "code",
      "source": [
        "porcentaje_nulos(df)"
      ],
      "metadata": {
        "colab": {
          "base_uri": "https://localhost:8080/"
        },
        "id": "rLdxUwa4L6tV",
        "outputId": "b9c7b4ed-4fc2-4e5e-ecdb-e5935a59cdd0"
      },
      "execution_count": null,
      "outputs": [
        {
          "output_type": "stream",
          "name": "stdout",
          "text": [
            "Horario_Estimado_Arribo    21.48\n",
            "Cinta_Equipajes            11.16\n",
            "Sector                      9.73\n",
            "Cant_Pasajeros              1.85\n",
            "Horario_Actual_Arribo       1.83\n",
            "Nombre_Aerolinea_Partida    1.82\n",
            "Posicion_Arribo             1.82\n",
            "Vuelo_Partida               1.82\n",
            "Cabecera_Arribo             1.80\n",
            "Matricula_Aeronave          1.71\n",
            "Terminal_Arribo             0.09\n",
            "dtype: float64\n"
          ]
        }
      ]
    },
    {
      "cell_type": "markdown",
      "source": [
        "Para la columna 'Horario actual de arribo' proponemos directamente eliminar esas filas, ya que el horario de arribo es parte de la columna target, y no son muchos datos (menos del 2%) <font color='green'> --> Lo saco, también porque coincide con faltantes en otras columnas. Lo mismo aplica si faltaran muchos datos (20% por ejemplo). Se eliminan."
      ],
      "metadata": {
        "id": "CqfBvhga3DxW"
      }
    },
    {
      "cell_type": "code",
      "source": [
        "df = df.dropna(subset=['Horario_Actual_Arribo'])"
      ],
      "metadata": {
        "id": "CQwZNV6lu4aD"
      },
      "execution_count": null,
      "outputs": []
    },
    {
      "cell_type": "code",
      "source": [
        "pd.set_option('display.float_format', lambda x: '%.3f' % x)\n",
        "porcentaje_nulos(df)"
      ],
      "metadata": {
        "colab": {
          "base_uri": "https://localhost:8080/"
        },
        "id": "RfYzkD_WM2aV",
        "outputId": "bb7a5aff-ab45-4b23-d1b8-a0bc873c73b9"
      },
      "execution_count": null,
      "outputs": [
        {
          "output_type": "stream",
          "name": "stdout",
          "text": [
            "Horario_Estimado_Arribo    20.019\n",
            "Cinta_Equipajes             9.616\n",
            "Sector                      9.441\n",
            "Terminal_Arribo             0.083\n",
            "Cant_Pasajeros              0.047\n",
            "Cabecera_Arribo             0.005\n",
            "Vuelo_Partida               0.004\n",
            "Nombre_Aerolinea_Partida    0.004\n",
            "Posicion_Arribo             0.003\n",
            "Matricula_Aeronave          0.003\n",
            "dtype: float64\n"
          ]
        }
      ]
    },
    {
      "cell_type": "markdown",
      "source": [
        "Horario_Estimado_Arribo la vamos a imputar con la columna Horario_Actual_Arribo, ya que es el dato más certero que tenemos. <font color= 'red'> Preguntar cómo utilizamos esta variable siendo que imputamos tantos datos (alguna precaución en particular?) <font color= 'green'>--> Probar variantes, probar algoritmo que imputa con ML. Al momento del modelo ver como performa con uno y como con otro método. Objetivo: minimizar el error."
      ],
      "metadata": {
        "id": "hd_hQ7RQvLBz"
      }
    },
    {
      "cell_type": "code",
      "source": [
        "datos_nulos = df['Horario_Estimado_Arribo'].isnull()\n",
        "\n",
        "# Imputa los datos nulos con los valores correspondientes de la columna de origen\n",
        "df.loc[datos_nulos, 'Horario_Estimado_Arribo'] = df.loc[datos_nulos, 'Horario_Actual_Arribo']\n",
        "\n",
        "# Verifica que los datos nulos se hayan imputado correctamente\n",
        "print(df['Horario_Estimado_Arribo'].isnull().sum())"
      ],
      "metadata": {
        "colab": {
          "base_uri": "https://localhost:8080/"
        },
        "id": "tvPTRYivuPt0",
        "outputId": "aabf8eda-437e-49e7-963e-73b58e7bd8c1"
      },
      "execution_count": null,
      "outputs": [
        {
          "output_type": "stream",
          "name": "stdout",
          "text": [
            "0\n"
          ]
        }
      ]
    },
    {
      "cell_type": "code",
      "source": [
        "#Definimos función para ayudarnos a visualizar datos\n",
        "def frecuencia_columna(df_usado, columna_target):\n",
        "\n",
        "    # Calcula la cantidad de datos con cada valor en la columna especificada\n",
        "    cantidad_por_valor = df_usado[columna_target].value_counts().reset_index()\n",
        "\n",
        "    # Renombra las columnas en el DataFrame resultante\n",
        "    cantidad_por_valor.columns = [columna_target, 'cantidad']\n",
        "\n",
        "    cantidad_por_valor['porcentaje'] = cantidad_por_valor['cantidad'] / len(df_usado) * 100\n",
        "\n",
        "    # Calcula el total\n",
        "    total = cantidad_por_valor['cantidad'].sum()\n",
        "\n",
        "    # Agrega una fila adicional para el total\n",
        "    fila_total = pd.DataFrame({columna_target: 'Total', 'cantidad': total, 'porcentaje': total*100/len(df_usado)}, index=[0])\n",
        "    cantidad_por_valor = pd.concat([cantidad_por_valor, fila_total], ignore_index=True)\n",
        "\n",
        "    # Muestra la lista con la cantidad de datos por valor y su porcentaje\n",
        "    print(cantidad_por_valor)\n",
        "    return"
      ],
      "metadata": {
        "id": "4acyinCPwn-d"
      },
      "execution_count": null,
      "outputs": []
    },
    {
      "cell_type": "code",
      "source": [
        "porcentaje_nulos(df)"
      ],
      "metadata": {
        "colab": {
          "base_uri": "https://localhost:8080/"
        },
        "id": "jkbHMVyZdXSv",
        "outputId": "d9934c08-522c-45b2-b8be-6ee203cdfbdb"
      },
      "execution_count": null,
      "outputs": [
        {
          "output_type": "stream",
          "name": "stdout",
          "text": [
            "Cinta_Equipajes            9.616\n",
            "Sector                     9.441\n",
            "Terminal_Arribo            0.083\n",
            "Cant_Pasajeros             0.047\n",
            "Cabecera_Arribo            0.005\n",
            "Vuelo_Partida              0.004\n",
            "Nombre_Aerolinea_Partida   0.004\n",
            "Matricula_Aeronave         0.003\n",
            "Posicion_Arribo            0.003\n",
            "dtype: float64\n"
          ]
        }
      ]
    },
    {
      "cell_type": "code",
      "source": [
        "frecuencia_columna(df, 'Cinta_Equipajes')"
      ],
      "metadata": {
        "colab": {
          "base_uri": "https://localhost:8080/"
        },
        "id": "KdSo0eH5NkO3",
        "outputId": "7ed207b3-e733-42e1-8e2e-a4235459bda3"
      },
      "execution_count": null,
      "outputs": [
        {
          "output_type": "stream",
          "name": "stdout",
          "text": [
            "   Cinta_Equipajes  cantidad  porcentaje\n",
            "0                2     17533      13.961\n",
            "1                3     16169      12.875\n",
            "2                4     15747      12.539\n",
            "3                5     15532      12.367\n",
            "4                6     10519       8.376\n",
            "5                8      8624       6.867\n",
            "6                7      7885       6.278\n",
            "7                9      6009       4.785\n",
            "8               2I      5126       4.082\n",
            "9               3I      4242       3.378\n",
            "10               1      3260       2.596\n",
            "11              1I      2809       2.237\n",
            "12              1-        56       0.045\n",
            "13           Total    113511      90.384\n"
          ]
        }
      ]
    },
    {
      "cell_type": "markdown",
      "source": [
        "Propuesta: crear nuevo valor \"Desconocido\" para imputar el caso 10% faltante, ya que tiene una distribución uniforme y faltan muchos datos.\n",
        "Al 1- decidimos asignarlo a 1, consideramos que es un error de tipeo dado que hay muy pocos datos. <font color='green'> --> Propuesta: agrupar el 1 con 1I, 2 con 2I, etc. para simplificar la cant. de opciones. Faltantes: probar, no hay una forma mejor que otra."
      ],
      "metadata": {
        "id": "kFTaFafuzqU2"
      }
    },
    {
      "cell_type": "code",
      "source": [
        "df['Cinta_Equipajes'].fillna('0', inplace=True)\n",
        "df['Cinta_Equipajes'] = df['Cinta_Equipajes'].str.replace('1-', '1')\n",
        "#AGRUPAR"
      ],
      "metadata": {
        "colab": {
          "base_uri": "https://localhost:8080/"
        },
        "id": "iPThOupfQfw1",
        "outputId": "c2fa2cf0-84e8-4206-f0c9-a3ceff5b4f24"
      },
      "execution_count": null,
      "outputs": [
        {
          "output_type": "stream",
          "name": "stderr",
          "text": [
            "<ipython-input-147-0cda93759a7b>:1: SettingWithCopyWarning: \n",
            "A value is trying to be set on a copy of a slice from a DataFrame\n",
            "\n",
            "See the caveats in the documentation: https://pandas.pydata.org/pandas-docs/stable/user_guide/indexing.html#returning-a-view-versus-a-copy\n",
            "  df['Cinta_Equipajes'].fillna('0', inplace=True)\n",
            "<ipython-input-147-0cda93759a7b>:2: SettingWithCopyWarning: \n",
            "A value is trying to be set on a copy of a slice from a DataFrame.\n",
            "Try using .loc[row_indexer,col_indexer] = value instead\n",
            "\n",
            "See the caveats in the documentation: https://pandas.pydata.org/pandas-docs/stable/user_guide/indexing.html#returning-a-view-versus-a-copy\n",
            "  df['Cinta_Equipajes'] = df['Cinta_Equipajes'].str.replace('1-', '1')\n"
          ]
        }
      ]
    },
    {
      "cell_type": "code",
      "source": [
        "vuelos_cancelados = df[df['Estado_Vuelo'] == 'CAN']\n",
        "print(f'total vuelos cancelados: {vuelos_cancelados.shape[0]}')\n",
        "vuelos_cancelados.Cabecera_Arribo.value_counts()"
      ],
      "metadata": {
        "id": "fm9-C8fG53EP",
        "colab": {
          "base_uri": "https://localhost:8080/"
        },
        "outputId": "8d82ab54-b86e-4684-c47c-06c609bb1045"
      },
      "execution_count": null,
      "outputs": [
        {
          "output_type": "stream",
          "name": "stdout",
          "text": [
            "total vuelos cancelados: 1\n"
          ]
        },
        {
          "output_type": "execute_result",
          "data": {
            "text/plain": [
              "13.000    1\n",
              "Name: Cabecera_Arribo, dtype: int64"
            ]
          },
          "metadata": {},
          "execution_count": 151
        }
      ]
    },
    {
      "cell_type": "code",
      "source": [
        "na_cabecera = df[df['Cabecera_Arribo'].isna()]\n",
        "frecuencia_columna(na_cabecera, 'Estado_Vuelo')"
      ],
      "metadata": {
        "id": "keJzTwIg7VlF",
        "colab": {
          "base_uri": "https://localhost:8080/"
        },
        "outputId": "c7d86f22-ef07-4081-e8f6-94dfe49225f3"
      },
      "execution_count": null,
      "outputs": [
        {
          "output_type": "stream",
          "name": "stdout",
          "text": [
            "  Estado_Vuelo  cantidad  porcentaje\n",
            "0          ALT         4      66.667\n",
            "1          ATE         2      33.333\n",
            "2        Total         6     100.000\n"
          ]
        }
      ]
    },
    {
      "cell_type": "markdown",
      "source": [
        "**En el caso de los nulos en cabecera, se trata en su gran mayoría de vuelos CANCELADOS (no habrían aterrizado) por lo que no sería correcto asignarles una cabecera. ¿Eliminar?**"
      ],
      "metadata": {
        "id": "BFz1-7wp5S02"
      }
    },
    {
      "cell_type": "code",
      "source": [
        "pd.set_option('display.float_format', lambda x: '%.3f' % x)\n",
        "porcentaje_nulos(df)\n",
        "frecuencia_columna(df, 'Sector')"
      ],
      "metadata": {
        "colab": {
          "base_uri": "https://localhost:8080/"
        },
        "id": "E4AJL-kKQ6T0",
        "outputId": "bba137c2-ef96-4315-a359-2bfb131fdc4b"
      },
      "execution_count": null,
      "outputs": [
        {
          "output_type": "stream",
          "name": "stdout",
          "text": [
            "Sector                     9.441\n",
            "Terminal_Arribo            0.083\n",
            "Cant_Pasajeros             0.047\n",
            "Cabecera_Arribo            0.005\n",
            "Vuelo_Partida              0.004\n",
            "Nombre_Aerolinea_Partida   0.004\n",
            "Posicion_Arribo            0.003\n",
            "Matricula_Aeronave         0.003\n",
            "dtype: float64\n",
            "  Sector  cantidad  porcentaje\n",
            "0      N     69010      54.950\n",
            "1      2     32433      25.825\n",
            "2      I     12270       9.770\n",
            "3      A        16       0.013\n",
            "4      B         2       0.002\n",
            "5  Total    113731      90.559\n"
          ]
        }
      ]
    },
    {
      "cell_type": "markdown",
      "source": [
        "Debemos imputar estos datos faltantes, decidir qué método utilizar.\n",
        "Propuesta: imputar por esa distribución aleatoriamente proporcional a su %. <font color='red'> Consultar si está bien. <font color='green'> --> OK"
      ],
      "metadata": {
        "id": "G9uYKzwj2aQx"
      }
    },
    {
      "cell_type": "code",
      "source": [
        "sector_proportions = df['Sector'].value_counts(normalize=True)\n",
        "missing_count = df['Sector'].isna().sum()\n",
        "imputed_values = np.random.choice(sector_proportions.index, size=missing_count, p=sector_proportions.values)\n",
        "df.loc[df['Sector'].isna(), 'Sector'] = imputed_values\n",
        "porcentaje_nulos(df)\n",
        "frecuencia_columna(df, 'Sector')"
      ],
      "metadata": {
        "colab": {
          "base_uri": "https://localhost:8080/"
        },
        "id": "6pSQUFlASG6A",
        "outputId": "b024ca09-5cb6-4714-e2bb-ca9f8424e784"
      },
      "execution_count": null,
      "outputs": [
        {
          "output_type": "stream",
          "name": "stdout",
          "text": [
            "Terminal_Arribo            0.083\n",
            "Cant_Pasajeros             0.047\n",
            "Cabecera_Arribo            0.005\n",
            "Vuelo_Partida              0.004\n",
            "Nombre_Aerolinea_Partida   0.004\n",
            "Posicion_Arribo            0.003\n",
            "Matricula_Aeronave         0.003\n",
            "dtype: float64\n",
            "  Sector  cantidad  porcentaje\n",
            "0      N     76155      60.639\n",
            "1      2     35835      28.534\n",
            "2      I     13577      10.811\n",
            "3      A        19       0.015\n",
            "4      B         2       0.002\n",
            "5  Total    125588     100.000\n"
          ]
        }
      ]
    },
    {
      "cell_type": "markdown",
      "source": [
        "Hipótesis: N: Nacional, I: Internacional, 2: Carga"
      ],
      "metadata": {
        "id": "62-OJXtKg9-g"
      }
    },
    {
      "cell_type": "code",
      "source": [
        "frecuencia_columna(df, 'Cant_Pasajeros')"
      ],
      "metadata": {
        "colab": {
          "base_uri": "https://localhost:8080/"
        },
        "id": "_MReK4rUORrL",
        "outputId": "be240c9d-ad27-41e2-a7cc-08bb47b13ca7"
      },
      "execution_count": null,
      "outputs": [
        {
          "output_type": "stream",
          "name": "stdout",
          "text": [
            "    Cant_Pasajeros  cantidad  porcentaje\n",
            "0            0.000      6212       4.946\n",
            "1           96.000      2537       2.020\n",
            "2          170.000      2487       1.980\n",
            "3          171.000      1805       1.437\n",
            "4          172.000      1784       1.421\n",
            "..             ...       ...         ...\n",
            "220        225.000         1       0.001\n",
            "221        200.000         1       0.001\n",
            "222        224.000         1       0.001\n",
            "223        205.000         1       0.001\n",
            "224          Total    125529      99.953\n",
            "\n",
            "[225 rows x 3 columns]\n"
          ]
        }
      ]
    },
    {
      "cell_type": "markdown",
      "source": [
        "Proponemos imputar por 0 directamente ya que no hay otro dato que podamos utilizar para completar este valor y es un porcentaje muy bajo, con lo cual creemos que es la forma en la que se cometería menor error, y además el valor 0 es el que más porcentaje tiene en la base de datos.<font color='red'> Investigar la fecha de esos vuelos con 0 pasajeros."
      ],
      "metadata": {
        "id": "pFBxbCEx2rew"
      }
    },
    {
      "cell_type": "code",
      "source": [
        "ceros_pax = df[df['Cant_Pasajeros'] == 0]\n",
        "frecuencia_columna(ceros_pax, 'Tipo_Aeronave')"
      ],
      "metadata": {
        "id": "TWyp54ArzhlR",
        "colab": {
          "base_uri": "https://localhost:8080/"
        },
        "outputId": "b6d64607-8918-4b86-f7d0-5acdf885577f"
      },
      "execution_count": null,
      "outputs": [
        {
          "output_type": "stream",
          "name": "stdout",
          "text": [
            "   Tipo_Aeronave  cantidad  porcentaje\n",
            "0            L60      1380      22.215\n",
            "1           E190       715      11.510\n",
            "2           738W       629      10.126\n",
            "3            L35       280       4.507\n",
            "4            320       243       3.912\n",
            "..           ...       ...         ...\n",
            "93           AT4         1       0.016\n",
            "94           AT7         1       0.016\n",
            "95          C212         1       0.016\n",
            "96           CC5         1       0.016\n",
            "97         Total      6212     100.000\n",
            "\n",
            "[98 rows x 3 columns]\n"
          ]
        }
      ]
    },
    {
      "cell_type": "markdown",
      "source": [
        "\n",
        "La aeronave que mayor pasajeros nulos contiene es el Learjet 60. Tiene sentido que tenga muchos ceros ya que se trata de un avión mediano, para pocos ocupantes (10). La base de datos de Anac de 2022 valida asimismo el porcentaje *razonable* de ceros para este avión.\n",
        "\n",
        "Le sigue el Embraer 190 y el Boeing 738. En estos otros dos casos sí llama la atención que no lleven pasajeros ya que se trata de aeronaves grandes."
      ],
      "metadata": {
        "id": "19KYd4Yazik1"
      }
    },
    {
      "cell_type": "code",
      "source": [
        "df['Cant_Pasajeros'].fillna(0, inplace=True)"
      ],
      "metadata": {
        "colab": {
          "base_uri": "https://localhost:8080/"
        },
        "id": "NHnnM_3ISq32",
        "outputId": "56197e07-9817-42f2-d747-3b18399758df"
      },
      "execution_count": null,
      "outputs": [
        {
          "output_type": "stream",
          "name": "stderr",
          "text": [
            "<ipython-input-154-1e7d4f9c92f8>:1: SettingWithCopyWarning: \n",
            "A value is trying to be set on a copy of a slice from a DataFrame\n",
            "\n",
            "See the caveats in the documentation: https://pandas.pydata.org/pandas-docs/stable/user_guide/indexing.html#returning-a-view-versus-a-copy\n",
            "  df['Cant_Pasajeros'].fillna(0, inplace=True)\n"
          ]
        }
      ]
    },
    {
      "cell_type": "code",
      "source": [
        "porcentaje_nulos(df)"
      ],
      "metadata": {
        "id": "kYuPud0COfUo",
        "colab": {
          "base_uri": "https://localhost:8080/"
        },
        "outputId": "86ad7bf8-8d8e-4e9e-b3af-28f8aef7d351"
      },
      "execution_count": null,
      "outputs": [
        {
          "output_type": "stream",
          "name": "stdout",
          "text": [
            "Terminal_Arribo            0.083\n",
            "Cabecera_Arribo            0.005\n",
            "Vuelo_Partida              0.004\n",
            "Nombre_Aerolinea_Partida   0.004\n",
            "Posicion_Arribo            0.003\n",
            "Matricula_Aeronave         0.003\n",
            "dtype: float64\n"
          ]
        }
      ]
    },
    {
      "cell_type": "markdown",
      "source": [
        "Proponemos para el resto de las columnas imputar por la moda ya que son muy pocos datos en % los que faltan. <font color='red'>Preguntar a Noe a ver si está bien esto. IMPUTAR TODO.<font color='green'> --> MODA, OK."
      ],
      "metadata": {
        "id": "GH3DxKHFwrUP"
      }
    },
    {
      "cell_type": "code",
      "source": [
        "columnas_con_nulos = df.columns[df.isnull().any()].tolist()\n",
        "print(columnas_con_nulos)\n",
        "\n",
        "#porcentaje_limite = 12.5\n",
        "\n",
        "#columnas_con_pocos_nulos = df.columns[df.isnull().mean() < porcentaje_limite/100].tolist()\n",
        "#print(columnas_con_pocos_nulos)\n",
        "\n",
        "for columna in columnas_con_nulos:\n",
        "  df[columna].fillna(df[columna].mode()[0], inplace=True)\n"
      ],
      "metadata": {
        "colab": {
          "base_uri": "https://localhost:8080/"
        },
        "id": "1Q_dPqSKTIPz",
        "outputId": "f9cbb549-86a2-43ae-c899-88fa4972b62c"
      },
      "execution_count": null,
      "outputs": [
        {
          "output_type": "stream",
          "name": "stdout",
          "text": [
            "['Posicion_Arribo', 'Terminal_Arribo', 'Matricula_Aeronave', 'Nombre_Aerolinea_Partida', 'Vuelo_Partida', 'Cabecera_Arribo']\n"
          ]
        },
        {
          "output_type": "stream",
          "name": "stderr",
          "text": [
            "<ipython-input-156-aaf8ada6bcd0>:10: SettingWithCopyWarning: \n",
            "A value is trying to be set on a copy of a slice from a DataFrame\n",
            "\n",
            "See the caveats in the documentation: https://pandas.pydata.org/pandas-docs/stable/user_guide/indexing.html#returning-a-view-versus-a-copy\n",
            "  df[columna].fillna(df[columna].mode()[0], inplace=True)\n",
            "<ipython-input-156-aaf8ada6bcd0>:10: SettingWithCopyWarning: \n",
            "A value is trying to be set on a copy of a slice from a DataFrame\n",
            "\n",
            "See the caveats in the documentation: https://pandas.pydata.org/pandas-docs/stable/user_guide/indexing.html#returning-a-view-versus-a-copy\n",
            "  df[columna].fillna(df[columna].mode()[0], inplace=True)\n",
            "<ipython-input-156-aaf8ada6bcd0>:10: SettingWithCopyWarning: \n",
            "A value is trying to be set on a copy of a slice from a DataFrame\n",
            "\n",
            "See the caveats in the documentation: https://pandas.pydata.org/pandas-docs/stable/user_guide/indexing.html#returning-a-view-versus-a-copy\n",
            "  df[columna].fillna(df[columna].mode()[0], inplace=True)\n",
            "<ipython-input-156-aaf8ada6bcd0>:10: SettingWithCopyWarning: \n",
            "A value is trying to be set on a copy of a slice from a DataFrame\n",
            "\n",
            "See the caveats in the documentation: https://pandas.pydata.org/pandas-docs/stable/user_guide/indexing.html#returning-a-view-versus-a-copy\n",
            "  df[columna].fillna(df[columna].mode()[0], inplace=True)\n",
            "<ipython-input-156-aaf8ada6bcd0>:10: SettingWithCopyWarning: \n",
            "A value is trying to be set on a copy of a slice from a DataFrame\n",
            "\n",
            "See the caveats in the documentation: https://pandas.pydata.org/pandas-docs/stable/user_guide/indexing.html#returning-a-view-versus-a-copy\n",
            "  df[columna].fillna(df[columna].mode()[0], inplace=True)\n",
            "<ipython-input-156-aaf8ada6bcd0>:10: SettingWithCopyWarning: \n",
            "A value is trying to be set on a copy of a slice from a DataFrame\n",
            "\n",
            "See the caveats in the documentation: https://pandas.pydata.org/pandas-docs/stable/user_guide/indexing.html#returning-a-view-versus-a-copy\n",
            "  df[columna].fillna(df[columna].mode()[0], inplace=True)\n"
          ]
        }
      ]
    },
    {
      "cell_type": "code",
      "source": [
        "porcentaje_nulos(df)"
      ],
      "metadata": {
        "colab": {
          "base_uri": "https://localhost:8080/"
        },
        "id": "mM_GsQyCV2rD",
        "outputId": "7aad2720-441a-4704-e1bf-fcb0618b6d04"
      },
      "execution_count": null,
      "outputs": [
        {
          "output_type": "stream",
          "name": "stdout",
          "text": [
            "Series([], dtype: float64)\n"
          ]
        }
      ]
    },
    {
      "cell_type": "code",
      "source": [
        "# Observamos cómo queda la DB\n",
        "msno.matrix(df,figsize=(10, 5), fontsize=12, color=[0,0,0.2])\n",
        "plt.show()"
      ],
      "metadata": {
        "id": "3-A1J2paiFz0",
        "colab": {
          "base_uri": "https://localhost:8080/",
          "height": 611
        },
        "outputId": "82114d44-e9c7-4636-d3f1-2071d2631b55"
      },
      "execution_count": null,
      "outputs": [
        {
          "output_type": "display_data",
          "data": {
            "text/plain": [
              "<Figure size 1000x500 with 2 Axes>"
            ],
            "image/png": "[encoded data removed]"
          },
          "metadata": {}
        }
      ]
    },
    {
      "cell_type": "markdown",
      "source": [
        "##b)Análisis de Nulos “no claros” (undefined? ceros? etc)"
      ],
      "metadata": {
        "id": "WLUQWm59OynC"
      }
    },
    {
      "cell_type": "code",
      "execution_count": null,
      "metadata": {
        "colab": {
          "base_uri": "https://localhost:8080/"
        },
        "id": "b9Et1xjU5L3o",
        "outputId": "1463ff3d-2452-4e5b-cffc-0098bc9e7bcb"
      },
      "outputs": [
        {
          "output_type": "stream",
          "name": "stdout",
          "text": [
            "['#¿NOMBRE?' 'ABV' 'AEP' 'AFA' 'ANF' 'ANU' 'APO' 'ARI' 'ASI' 'ASU' 'BAL'\n",
            " 'BAQ' 'BCN' 'BHI' 'BLL' 'BLV' 'BOG' 'BPS' 'BRC' 'BSB' 'CBB' 'CCS' 'CDG'\n",
            " 'CGB' 'CGR' 'CIW' 'CJC' 'CLO' 'CMH' 'CNF' 'CNQ' 'COC' 'COR' 'CPC' 'CPT'\n",
            " 'CRD' 'CSC' 'CSR' 'CTC' 'CUN' 'CUZ' 'CWB' 'CYR' 'CZM' 'DIA' 'DOT' 'EDP'\n",
            " 'EHL' 'ELO' 'ENO' 'EPA' 'EQS' 'ESC' 'EWR' 'EZE' 'FDO' 'FLL' 'FLN' 'FMA'\n",
            " 'FOR' 'FTE' 'FXE' 'GEZ' 'GGY' 'GIG' 'GNR' 'GPO' 'GRU' 'GVA' 'GYE' 'GYN'\n",
            " 'HAV' 'HLI' 'HOU' 'HPN' 'IAD' 'IAH' 'IBZ' 'IGR' 'IGU' 'IPC' 'IQQ' 'IRJ'\n",
            " 'IST' 'ITO' 'JFK' 'JUJ' 'KNA' 'LAD' 'LAS' 'LCP' 'LGS' 'LHR' 'LIM' 'LPA'\n",
            " 'LPB' 'LPG' 'LRM' 'LUQ' 'MAD' 'MAO' 'MCO' 'MDE' 'MDQ' 'MDZ' 'MEX' 'MIA'\n",
            " 'MJR' 'MLG' 'MOR' 'MPN' 'MVD' 'NAS' 'NAT' 'NCJ' 'NEC' 'NIN' 'NQN' 'OAK'\n",
            " 'OBE' 'OLA' 'OPF' 'OYA' 'OYO' 'PAL' 'PBI' 'PDI' 'PDP' 'PEH' 'PIO' 'PLS'\n",
            " 'PMC' 'PMI' 'PMQ' 'PMV' 'PMY' 'PNR' 'PNT' 'POA' 'POS' 'PRA' 'PSS' 'PTY'\n",
            " 'PUD' 'PUJ' 'PUQ' 'QLV' 'RCQ' 'RCU' 'REC' 'REL' 'RES' 'RGA' 'RGL' 'RHD'\n",
            " 'RLA' 'RLC' 'RLO' 'ROS' 'RSA' 'RYD' 'RZA' 'SAL' 'SAN' 'SAP' 'SAT' 'SCA'\n",
            " 'SCL' 'SCR' 'SDE' 'SDL' 'SEP' 'SFB' 'SFN' 'SGR' 'SID' 'SJO' 'SJU' 'SLA'\n",
            " 'SNC' 'SRC' 'SRZ' 'SSA' 'STD' 'STR' 'STY' 'SUZ' 'SVJ' 'SVO' 'SXM' 'TAR'\n",
            " 'TDL' 'TEB' 'TFN' 'TFS' 'TLC' 'TMB' 'TUC' 'UAE' 'UAQ' 'UIO' 'ULA' 'USH'\n",
            " 'VCP' 'VDM' 'VLC' 'VLG' 'VME' 'VMR' 'VNO' 'VTO' 'VVI' 'XXX' 'ZPC' 'ZRH']\n"
          ]
        }
      ],
      "source": [
        "Ruta = np.unique(df['Ruta_Vuelo'])\n",
        "print(Ruta)"
      ]
    },
    {
      "cell_type": "code",
      "execution_count": null,
      "metadata": {
        "colab": {
          "base_uri": "https://localhost:8080/"
        },
        "id": "b6k1aC_D5Up3",
        "outputId": "9262f820-ec06-47d5-a6fb-7464a1fe5f31"
      },
      "outputs": [
        {
          "output_type": "execute_result",
          "data": {
            "text/plain": [
              "215"
            ]
          },
          "metadata": {},
          "execution_count": 160
        }
      ],
      "source": [
        "df['Ruta_Vuelo'].nunique()"
      ]
    },
    {
      "cell_type": "code",
      "execution_count": null,
      "metadata": {
        "id": "o5VVDl1M5bzf"
      },
      "outputs": [],
      "source": [
        "def ruta_vuelo_error(df):\n",
        "  sin_nombre= df[(df['Ruta_Vuelo'] == '#¿NOMBRE?')]\n",
        "  num_filas = sin_nombre.shape[0]\n",
        "  print(\"El DataFrame tiene\", num_filas, \"filas sin aeropuerto.\")\n",
        "\n",
        "  nombre_XXX= df[(df['Ruta_Vuelo'] == 'XXX')]\n",
        "  num_filas = nombre_XXX.shape[0]\n",
        "  print(\"El DataFrame tiene\", num_filas, \"filas cuyo aeropuerto es XXX.\")\n",
        "  return"
      ]
    },
    {
      "cell_type": "code",
      "source": [
        "ruta_vuelo_error(df)"
      ],
      "metadata": {
        "colab": {
          "base_uri": "https://localhost:8080/"
        },
        "id": "A1Qs7FYzLRkT",
        "outputId": "7b9e83cb-c435-44a7-85ea-0ed03c7e3f06"
      },
      "execution_count": null,
      "outputs": [
        {
          "output_type": "stream",
          "name": "stdout",
          "text": [
            "El DataFrame tiene 293 filas sin aeropuerto.\n",
            "El DataFrame tiene 1 filas cuyo aeropuerto es XXX.\n"
          ]
        }
      ]
    },
    {
      "cell_type": "markdown",
      "source": [
        "Para estos 294 registros decidimos crear una nueva categoría \"Sin aeropuerto\" <font color='red'> Imputar con los % de frecuencia."
      ],
      "metadata": {
        "id": "rXq87PuEKalv"
      }
    },
    {
      "cell_type": "code",
      "source": [
        "frecuencia_columna(df, 'Ruta_Vuelo')"
      ],
      "metadata": {
        "colab": {
          "base_uri": "https://localhost:8080/"
        },
        "id": "6s3uAAIOjLZY",
        "outputId": "15315f9f-030e-40c0-bacd-53f9681694c1"
      },
      "execution_count": null,
      "outputs": [
        {
          "output_type": "stream",
          "name": "stdout",
          "text": [
            "    Ruta_Vuelo  cantidad  porcentaje\n",
            "0          COR     10271       8.178\n",
            "1          BRC     10028       7.985\n",
            "2          MDZ      9230       7.349\n",
            "3          IGR      7714       6.142\n",
            "4          SLA      6824       5.434\n",
            "..         ...       ...         ...\n",
            "211        SFB         1       0.001\n",
            "212        TFN         1       0.001\n",
            "213        CBB         1       0.001\n",
            "214        ABV         1       0.001\n",
            "215      Total    125588     100.000\n",
            "\n",
            "[216 rows x 3 columns]\n"
          ]
        }
      ]
    },
    {
      "cell_type": "code",
      "source": [
        "df['Ruta_Vuelo'] = df['Ruta_Vuelo'].replace(['#¿NOMBRE?', 'XXX'], 'Desconocido')\n",
        "ruta_vuelo_error(df)"
      ],
      "metadata": {
        "colab": {
          "base_uri": "https://localhost:8080/"
        },
        "id": "ah5Qf99tKuzS",
        "outputId": "47c50296-8fe7-4e4c-8d45-c99cbcfef374"
      },
      "execution_count": null,
      "outputs": [
        {
          "output_type": "stream",
          "name": "stdout",
          "text": [
            "El DataFrame tiene 0 filas sin aeropuerto.\n",
            "El DataFrame tiene 0 filas cuyo aeropuerto es XXX.\n"
          ]
        },
        {
          "output_type": "stream",
          "name": "stderr",
          "text": [
            "<ipython-input-164-4366e566239c>:1: SettingWithCopyWarning: \n",
            "A value is trying to be set on a copy of a slice from a DataFrame.\n",
            "Try using .loc[row_indexer,col_indexer] = value instead\n",
            "\n",
            "See the caveats in the documentation: https://pandas.pydata.org/pandas-docs/stable/user_guide/indexing.html#returning-a-view-versus-a-copy\n",
            "  df['Ruta_Vuelo'] = df['Ruta_Vuelo'].replace(['#¿NOMBRE?', 'XXX'], 'Desconocido')\n"
          ]
        }
      ]
    },
    {
      "cell_type": "markdown",
      "source": [
        "Controlamos si hay ceros en alguna otra columna:"
      ],
      "metadata": {
        "id": "i7Fy6eLbWvCB"
      }
    },
    {
      "cell_type": "code",
      "source": [
        "print(df.eq(0).sum())"
      ],
      "metadata": {
        "colab": {
          "base_uri": "https://localhost:8080/"
        },
        "id": "rsO30Vf4WVTF",
        "outputId": "f525dfdd-bd35-442e-a164-8635808ae0f4"
      },
      "execution_count": null,
      "outputs": [
        {
          "output_type": "stream",
          "name": "stdout",
          "text": [
            "Nombre_Aerolinea               0\n",
            "Codigo_Vuelo                   0\n",
            "Ruta_Vuelo                     0\n",
            "Horario_Prog_Arribo            0\n",
            "Horario_Estimado_Arribo        0\n",
            "Horario_Actual_Arribo          0\n",
            "Tipo_Vuelo                     0\n",
            "Posicion_Arribo                0\n",
            "Terminal_Arribo                0\n",
            "Sector                         0\n",
            "Estado_Vuelo                   0\n",
            "Cinta_Equipajes                0\n",
            "Cant_Pasajeros              6271\n",
            "Matricula_Aeronave             0\n",
            "Tipo_Aeronave                  0\n",
            "Nombre_Aerolinea_Partida       0\n",
            "Vuelo_Partida                  0\n",
            "Cabecera_Arribo                0\n",
            "Año_Vuelo                      0\n",
            "Mes_Vuelo                      0\n",
            "Hora_Vuelo                  4135\n",
            "dtype: int64\n"
          ]
        }
      ]
    },
    {
      "cell_type": "markdown",
      "source": [
        "Cant_pasajeros y hora vuelo es lógico que tengan ceros. Ok."
      ],
      "metadata": {
        "id": "WqsSesCaW5dY"
      }
    },
    {
      "cell_type": "code",
      "source": [
        "#for columna in df.columns:\n",
        "#  print(columna, \"\\n\", df[columna].unique())"
      ],
      "metadata": {
        "id": "wQHbbnwpW-O7"
      },
      "execution_count": null,
      "outputs": []
    },
    {
      "cell_type": "code",
      "source": [
        "frecuencia_columna(df,\"Tipo_Aeronave\")"
      ],
      "metadata": {
        "colab": {
          "base_uri": "https://localhost:8080/"
        },
        "id": "bWmiQlOeYvXt",
        "outputId": "9a466795-b62f-4898-c10b-e978a06343f2"
      },
      "execution_count": null,
      "outputs": [
        {
          "output_type": "stream",
          "name": "stdout",
          "text": [
            "    Tipo_Aeronave  cantidad  porcentaje\n",
            "0            738W     48236      38.408\n",
            "1            E190     30886      24.593\n",
            "2             320     16965      13.508\n",
            "3            737W      6352       5.058\n",
            "4             7M8      4128       3.287\n",
            "..            ...       ...         ...\n",
            "118           312         1       0.001\n",
            "119           ER3         1       0.001\n",
            "120          PA28         1       0.001\n",
            "121          TBM8         1       0.001\n",
            "122         Total    125588     100.000\n",
            "\n",
            "[123 rows x 3 columns]\n"
          ]
        }
      ]
    },
    {
      "cell_type": "code",
      "source": [
        "import matplotlib.pyplot as plt\n",
        "from collections import Counter\n",
        "\n",
        "# Calcular frecuencias y ordenar las categorías por frecuencia\n",
        "frecuencias = Counter(df['Tipo_Aeronave'])\n",
        "categorias_ordenadas, frecuencias_ordenadas = zip(*frecuencias.most_common(10))\n",
        "\n",
        "# Graficar el histograma\n",
        "plt.bar(categorias_ordenadas, frecuencias_ordenadas)\n",
        "\n",
        "# Etiquetas de frecuencias en el eje y\n",
        "plt.ylabel('Frecuencia')\n",
        "\n",
        "# Título del gráfico\n",
        "plt.title('Vuelos por tipo de Aeronave')\n",
        "\n",
        "# Mostrar el gráfico\n",
        "plt.show()"
      ],
      "metadata": {
        "colab": {
          "base_uri": "https://localhost:8080/",
          "height": 452
        },
        "id": "fxMx65RMaJ5S",
        "outputId": "cfced2bb-9870-401a-bdd7-4fbdb13cdd4f"
      },
      "execution_count": null,
      "outputs": [
        {
          "output_type": "display_data",
          "data": {
            "text/plain": [
              "<Figure size 640x480 with 1 Axes>"
            ],
            "image/png": "[encoded data removed]"
          },
          "metadata": {}
        }
      ]
    },
    {
      "cell_type": "markdown",
      "source": [
        "##c)Evaluación de datos de outliers y análisis de los mismos, para decidir qué acción tomar.\n"
      ],
      "metadata": {
        "id": "gfON9gQvPMAT"
      }
    },
    {
      "cell_type": "markdown",
      "source": [
        "No hay outliers de pasajeros"
      ],
      "metadata": {
        "id": "_XTLCSNszYwd"
      }
    },
    {
      "cell_type": "code",
      "source": [
        "print(\"Máximo\", max(df['Cant_Pasajeros']))"
      ],
      "metadata": {
        "colab": {
          "base_uri": "https://localhost:8080/"
        },
        "id": "fKlFIyzazVaZ",
        "outputId": "9de4b10c-0556-496d-b152-35e86875674e"
      },
      "execution_count": null,
      "outputs": [
        {
          "output_type": "stream",
          "name": "stdout",
          "text": [
            "Máximo 225.0\n"
          ]
        }
      ]
    },
    {
      "cell_type": "markdown",
      "source": [
        "<font color='red'> Agregar lo de outliers en tiempos"
      ],
      "metadata": {
        "id": "Cj1jGmRgPVD-"
      }
    },
    {
      "cell_type": "markdown",
      "source": [
        "##d)Transformación de fechas, strings a numéricos y/o categórico y otras, en caso de ser necesario."
      ],
      "metadata": {
        "id": "eIyVevI6JUo7"
      }
    },
    {
      "cell_type": "code",
      "execution_count": null,
      "metadata": {
        "id": "jKOJTDye0U1C",
        "colab": {
          "base_uri": "https://localhost:8080/"
        },
        "outputId": "89fb2928-806e-4a84-a045-cb3e38ffeb83"
      },
      "outputs": [
        {
          "output_type": "stream",
          "name": "stderr",
          "text": [
            "<ipython-input-170-fa323825c6ee>:2: SettingWithCopyWarning: \n",
            "A value is trying to be set on a copy of a slice from a DataFrame.\n",
            "Try using .loc[row_indexer,col_indexer] = value instead\n",
            "\n",
            "See the caveats in the documentation: https://pandas.pydata.org/pandas-docs/stable/user_guide/indexing.html#returning-a-view-versus-a-copy\n",
            "  df.Horario_Prog_Arribo = pd.to_datetime(df.Horario_Prog_Arribo,dayfirst=True)\n",
            "<ipython-input-170-fa323825c6ee>:3: SettingWithCopyWarning: \n",
            "A value is trying to be set on a copy of a slice from a DataFrame.\n",
            "Try using .loc[row_indexer,col_indexer] = value instead\n",
            "\n",
            "See the caveats in the documentation: https://pandas.pydata.org/pandas-docs/stable/user_guide/indexing.html#returning-a-view-versus-a-copy\n",
            "  df.Horario_Estimado_Arribo = pd.to_datetime(df.Horario_Estimado_Arribo)\n",
            "<ipython-input-170-fa323825c6ee>:4: SettingWithCopyWarning: \n",
            "A value is trying to be set on a copy of a slice from a DataFrame.\n",
            "Try using .loc[row_indexer,col_indexer] = value instead\n",
            "\n",
            "See the caveats in the documentation: https://pandas.pydata.org/pandas-docs/stable/user_guide/indexing.html#returning-a-view-versus-a-copy\n",
            "  df.Horario_Actual_Arribo = pd.to_datetime(df.Horario_Actual_Arribo,dayfirst=True)\n",
            "<ipython-input-170-fa323825c6ee>:5: SettingWithCopyWarning: \n",
            "A value is trying to be set on a copy of a slice from a DataFrame.\n",
            "Try using .loc[row_indexer,col_indexer] = value instead\n",
            "\n",
            "See the caveats in the documentation: https://pandas.pydata.org/pandas-docs/stable/user_guide/indexing.html#returning-a-view-versus-a-copy\n",
            "  df.Cant_Pasajeros = pd.to_numeric(df.Cant_Pasajeros)\n"
          ]
        }
      ],
      "source": [
        "# Corrijo tipos de datos que necesito para analizar\n",
        "df.Horario_Prog_Arribo = pd.to_datetime(df.Horario_Prog_Arribo,dayfirst=True)\n",
        "df.Horario_Estimado_Arribo = pd.to_datetime(df.Horario_Estimado_Arribo)\n",
        "df.Horario_Actual_Arribo = pd.to_datetime(df.Horario_Actual_Arribo,dayfirst=True)\n",
        "df.Cant_Pasajeros = pd.to_numeric(df.Cant_Pasajeros)\n",
        "#Faltan?"
      ]
    },
    {
      "cell_type": "code",
      "execution_count": null,
      "metadata": {
        "id": "wXkR0Wmsug-i"
      },
      "outputs": [],
      "source": [
        "#df[['Fecha_Actual_Arribo','Hora_Actual_Arribo']]=df['Horario_Actual_Arribo'].str.split(' ',expand=True) # ver si conviene separar las variables para trabajar con el formato de fecha corta y hora?"
      ]
    },
    {
      "cell_type": "code",
      "execution_count": null,
      "metadata": {
        "colab": {
          "base_uri": "https://localhost:8080/"
        },
        "id": "RyUdhf6CFwvi",
        "outputId": "a41c3216-8deb-4948-aa76-002a41e6456a"
      },
      "outputs": [
        {
          "output_type": "execute_result",
          "data": {
            "text/plain": [
              "Nombre_Aerolinea                    object\n",
              "Codigo_Vuelo                        object\n",
              "Ruta_Vuelo                          object\n",
              "Horario_Prog_Arribo         datetime64[ns]\n",
              "Horario_Estimado_Arribo     datetime64[ns]\n",
              "Horario_Actual_Arribo       datetime64[ns]\n",
              "Tipo_Vuelo                          object\n",
              "Posicion_Arribo                     object\n",
              "Terminal_Arribo                     object\n",
              "Sector                              object\n",
              "Estado_Vuelo                        object\n",
              "Cinta_Equipajes                     object\n",
              "Cant_Pasajeros                     float64\n",
              "Matricula_Aeronave                  object\n",
              "Tipo_Aeronave                       object\n",
              "Nombre_Aerolinea_Partida            object\n",
              "Vuelo_Partida                       object\n",
              "Cabecera_Arribo                    float64\n",
              "Año_Vuelo                            int64\n",
              "Mes_Vuelo                            int64\n",
              "Hora_Vuelo                           int64\n",
              "dtype: object"
            ]
          },
          "metadata": {},
          "execution_count": 172
        }
      ],
      "source": [
        "df.dtypes # Verifico los cambios realizados"
      ]
    },
    {
      "cell_type": "markdown",
      "source": [
        "##e)Limpieza de datos duplicados"
      ],
      "metadata": {
        "id": "dmBavcnePeNG"
      }
    },
    {
      "cell_type": "markdown",
      "source": [
        "Eliminamos duplicados (no hay)"
      ],
      "metadata": {
        "id": "uBumfiU1Ikyo"
      }
    },
    {
      "cell_type": "code",
      "source": [
        "df=df.drop_duplicates() # Borro duplicados\n",
        "print(df.shape) # Verifico líneas al final para saber si hubo cambios"
      ],
      "metadata": {
        "colab": {
          "base_uri": "https://localhost:8080/"
        },
        "id": "go9URMHUInKE",
        "outputId": "96a45579-59f9-4eba-c60e-48d11e1776df"
      },
      "execution_count": null,
      "outputs": [
        {
          "output_type": "stream",
          "name": "stdout",
          "text": [
            "(125588, 21)\n"
          ]
        }
      ]
    },
    {
      "cell_type": "markdown",
      "source": [
        "##f)Eliminación de datos innecesarios"
      ],
      "metadata": {
        "id": "4liBP0jEPmTU"
      }
    },
    {
      "cell_type": "markdown",
      "source": [
        "Por ahora no detectamos datos innecesarios."
      ],
      "metadata": {
        "id": "S-R-s0eLPokB"
      }
    },
    {
      "cell_type": "markdown",
      "source": [
        "##Adicional: unir las bases de datos de aeropuertos y aeronaves a nuestra base:"
      ],
      "metadata": {
        "id": "mmdYdGD2QWe1"
      }
    },
    {
      "cell_type": "code",
      "source": [
        "df = pd.merge(df, Aeropuertos_df, left_on='Ruta_Vuelo', right_on='Código_aeropuerto')\n",
        "df = pd.merge(df, Aeronaves_df, left_on='Tipo_Aeronave', right_on='Tipo de Aeronave')\n",
        "df[:3]"
      ],
      "metadata": {
        "id": "lGfX2uvoQKg7",
        "colab": {
          "base_uri": "https://localhost:8080/",
          "height": 346
        },
        "outputId": "cad84d69-8b1f-4040-b944-64169bd37859"
      },
      "execution_count": null,
      "outputs": [
        {
          "output_type": "execute_result",
          "data": {
            "text/plain": [
              "  Nombre_Aerolinea Codigo_Vuelo Ruta_Vuelo Horario_Prog_Arribo  \\\n",
              "0               DN         6049        IGR 2019-01-01 01:50:00   \n",
              "1               DN         6049        IGR 2019-01-02 01:50:00   \n",
              "2               DN         6049        IGR 2019-01-09 01:50:00   \n",
              "\n",
              "  Horario_Estimado_Arribo Horario_Actual_Arribo Tipo_Vuelo Posicion_Arribo  \\\n",
              "0     2019-01-01 01:22:00   2019-01-01 01:22:00      1 C P              31   \n",
              "1     2019-02-01 02:06:00   2019-01-02 02:06:00      1 C P              30   \n",
              "2     2019-09-01 02:54:00   2019-01-09 02:54:00      1 C P              29   \n",
              "\n",
              "  Terminal_Arribo Sector Estado_Vuelo Cinta_Equipajes  Cant_Pasajeros  \\\n",
              "0               A      2          ATE               8         100.000   \n",
              "1               A      2          ATE               7         148.000   \n",
              "2               A      2          ATE               6         128.000   \n",
              "\n",
              "  Matricula_Aeronave Tipo_Aeronave Nombre_Aerolinea_Partida Vuelo_Partida  \\\n",
              "0              LVHQH           738                       DN          6062   \n",
              "1              LVHQH           738                       DN          6022   \n",
              "2              LVHQH           738                       DN          6062   \n",
              "\n",
              "   Cabecera_Arribo  Año_Vuelo  Mes_Vuelo  Hora_Vuelo Código_aeropuerto  \\\n",
              "0           31.000       2019          1           1               IGR   \n",
              "1           31.000       2019          1           1               IGR   \n",
              "2           13.000       2019          1           1               IGR   \n",
              "\n",
              "                            Nombre_aeropuerto       Pais         Ciudad  \\\n",
              "0  Cataratas del Iguazú International Airport  Argentina  Puerto Iguazú   \n",
              "1  Cataratas del Iguazú International Airport  Argentina  Puerto Iguazú   \n",
              "2  Cataratas del Iguazú International Airport  Argentina  Puerto Iguazú   \n",
              "\n",
              "  Tipo de Aeronave Capacidad máxima de pasajeros            Uso más común  \n",
              "0              738                           189  Transporte de pasajeros  \n",
              "1              738                           189  Transporte de pasajeros  \n",
              "2              738                           189  Transporte de pasajeros  "
            ],
            "text/html": [
              "\n",
              "  <div id=\"df-5645b974-4396-40ff-9acd-e3bb84843941\">\n",
              "    <div class=\"colab-df-container\">\n",
              "      <div>\n",
              "<style scoped>\n",
              "    .dataframe tbody tr th:only-of-type {\n",
              "        vertical-align: middle;\n",
              "    }\n",
              "\n",
              "    .dataframe tbody tr th {\n",
              "        vertical-align: top;\n",
              "    }\n",
              "\n",
              "    .dataframe thead th {\n",
              "        text-align: right;\n",
              "    }\n",
              "</style>\n",
              "<table border=\"1\" class=\"dataframe\">\n",
              "  <thead>\n",
              "    <tr style=\"text-align: right;\">\n",
              "      <th></th>\n",
              "      <th>Nombre_Aerolinea</th>\n",
              "      <th>Codigo_Vuelo</th>\n",
              "      <th>Ruta_Vuelo</th>\n",
              "      <th>Horario_Prog_Arribo</th>\n",
              "      <th>Horario_Estimado_Arribo</th>\n",
              "      <th>Horario_Actual_Arribo</th>\n",
              "      <th>Tipo_Vuelo</th>\n",
              "      <th>Posicion_Arribo</th>\n",
              "      <th>Terminal_Arribo</th>\n",
              "      <th>Sector</th>\n",
              "      <th>Estado_Vuelo</th>\n",
              "      <th>Cinta_Equipajes</th>\n",
              "      <th>Cant_Pasajeros</th>\n",
              "      <th>Matricula_Aeronave</th>\n",
              "      <th>Tipo_Aeronave</th>\n",
              "      <th>Nombre_Aerolinea_Partida</th>\n",
              "      <th>Vuelo_Partida</th>\n",
              "      <th>Cabecera_Arribo</th>\n",
              "      <th>Año_Vuelo</th>\n",
              "      <th>Mes_Vuelo</th>\n",
              "      <th>Hora_Vuelo</th>\n",
              "      <th>Código_aeropuerto</th>\n",
              "      <th>Nombre_aeropuerto</th>\n",
              "      <th>Pais</th>\n",
              "      <th>Ciudad</th>\n",
              "      <th>Tipo de Aeronave</th>\n",
              "      <th>Capacidad máxima de pasajeros</th>\n",
              "      <th>Uso más común</th>\n",
              "    </tr>\n",
              "  </thead>\n",
              "  <tbody>\n",
              "    <tr>\n",
              "      <th>0</th>\n",
              "      <td>DN</td>\n",
              "      <td>6049</td>\n",
              "      <td>IGR</td>\n",
              "      <td>2019-01-01 01:50:00</td>\n",
              "      <td>2019-01-01 01:22:00</td>\n",
              "      <td>2019-01-01 01:22:00</td>\n",
              "      <td>1 C P</td>\n",
              "      <td>31</td>\n",
              "      <td>A</td>\n",
              "      <td>2</td>\n",
              "      <td>ATE</td>\n",
              "      <td>8</td>\n",
              "      <td>100.000</td>\n",
              "      <td>LVHQH</td>\n",
              "      <td>738</td>\n",
              "      <td>DN</td>\n",
              "      <td>6062</td>\n",
              "      <td>31.000</td>\n",
              "      <td>2019</td>\n",
              "      <td>1</td>\n",
              "      <td>1</td>\n",
              "      <td>IGR</td>\n",
              "      <td>Cataratas del Iguazú International Airport</td>\n",
              "      <td>Argentina</td>\n",
              "      <td>Puerto Iguazú</td>\n",
              "      <td>738</td>\n",
              "      <td>189</td>\n",
              "      <td>Transporte de pasajeros</td>\n",
              "    </tr>\n",
              "    <tr>\n",
              "      <th>1</th>\n",
              "      <td>DN</td>\n",
              "      <td>6049</td>\n",
              "      <td>IGR</td>\n",
              "      <td>2019-01-02 01:50:00</td>\n",
              "      <td>2019-02-01 02:06:00</td>\n",
              "      <td>2019-01-02 02:06:00</td>\n",
              "      <td>1 C P</td>\n",
              "      <td>30</td>\n",
              "      <td>A</td>\n",
              "      <td>2</td>\n",
              "      <td>ATE</td>\n",
              "      <td>7</td>\n",
              "      <td>148.000</td>\n",
              "      <td>LVHQH</td>\n",
              "      <td>738</td>\n",
              "      <td>DN</td>\n",
              "      <td>6022</td>\n",
              "      <td>31.000</td>\n",
              "      <td>2019</td>\n",
              "      <td>1</td>\n",
              "      <td>1</td>\n",
              "      <td>IGR</td>\n",
              "      <td>Cataratas del Iguazú International Airport</td>\n",
              "      <td>Argentina</td>\n",
              "      <td>Puerto Iguazú</td>\n",
              "      <td>738</td>\n",
              "      <td>189</td>\n",
              "      <td>Transporte de pasajeros</td>\n",
              "    </tr>\n",
              "    <tr>\n",
              "      <th>2</th>\n",
              "      <td>DN</td>\n",
              "      <td>6049</td>\n",
              "      <td>IGR</td>\n",
              "      <td>2019-01-09 01:50:00</td>\n",
              "      <td>2019-09-01 02:54:00</td>\n",
              "      <td>2019-01-09 02:54:00</td>\n",
              "      <td>1 C P</td>\n",
              "      <td>29</td>\n",
              "      <td>A</td>\n",
              "      <td>2</td>\n",
              "      <td>ATE</td>\n",
              "      <td>6</td>\n",
              "      <td>128.000</td>\n",
              "      <td>LVHQH</td>\n",
              "      <td>738</td>\n",
              "      <td>DN</td>\n",
              "      <td>6062</td>\n",
              "      <td>13.000</td>\n",
              "      <td>2019</td>\n",
              "      <td>1</td>\n",
              "      <td>1</td>\n",
              "      <td>IGR</td>\n",
              "      <td>Cataratas del Iguazú International Airport</td>\n",
              "      <td>Argentina</td>\n",
              "      <td>Puerto Iguazú</td>\n",
              "      <td>738</td>\n",
              "      <td>189</td>\n",
              "      <td>Transporte de pasajeros</td>\n",
              "    </tr>\n",
              "  </tbody>\n",
              "</table>\n",
              "</div>\n",
              "      <button class=\"colab-df-convert\" onclick=\"convertToInteractive('df-5645b974-4396-40ff-9acd-e3bb84843941')\"\n",
              "              title=\"Convert this dataframe to an interactive table.\"\n",
              "              style=\"display:none;\">\n",
              "        \n",
              "  <svg xmlns=\"http://www.w3.org/2000/svg\" height=\"24px\"viewBox=\"0 0 24 24\"\n",
              "       width=\"24px\">\n",
              "    <path d=\"M0 0h24v24H0V0z\" fill=\"none\"/>\n",
              "    <path d=\"M18.56 5.44l.94 2.06.94-2.06 2.06-.94-2.06-.94-.94-2.06-.94 2.06-2.06.94zm-11 1L8.5 8.5l.94-2.06 2.06-.94-2.06-.94L8.5 2.5l-.94 2.06-2.06.94zm10 10l.94 2.06.94-2.06 2.06-.94-2.06-.94-.94-2.06-.94 2.06-2.06.94z\"/><path d=\"M17.41 7.96l-1.37-1.37c-.4-.4-.92-.59-1.43-.59-.52 0-1.04.2-1.43.59L10.3 9.45l-7.72 7.72c-.78.78-.78 2.05 0 2.83L4 21.41c.39.39.9.59 1.41.59.51 0 1.02-.2 1.41-.59l7.78-7.78 2.81-2.81c.8-.78.8-2.07 0-2.86zM5.41 20L4 18.59l7.72-7.72 1.47 1.35L5.41 20z\"/>\n",
              "  </svg>\n",
              "      </button>\n",
              "      \n",
              "  <style>\n",
              "    .colab-df-container {\n",
              "      display:flex;\n",
              "      flex-wrap:wrap;\n",
              "      gap: 12px;\n",
              "    }\n",
              "\n",
              "    .colab-df-convert {\n",
              "      background-color: #E8F0FE;\n",
              "      border: none;\n",
              "      border-radius: 50%;\n",
              "      cursor: pointer;\n",
              "      display: none;\n",
              "      fill: #1967D2;\n",
              "      height: 32px;\n",
              "      padding: 0 0 0 0;\n",
              "      width: 32px;\n",
              "    }\n",
              "\n",
              "    .colab-df-convert:hover {\n",
              "      background-color: #E2EBFA;\n",
              "      box-shadow: 0px 1px 2px rgba(60, 64, 67, 0.3), 0px 1px 3px 1px rgba(60, 64, 67, 0.15);\n",
              "      fill: #174EA6;\n",
              "    }\n",
              "\n",
              "    [theme=dark] .colab-df-convert {\n",
              "      background-color: #3B4455;\n",
              "      fill: #D2E3FC;\n",
              "    }\n",
              "\n",
              "    [theme=dark] .colab-df-convert:hover {\n",
              "      background-color: #434B5C;\n",
              "      box-shadow: 0px 1px 3px 1px rgba(0, 0, 0, 0.15);\n",
              "      filter: drop-shadow(0px 1px 2px rgba(0, 0, 0, 0.3));\n",
              "      fill: #FFFFFF;\n",
              "    }\n",
              "  </style>\n",
              "\n",
              "      <script>\n",
              "        const buttonEl =\n",
              "          document.querySelector('#df-5645b974-4396-40ff-9acd-e3bb84843941 button.colab-df-convert');\n",
              "        buttonEl.style.display =\n",
              "          google.colab.kernel.accessAllowed ? 'block' : 'none';\n",
              "\n",
              "        async function convertToInteractive(key) {\n",
              "          const element = document.querySelector('#df-5645b974-4396-40ff-9acd-e3bb84843941');\n",
              "          const dataTable =\n",
              "            await google.colab.kernel.invokeFunction('convertToInteractive',\n",
              "                                                     [key], {});\n",
              "          if (!dataTable) return;\n",
              "\n",
              "          const docLinkHtml = 'Like what you see? Visit the ' +\n",
              "            '<a target=\"_blank\" href=https://colab.research.google.com/notebooks/data_table.ipynb>data table notebook</a>'\n",
              "            + ' to learn more about interactive tables.';\n",
              "          element.innerHTML = '';\n",
              "          dataTable['output_type'] = 'display_data';\n",
              "          await google.colab.output.renderOutput(dataTable, element);\n",
              "          const docLink = document.createElement('div');\n",
              "          docLink.innerHTML = docLinkHtml;\n",
              "          element.appendChild(docLink);\n",
              "        }\n",
              "      </script>\n",
              "    </div>\n",
              "  </div>\n",
              "  "
            ]
          },
          "metadata": {},
          "execution_count": 174
        }
      ]
    },
    {
      "cell_type": "code",
      "source": [
        "df = df.drop('Código_aeropuerto', axis=1)\n",
        "df = df.drop('Tipo de Aeronave', axis=1)\n",
        "df.rename(columns={'Pais': 'Pais_Aeropuerto', # '4M' '5U' 'A0' 'AJ' 'AR' 'AU' 'DN' 'FAA' 'FO' 'FQ' 'G3' 'H2' 'H8' 'JA', 'LA' 'LP' 'OY' 'PRV' 'USF' 'VH' 'WJ' 'Z7' 'ZP'\n",
        "           'Ciudad': 'Ciudad_Aeropuerto',\n",
        "           'Capacidad máxima de pasajeros': 'Capacidad_Max_Aeronave',\n",
        "           'Uso más común': 'Uso_Aeronave'},\n",
        "           inplace = True)\n",
        "df[:3]"
      ],
      "metadata": {
        "colab": {
          "base_uri": "https://localhost:8080/",
          "height": 260
        },
        "id": "4PTmnL4tRrKK",
        "outputId": "0a1011c9-6696-4793-b3fd-bc0bfc562265"
      },
      "execution_count": null,
      "outputs": [
        {
          "output_type": "execute_result",
          "data": {
            "text/plain": [
              "  Nombre_Aerolinea Codigo_Vuelo Ruta_Vuelo Horario_Prog_Arribo  \\\n",
              "0               DN         6049        IGR 2019-01-01 01:50:00   \n",
              "1               DN         6049        IGR 2019-01-02 01:50:00   \n",
              "2               DN         6049        IGR 2019-01-09 01:50:00   \n",
              "\n",
              "  Horario_Estimado_Arribo Horario_Actual_Arribo Tipo_Vuelo Posicion_Arribo  \\\n",
              "0     2019-01-01 01:22:00   2019-01-01 01:22:00      1 C P              31   \n",
              "1     2019-02-01 02:06:00   2019-01-02 02:06:00      1 C P              30   \n",
              "2     2019-09-01 02:54:00   2019-01-09 02:54:00      1 C P              29   \n",
              "\n",
              "  Terminal_Arribo Sector Estado_Vuelo Cinta_Equipajes  Cant_Pasajeros  \\\n",
              "0               A      2          ATE               8         100.000   \n",
              "1               A      2          ATE               7         148.000   \n",
              "2               A      2          ATE               6         128.000   \n",
              "\n",
              "  Matricula_Aeronave Tipo_Aeronave Nombre_Aerolinea_Partida Vuelo_Partida  \\\n",
              "0              LVHQH           738                       DN          6062   \n",
              "1              LVHQH           738                       DN          6022   \n",
              "2              LVHQH           738                       DN          6062   \n",
              "\n",
              "   Cabecera_Arribo  Año_Vuelo  Mes_Vuelo  Hora_Vuelo  \\\n",
              "0           31.000       2019          1           1   \n",
              "1           31.000       2019          1           1   \n",
              "2           13.000       2019          1           1   \n",
              "\n",
              "                            Nombre_aeropuerto Pais_Aeropuerto  \\\n",
              "0  Cataratas del Iguazú International Airport       Argentina   \n",
              "1  Cataratas del Iguazú International Airport       Argentina   \n",
              "2  Cataratas del Iguazú International Airport       Argentina   \n",
              "\n",
              "  Ciudad_Aeropuerto Capacidad_Max_Aeronave             Uso_Aeronave  \n",
              "0     Puerto Iguazú                    189  Transporte de pasajeros  \n",
              "1     Puerto Iguazú                    189  Transporte de pasajeros  \n",
              "2     Puerto Iguazú                    189  Transporte de pasajeros  "
            ],
            "text/html": [
              "\n",
              "  <div id=\"df-caca4b28-a7fb-41d5-891a-e82c85fbf14e\">\n",
              "    <div class=\"colab-df-container\">\n",
              "      <div>\n",
              "<style scoped>\n",
              "    .dataframe tbody tr th:only-of-type {\n",
              "        vertical-align: middle;\n",
              "    }\n",
              "\n",
              "    .dataframe tbody tr th {\n",
              "        vertical-align: top;\n",
              "    }\n",
              "\n",
              "    .dataframe thead th {\n",
              "        text-align: right;\n",
              "    }\n",
              "</style>\n",
              "<table border=\"1\" class=\"dataframe\">\n",
              "  <thead>\n",
              "    <tr style=\"text-align: right;\">\n",
              "      <th></th>\n",
              "      <th>Nombre_Aerolinea</th>\n",
              "      <th>Codigo_Vuelo</th>\n",
              "      <th>Ruta_Vuelo</th>\n",
              "      <th>Horario_Prog_Arribo</th>\n",
              "      <th>Horario_Estimado_Arribo</th>\n",
              "      <th>Horario_Actual_Arribo</th>\n",
              "      <th>Tipo_Vuelo</th>\n",
              "      <th>Posicion_Arribo</th>\n",
              "      <th>Terminal_Arribo</th>\n",
              "      <th>Sector</th>\n",
              "      <th>Estado_Vuelo</th>\n",
              "      <th>Cinta_Equipajes</th>\n",
              "      <th>Cant_Pasajeros</th>\n",
              "      <th>Matricula_Aeronave</th>\n",
              "      <th>Tipo_Aeronave</th>\n",
              "      <th>Nombre_Aerolinea_Partida</th>\n",
              "      <th>Vuelo_Partida</th>\n",
              "      <th>Cabecera_Arribo</th>\n",
              "      <th>Año_Vuelo</th>\n",
              "      <th>Mes_Vuelo</th>\n",
              "      <th>Hora_Vuelo</th>\n",
              "      <th>Nombre_aeropuerto</th>\n",
              "      <th>Pais_Aeropuerto</th>\n",
              "      <th>Ciudad_Aeropuerto</th>\n",
              "      <th>Capacidad_Max_Aeronave</th>\n",
              "      <th>Uso_Aeronave</th>\n",
              "    </tr>\n",
              "  </thead>\n",
              "  <tbody>\n",
              "    <tr>\n",
              "      <th>0</th>\n",
              "      <td>DN</td>\n",
              "      <td>6049</td>\n",
              "      <td>IGR</td>\n",
              "      <td>2019-01-01 01:50:00</td>\n",
              "      <td>2019-01-01 01:22:00</td>\n",
              "      <td>2019-01-01 01:22:00</td>\n",
              "      <td>1 C P</td>\n",
              "      <td>31</td>\n",
              "      <td>A</td>\n",
              "      <td>2</td>\n",
              "      <td>ATE</td>\n",
              "      <td>8</td>\n",
              "      <td>100.000</td>\n",
              "      <td>LVHQH</td>\n",
              "      <td>738</td>\n",
              "      <td>DN</td>\n",
              "      <td>6062</td>\n",
              "      <td>31.000</td>\n",
              "      <td>2019</td>\n",
              "      <td>1</td>\n",
              "      <td>1</td>\n",
              "      <td>Cataratas del Iguazú International Airport</td>\n",
              "      <td>Argentina</td>\n",
              "      <td>Puerto Iguazú</td>\n",
              "      <td>189</td>\n",
              "      <td>Transporte de pasajeros</td>\n",
              "    </tr>\n",
              "    <tr>\n",
              "      <th>1</th>\n",
              "      <td>DN</td>\n",
              "      <td>6049</td>\n",
              "      <td>IGR</td>\n",
              "      <td>2019-01-02 01:50:00</td>\n",
              "      <td>2019-02-01 02:06:00</td>\n",
              "      <td>2019-01-02 02:06:00</td>\n",
              "      <td>1 C P</td>\n",
              "      <td>30</td>\n",
              "      <td>A</td>\n",
              "      <td>2</td>\n",
              "      <td>ATE</td>\n",
              "      <td>7</td>\n",
              "      <td>148.000</td>\n",
              "      <td>LVHQH</td>\n",
              "      <td>738</td>\n",
              "      <td>DN</td>\n",
              "      <td>6022</td>\n",
              "      <td>31.000</td>\n",
              "      <td>2019</td>\n",
              "      <td>1</td>\n",
              "      <td>1</td>\n",
              "      <td>Cataratas del Iguazú International Airport</td>\n",
              "      <td>Argentina</td>\n",
              "      <td>Puerto Iguazú</td>\n",
              "      <td>189</td>\n",
              "      <td>Transporte de pasajeros</td>\n",
              "    </tr>\n",
              "    <tr>\n",
              "      <th>2</th>\n",
              "      <td>DN</td>\n",
              "      <td>6049</td>\n",
              "      <td>IGR</td>\n",
              "      <td>2019-01-09 01:50:00</td>\n",
              "      <td>2019-09-01 02:54:00</td>\n",
              "      <td>2019-01-09 02:54:00</td>\n",
              "      <td>1 C P</td>\n",
              "      <td>29</td>\n",
              "      <td>A</td>\n",
              "      <td>2</td>\n",
              "      <td>ATE</td>\n",
              "      <td>6</td>\n",
              "      <td>128.000</td>\n",
              "      <td>LVHQH</td>\n",
              "      <td>738</td>\n",
              "      <td>DN</td>\n",
              "      <td>6062</td>\n",
              "      <td>13.000</td>\n",
              "      <td>2019</td>\n",
              "      <td>1</td>\n",
              "      <td>1</td>\n",
              "      <td>Cataratas del Iguazú International Airport</td>\n",
              "      <td>Argentina</td>\n",
              "      <td>Puerto Iguazú</td>\n",
              "      <td>189</td>\n",
              "      <td>Transporte de pasajeros</td>\n",
              "    </tr>\n",
              "  </tbody>\n",
              "</table>\n",
              "</div>\n",
              "      <button class=\"colab-df-convert\" onclick=\"convertToInteractive('df-caca4b28-a7fb-41d5-891a-e82c85fbf14e')\"\n",
              "              title=\"Convert this dataframe to an interactive table.\"\n",
              "              style=\"display:none;\">\n",
              "        \n",
              "  <svg xmlns=\"http://www.w3.org/2000/svg\" height=\"24px\"viewBox=\"0 0 24 24\"\n",
              "       width=\"24px\">\n",
              "    <path d=\"M0 0h24v24H0V0z\" fill=\"none\"/>\n",
              "    <path d=\"M18.56 5.44l.94 2.06.94-2.06 2.06-.94-2.06-.94-.94-2.06-.94 2.06-2.06.94zm-11 1L8.5 8.5l.94-2.06 2.06-.94-2.06-.94L8.5 2.5l-.94 2.06-2.06.94zm10 10l.94 2.06.94-2.06 2.06-.94-2.06-.94-.94-2.06-.94 2.06-2.06.94z\"/><path d=\"M17.41 7.96l-1.37-1.37c-.4-.4-.92-.59-1.43-.59-.52 0-1.04.2-1.43.59L10.3 9.45l-7.72 7.72c-.78.78-.78 2.05 0 2.83L4 21.41c.39.39.9.59 1.41.59.51 0 1.02-.2 1.41-.59l7.78-7.78 2.81-2.81c.8-.78.8-2.07 0-2.86zM5.41 20L4 18.59l7.72-7.72 1.47 1.35L5.41 20z\"/>\n",
              "  </svg>\n",
              "      </button>\n",
              "      \n",
              "  <style>\n",
              "    .colab-df-container {\n",
              "      display:flex;\n",
              "      flex-wrap:wrap;\n",
              "      gap: 12px;\n",
              "    }\n",
              "\n",
              "    .colab-df-convert {\n",
              "      background-color: #E8F0FE;\n",
              "      border: none;\n",
              "      border-radius: 50%;\n",
              "      cursor: pointer;\n",
              "      display: none;\n",
              "      fill: #1967D2;\n",
              "      height: 32px;\n",
              "      padding: 0 0 0 0;\n",
              "      width: 32px;\n",
              "    }\n",
              "\n",
              "    .colab-df-convert:hover {\n",
              "      background-color: #E2EBFA;\n",
              "      box-shadow: 0px 1px 2px rgba(60, 64, 67, 0.3), 0px 1px 3px 1px rgba(60, 64, 67, 0.15);\n",
              "      fill: #174EA6;\n",
              "    }\n",
              "\n",
              "    [theme=dark] .colab-df-convert {\n",
              "      background-color: #3B4455;\n",
              "      fill: #D2E3FC;\n",
              "    }\n",
              "\n",
              "    [theme=dark] .colab-df-convert:hover {\n",
              "      background-color: #434B5C;\n",
              "      box-shadow: 0px 1px 3px 1px rgba(0, 0, 0, 0.15);\n",
              "      filter: drop-shadow(0px 1px 2px rgba(0, 0, 0, 0.3));\n",
              "      fill: #FFFFFF;\n",
              "    }\n",
              "  </style>\n",
              "\n",
              "      <script>\n",
              "        const buttonEl =\n",
              "          document.querySelector('#df-caca4b28-a7fb-41d5-891a-e82c85fbf14e button.colab-df-convert');\n",
              "        buttonEl.style.display =\n",
              "          google.colab.kernel.accessAllowed ? 'block' : 'none';\n",
              "\n",
              "        async function convertToInteractive(key) {\n",
              "          const element = document.querySelector('#df-caca4b28-a7fb-41d5-891a-e82c85fbf14e');\n",
              "          const dataTable =\n",
              "            await google.colab.kernel.invokeFunction('convertToInteractive',\n",
              "                                                     [key], {});\n",
              "          if (!dataTable) return;\n",
              "\n",
              "          const docLinkHtml = 'Like what you see? Visit the ' +\n",
              "            '<a target=\"_blank\" href=https://colab.research.google.com/notebooks/data_table.ipynb>data table notebook</a>'\n",
              "            + ' to learn more about interactive tables.';\n",
              "          element.innerHTML = '';\n",
              "          dataTable['output_type'] = 'display_data';\n",
              "          await google.colab.output.renderOutput(dataTable, element);\n",
              "          const docLink = document.createElement('div');\n",
              "          docLink.innerHTML = docLinkHtml;\n",
              "          element.appendChild(docLink);\n",
              "        }\n",
              "      </script>\n",
              "    </div>\n",
              "  </div>\n",
              "  "
            ]
          },
          "metadata": {},
          "execution_count": 175
        }
      ]
    },
    {
      "cell_type": "code",
      "source": [
        "#Control de que todas las columnas agregadas tengan datos:\n",
        "porcentaje_nulos(df)"
      ],
      "metadata": {
        "colab": {
          "base_uri": "https://localhost:8080/"
        },
        "id": "vrgMzE8cT0jD",
        "outputId": "5ed611b9-159a-47c0-8bec-832f43308427"
      },
      "execution_count": null,
      "outputs": [
        {
          "output_type": "stream",
          "name": "stdout",
          "text": [
            "Series([], dtype: float64)\n"
          ]
        }
      ]
    },
    {
      "cell_type": "markdown",
      "source": [
        "#4. Preguntas relevantes del negocio"
      ],
      "metadata": {
        "id": "OJ0LSOcmPt_0"
      }
    },
    {
      "cell_type": "markdown",
      "source": [
        "##a)¿Cómo varía el volumen total de arribos según el mes? ¿y por día de la semana?"
      ],
      "metadata": {
        "id": "VbhUGY78Pza4"
      }
    },
    {
      "cell_type": "code",
      "source": [
        "#@title Vuelos por Mes en el año 2019\n",
        "df[df['Año_Vuelo'] == 2019].groupby(df['Mes_Vuelo']).Nombre_Aerolinea.count().plot(kind='line', figsize=(7, 3))\n",
        "\n",
        "plt.title('Cantidad de vuelos por mes')\n",
        "plt.legend(['2019'])\n",
        "plt.show()"
      ],
      "metadata": {
        "id": "HC4oefWFmV8E",
        "colab": {
          "base_uri": "https://localhost:8080/",
          "height": 333
        },
        "outputId": "f05121ec-a21d-408b-ad36-6e54f9dd41bc"
      },
      "execution_count": null,
      "outputs": [
        {
          "output_type": "display_data",
          "data": {
            "text/plain": [
              "<Figure size 700x300 with 1 Axes>"
            ],
            "image/png": "[encoded data removed]"
          },
          "metadata": {}
        }
      ]
    },
    {
      "cell_type": "code",
      "source": [
        "#Creación de nueva columna que contenga el dia que se realizo cada vuelo\n",
        "dia=[]\n",
        "for i in df.index:\n",
        "    d = df['Horario_Prog_Arribo'][i].weekday()   #La funcion weekday() devuelve un nuumero del 0 al 6, donde 0 es Lunes y el 6 Domingo\n",
        "    dia.append(d)\n",
        "df['Dia_Semana']=dia"
      ],
      "metadata": {
        "id": "UrBnIHuimnj7"
      },
      "execution_count": null,
      "outputs": []
    },
    {
      "cell_type": "code",
      "source": [
        "#@title Dia de la semana con mas vuelos en el año 2019\n",
        "df[df['Año_Vuelo'] == 2019].groupby(df['Dia_Semana']).Nombre_Aerolinea.count().plot(kind='line', figsize=(7, 3))\n",
        "\n",
        "plt.title('Cantidad de vuelos vs dias de la semana')\n",
        "plt.legend(['2019'])\n",
        "plt.show()"
      ],
      "metadata": {
        "id": "ab97jJmkmqgj",
        "colab": {
          "base_uri": "https://localhost:8080/",
          "height": 333
        },
        "outputId": "f0fccf11-e11f-4aa3-8782-ade2c3f30d54"
      },
      "execution_count": null,
      "outputs": [
        {
          "output_type": "display_data",
          "data": {
            "text/plain": [
              "<Figure size 700x300 with 1 Axes>"
            ],
            "image/png": "[encoded data removed]"
          },
          "metadata": {}
        }
      ]
    },
    {
      "cell_type": "markdown",
      "source": [
        "##Si analizamos el año 2019, vemos que en ENERO tenemos la mayor concurrencia de vuelos y respecto a que dia es el que mayor volumen de vuelos presenta podemos decir que son los LUNES Y VIERNES."
      ],
      "metadata": {
        "id": "m9eKllJ8m2MX"
      }
    },
    {
      "cell_type": "markdown",
      "source": [
        "##b)¿Cómo varía el volumen de pasajeros por mes?"
      ],
      "metadata": {
        "id": "_Jkxq9jvP3fg"
      }
    },
    {
      "cell_type": "code",
      "source": [
        "df[df['Año_Vuelo'] == 2019].groupby(df['Mes_Vuelo']).Cant_Pasajeros.sum().plot(kind='line', figsize=(7, 3))\n",
        "df[df['Año_Vuelo'] == 2020].groupby(df['Mes_Vuelo']).Cant_Pasajeros.sum().plot(kind='line', figsize=(7, 3))\n",
        "df[df['Año_Vuelo'] == 2021].groupby(df['Mes_Vuelo']).Cant_Pasajeros.sum().plot(kind='line', figsize=(7, 3))\n",
        "df[df['Año_Vuelo'] == 2022].groupby(df['Mes_Vuelo']).Cant_Pasajeros.sum().plot(kind='line', figsize=(7, 3))\n",
        "\n",
        "plt.title('Pasajeros por mes')\n",
        "plt.legend(['2019', '2020', '2021', '2022'])\n",
        "plt.show()"
      ],
      "metadata": {
        "id": "yDaJDtWGp1bI",
        "colab": {
          "base_uri": "https://localhost:8080/",
          "height": 333
        },
        "outputId": "2e5bb244-75e8-49bf-ad1d-6b975528f2f8"
      },
      "execution_count": null,
      "outputs": [
        {
          "output_type": "display_data",
          "data": {
            "text/plain": [
              "<Figure size 700x300 with 1 Axes>"
            ],
            "image/png": "[encoded data removed]"
          },
          "metadata": {}
        }
      ]
    },
    {
      "cell_type": "markdown",
      "source": [
        "##c)¿Existe alguna tendencia ó fluctuación cíclica en función de la estacionalidad? ¿Hay días especiales en el año?\n"
      ],
      "metadata": {
        "id": "j1ws0e5-QJUo"
      }
    },
    {
      "cell_type": "code",
      "source": [
        "#Creacion de una nueva columna que solo contenga la el dia mes y año parar poder analizar cada dia\n",
        "import datetime\n",
        "\n",
        "Dma= []\n",
        "for i in df.index:\n",
        "    d =  datetime.date(df['Horario_Prog_Arribo'][i].year,df['Horario_Prog_Arribo'][i].month, df['Horario_Prog_Arribo'][i].day)\n",
        "    Dma.append(d)\n",
        "\n",
        "df['D_M_A'] = Dma"
      ],
      "metadata": {
        "id": "o7CsoGcP2KmZ"
      },
      "execution_count": null,
      "outputs": []
    },
    {
      "cell_type": "code",
      "source": [
        "df[df['Año_Vuelo'] == 2019].groupby(df['D_M_A']).Nombre_Aerolinea.count().plot(kind='line', figsize=(7, 3))\n",
        "\n",
        "plt.title('Cantidad de vuelos por dia')\n",
        "plt.legend(['2019'])\n",
        "plt.show()"
      ],
      "metadata": {
        "id": "Dz4y5iwU2Xta",
        "colab": {
          "base_uri": "https://localhost:8080/",
          "height": 333
        },
        "outputId": "2cea5106-ddf4-43a9-8f27-5e3d93418b71"
      },
      "execution_count": null,
      "outputs": [
        {
          "output_type": "display_data",
          "data": {
            "text/plain": [
              "<Figure size 700x300 with 1 Axes>"
            ],
            "image/png": "[encoded data removed]"
          },
          "metadata": {}
        }
      ]
    },
    {
      "cell_type": "code",
      "source": [
        "#@title Dia con mayor numero de vuelos\n",
        "df[df['Año_Vuelo'] == 2019].groupby(df['D_M_A']).Nombre_Aerolinea.count().idxmax() , df[df['Año_Vuelo'] == 2019].groupby(df['D_M_A']).Nombre_Aerolinea.count().max()"
      ],
      "metadata": {
        "id": "XW7Te3rL3RZa",
        "colab": {
          "base_uri": "https://localhost:8080/"
        },
        "outputId": "4d2f3756-7e93-4710-d8c1-c582b7c1634e"
      },
      "execution_count": null,
      "outputs": [
        {
          "output_type": "execute_result",
          "data": {
            "text/plain": [
              "(datetime.date(2019, 1, 4), 165)"
            ]
          },
          "metadata": {},
          "execution_count": 183
        }
      ]
    },
    {
      "cell_type": "code",
      "source": [
        "df[df['Año_Vuelo'] == 2019].groupby(df['D_M_A']).Cant_Pasajeros.sum().plot(kind='line', figsize=(7, 3))\n",
        "\n",
        "plt.title('Cantidad de pasajeros por dia')\n",
        "plt.legend(['2019'])\n",
        "plt.show()"
      ],
      "metadata": {
        "id": "9E_xmMtf2aNZ",
        "colab": {
          "base_uri": "https://localhost:8080/",
          "height": 333
        },
        "outputId": "50bf6738-de08-4a78-b581-af2ec6285b5c"
      },
      "execution_count": null,
      "outputs": [
        {
          "output_type": "display_data",
          "data": {
            "text/plain": [
              "<Figure size 700x300 with 1 Axes>"
            ],
            "image/png": "[encoded data removed]"
          },
          "metadata": {}
        }
      ]
    },
    {
      "cell_type": "code",
      "source": [
        "#@title Dia con mayor numero de pasajeros\n",
        "df[df['Año_Vuelo'] == 2019].groupby(df['D_M_A']).Cant_Pasajeros.sum().idxmax() , df[df['Año_Vuelo'] == 2019].groupby(df['D_M_A']).Cant_Pasajeros.sum().max()"
      ],
      "metadata": {
        "id": "xMzQYr5N20Bu",
        "colab": {
          "base_uri": "https://localhost:8080/"
        },
        "outputId": "e4e77347-65d9-4cb2-fccc-70bc627cec09"
      },
      "execution_count": null,
      "outputs": [
        {
          "output_type": "execute_result",
          "data": {
            "text/plain": [
              "(datetime.date(2019, 3, 5), 20025.0)"
            ]
          },
          "metadata": {},
          "execution_count": 185
        }
      ]
    },
    {
      "cell_type": "markdown",
      "source": [
        "##d)¿Cual es la distribución de vuelos provenientes de los distintos orígenes?"
      ],
      "metadata": {
        "id": "aReFHP99QSAE"
      }
    },
    {
      "cell_type": "markdown",
      "source": [
        "##e) y otras similares."
      ],
      "metadata": {
        "id": "8TJlOfElQWdU"
      }
    },
    {
      "cell_type": "markdown",
      "source": [
        "#5 Nuevas columnas"
      ],
      "metadata": {
        "id": "vOdBOZ1wQcBS"
      }
    },
    {
      "cell_type": "markdown",
      "source": [
        "##a)Construcción de columnas de información valiosa. Por ejemplo, crear una columna donde solo este el mes, para hacer un conteo de vuelos por meses, etc.\n"
      ],
      "metadata": {
        "id": "q3v0LpPOQfBB"
      }
    },
    {
      "cell_type": "markdown",
      "source": [
        "##b)Idealmente, construir columna target suponiendo predicción de retraso. Para esto, se debería calcular la diferencia entre horario programado de arribo y horario real de arribo…"
      ],
      "metadata": {
        "id": "tXeccdvtQwsB"
      }
    },
    {
      "cell_type": "markdown",
      "source": [
        "##c)En caso de construir dicha columna, evaluar el balance (proporción de 1 vs proporción de 0) de la misma, y la distribución de las otras variables contra el target."
      ],
      "metadata": {
        "id": "WiaIzMCPQ1xe"
      }
    },
    {
      "cell_type": "markdown",
      "source": [
        "##d)Selección de variables relevantes para predecir los retrasos\n"
      ],
      "metadata": {
        "id": "xVJR-wDsQ4pA"
      }
    },
    {
      "cell_type": "code",
      "execution_count": null,
      "metadata": {
        "id": "aNbHF5eh7ecy",
        "colab": {
          "base_uri": "https://localhost:8080/"
        },
        "outputId": "70a0a89c-5ce8-4191-f341-e97f6a468e3b"
      },
      "outputs": [
        {
          "output_type": "stream",
          "name": "stdout",
          "text": [
            "CANTIDAD DE VUELOS POR AÑO\n"
          ]
        },
        {
          "output_type": "execute_result",
          "data": {
            "text/plain": [
              "2019    44495\n",
              "2020     9143\n",
              "2021    16859\n",
              "2022    30591\n",
              "Name: Horario_Prog_Arribo, dtype: int64"
            ]
          },
          "metadata": {},
          "execution_count": 186
        }
      ],
      "source": [
        "#@title Vuelos por año\n",
        "#transformo el type de las columnas STA y ATA a fecha y hora:\n",
        "df['Horario_Prog_Arribo'] = pd.to_datetime(df['Horario_Prog_Arribo'], format='%d/%m/%Y %H:%M') #Pasar arriba al punto 2.d :)\n",
        "df['Horario_Actual_Arribo'] = pd.to_datetime(df['Horario_Actual_Arribo'], format='%d/%m/%Y %H:%M')\n",
        "\n",
        "#cuántos vuelos hubo en cada año? ORDENADOS POR AÑO\n",
        "print('CANTIDAD DE VUELOS POR AÑO')\n",
        "df['Horario_Prog_Arribo'].dt.year.value_counts().sort_index() #usando la variable año el resultado es el mismo (datos consistentes)"
      ]
    },
    {
      "cell_type": "code",
      "source": [
        "df.columns.values"
      ],
      "metadata": {
        "colab": {
          "base_uri": "https://localhost:8080/"
        },
        "id": "aItsLV24bIF2",
        "outputId": "0a417add-a9ee-451c-f737-3edc29f4b201"
      },
      "execution_count": null,
      "outputs": [
        {
          "output_type": "execute_result",
          "data": {
            "text/plain": [
              "array(['Nombre_Aerolinea', 'Codigo_Vuelo', 'Ruta_Vuelo',\n",
              "       'Horario_Prog_Arribo', 'Horario_Estimado_Arribo',\n",
              "       'Horario_Actual_Arribo', 'Tipo_Vuelo', 'Posicion_Arribo',\n",
              "       'Terminal_Arribo', 'Sector', 'Estado_Vuelo', 'Cinta_Equipajes',\n",
              "       'Cant_Pasajeros', 'Matricula_Aeronave', 'Tipo_Aeronave',\n",
              "       'Nombre_Aerolinea_Partida', 'Vuelo_Partida', 'Cabecera_Arribo',\n",
              "       'Año_Vuelo', 'Mes_Vuelo', 'Hora_Vuelo', 'Nombre_aeropuerto',\n",
              "       'Pais_Aeropuerto', 'Ciudad_Aeropuerto', 'Capacidad_Max_Aeronave',\n",
              "       'Uso_Aeronave', 'Dia_Semana', 'D_M_A'], dtype=object)"
            ]
          },
          "metadata": {},
          "execution_count": 187
        }
      ]
    },
    {
      "cell_type": "code",
      "source": [
        "df[df['Año_Vuelo'] == 2019].groupby('Mes_Vuelo').size().reset_index(name='count')\n"
      ],
      "metadata": {
        "colab": {
          "base_uri": "https://localhost:8080/",
          "height": 426
        },
        "id": "BYv4YRu3edf-",
        "outputId": "faa73d04-1961-43c9-a375-004e5da56d7c"
      },
      "execution_count": null,
      "outputs": [
        {
          "output_type": "execute_result",
          "data": {
            "text/plain": [
              "    Mes_Vuelo  count\n",
              "0           1   4669\n",
              "1           2   4091\n",
              "2           3   4281\n",
              "3           4   3343\n",
              "4           5   3422\n",
              "5           6   3196\n",
              "6           7   3932\n",
              "7           8   3890\n",
              "8           9   3405\n",
              "9          10   3465\n",
              "10         11   3301\n",
              "11         12   3500"
            ],
            "text/html": [
              "\n",
              "  <div id=\"df-d35ff1b6-20a8-49d8-84d0-9e40d13754fa\">\n",
              "    <div class=\"colab-df-container\">\n",
              "      <div>\n",
              "<style scoped>\n",
              "    .dataframe tbody tr th:only-of-type {\n",
              "        vertical-align: middle;\n",
              "    }\n",
              "\n",
              "    .dataframe tbody tr th {\n",
              "        vertical-align: top;\n",
              "    }\n",
              "\n",
              "    .dataframe thead th {\n",
              "        text-align: right;\n",
              "    }\n",
              "</style>\n",
              "<table border=\"1\" class=\"dataframe\">\n",
              "  <thead>\n",
              "    <tr style=\"text-align: right;\">\n",
              "      <th></th>\n",
              "      <th>Mes_Vuelo</th>\n",
              "      <th>count</th>\n",
              "    </tr>\n",
              "  </thead>\n",
              "  <tbody>\n",
              "    <tr>\n",
              "      <th>0</th>\n",
              "      <td>1</td>\n",
              "      <td>4669</td>\n",
              "    </tr>\n",
              "    <tr>\n",
              "      <th>1</th>\n",
              "      <td>2</td>\n",
              "      <td>4091</td>\n",
              "    </tr>\n",
              "    <tr>\n",
              "      <th>2</th>\n",
              "      <td>3</td>\n",
              "      <td>4281</td>\n",
              "    </tr>\n",
              "    <tr>\n",
              "      <th>3</th>\n",
              "      <td>4</td>\n",
              "      <td>3343</td>\n",
              "    </tr>\n",
              "    <tr>\n",
              "      <th>4</th>\n",
              "      <td>5</td>\n",
              "      <td>3422</td>\n",
              "    </tr>\n",
              "    <tr>\n",
              "      <th>5</th>\n",
              "      <td>6</td>\n",
              "      <td>3196</td>\n",
              "    </tr>\n",
              "    <tr>\n",
              "      <th>6</th>\n",
              "      <td>7</td>\n",
              "      <td>3932</td>\n",
              "    </tr>\n",
              "    <tr>\n",
              "      <th>7</th>\n",
              "      <td>8</td>\n",
              "      <td>3890</td>\n",
              "    </tr>\n",
              "    <tr>\n",
              "      <th>8</th>\n",
              "      <td>9</td>\n",
              "      <td>3405</td>\n",
              "    </tr>\n",
              "    <tr>\n",
              "      <th>9</th>\n",
              "      <td>10</td>\n",
              "      <td>3465</td>\n",
              "    </tr>\n",
              "    <tr>\n",
              "      <th>10</th>\n",
              "      <td>11</td>\n",
              "      <td>3301</td>\n",
              "    </tr>\n",
              "    <tr>\n",
              "      <th>11</th>\n",
              "      <td>12</td>\n",
              "      <td>3500</td>\n",
              "    </tr>\n",
              "  </tbody>\n",
              "</table>\n",
              "</div>\n",
              "      <button class=\"colab-df-convert\" onclick=\"convertToInteractive('df-d35ff1b6-20a8-49d8-84d0-9e40d13754fa')\"\n",
              "              title=\"Convert this dataframe to an interactive table.\"\n",
              "              style=\"display:none;\">\n",
              "        \n",
              "  <svg xmlns=\"http://www.w3.org/2000/svg\" height=\"24px\"viewBox=\"0 0 24 24\"\n",
              "       width=\"24px\">\n",
              "    <path d=\"M0 0h24v24H0V0z\" fill=\"none\"/>\n",
              "    <path d=\"M18.56 5.44l.94 2.06.94-2.06 2.06-.94-2.06-.94-.94-2.06-.94 2.06-2.06.94zm-11 1L8.5 8.5l.94-2.06 2.06-.94-2.06-.94L8.5 2.5l-.94 2.06-2.06.94zm10 10l.94 2.06.94-2.06 2.06-.94-2.06-.94-.94-2.06-.94 2.06-2.06.94z\"/><path d=\"M17.41 7.96l-1.37-1.37c-.4-.4-.92-.59-1.43-.59-.52 0-1.04.2-1.43.59L10.3 9.45l-7.72 7.72c-.78.78-.78 2.05 0 2.83L4 21.41c.39.39.9.59 1.41.59.51 0 1.02-.2 1.41-.59l7.78-7.78 2.81-2.81c.8-.78.8-2.07 0-2.86zM5.41 20L4 18.59l7.72-7.72 1.47 1.35L5.41 20z\"/>\n",
              "  </svg>\n",
              "      </button>\n",
              "      \n",
              "  <style>\n",
              "    .colab-df-container {\n",
              "      display:flex;\n",
              "      flex-wrap:wrap;\n",
              "      gap: 12px;\n",
              "    }\n",
              "\n",
              "    .colab-df-convert {\n",
              "      background-color: #E8F0FE;\n",
              "      border: none;\n",
              "      border-radius: 50%;\n",
              "      cursor: pointer;\n",
              "      display: none;\n",
              "      fill: #1967D2;\n",
              "      height: 32px;\n",
              "      padding: 0 0 0 0;\n",
              "      width: 32px;\n",
              "    }\n",
              "\n",
              "    .colab-df-convert:hover {\n",
              "      background-color: #E2EBFA;\n",
              "      box-shadow: 0px 1px 2px rgba(60, 64, 67, 0.3), 0px 1px 3px 1px rgba(60, 64, 67, 0.15);\n",
              "      fill: #174EA6;\n",
              "    }\n",
              "\n",
              "    [theme=dark] .colab-df-convert {\n",
              "      background-color: #3B4455;\n",
              "      fill: #D2E3FC;\n",
              "    }\n",
              "\n",
              "    [theme=dark] .colab-df-convert:hover {\n",
              "      background-color: #434B5C;\n",
              "      box-shadow: 0px 1px 3px 1px rgba(0, 0, 0, 0.15);\n",
              "      filter: drop-shadow(0px 1px 2px rgba(0, 0, 0, 0.3));\n",
              "      fill: #FFFFFF;\n",
              "    }\n",
              "  </style>\n",
              "\n",
              "      <script>\n",
              "        const buttonEl =\n",
              "          document.querySelector('#df-d35ff1b6-20a8-49d8-84d0-9e40d13754fa button.colab-df-convert');\n",
              "        buttonEl.style.display =\n",
              "          google.colab.kernel.accessAllowed ? 'block' : 'none';\n",
              "\n",
              "        async function convertToInteractive(key) {\n",
              "          const element = document.querySelector('#df-d35ff1b6-20a8-49d8-84d0-9e40d13754fa');\n",
              "          const dataTable =\n",
              "            await google.colab.kernel.invokeFunction('convertToInteractive',\n",
              "                                                     [key], {});\n",
              "          if (!dataTable) return;\n",
              "\n",
              "          const docLinkHtml = 'Like what you see? Visit the ' +\n",
              "            '<a target=\"_blank\" href=https://colab.research.google.com/notebooks/data_table.ipynb>data table notebook</a>'\n",
              "            + ' to learn more about interactive tables.';\n",
              "          element.innerHTML = '';\n",
              "          dataTable['output_type'] = 'display_data';\n",
              "          await google.colab.output.renderOutput(dataTable, element);\n",
              "          const docLink = document.createElement('div');\n",
              "          docLink.innerHTML = docLinkHtml;\n",
              "          element.appendChild(docLink);\n",
              "        }\n",
              "      </script>\n",
              "    </div>\n",
              "  </div>\n",
              "  "
            ]
          },
          "metadata": {},
          "execution_count": 188
        }
      ]
    },
    {
      "cell_type": "code",
      "source": [
        "a = df[df['Año_Vuelo'] == 2019].groupby('Mes_Vuelo').size().reset_index(name='count')\n",
        "print(a)\n",
        "plt.plot(a[\"Mes_Vuelo\"], a[\"count\"], color = 'r', label = \"2019\")"
      ],
      "metadata": {
        "colab": {
          "base_uri": "https://localhost:8080/",
          "height": 673
        },
        "id": "M2g9nF9Ugt1z",
        "outputId": "7c221077-491c-4b1a-e12c-1871eb266512"
      },
      "execution_count": null,
      "outputs": [
        {
          "output_type": "stream",
          "name": "stdout",
          "text": [
            "    Mes_Vuelo  count\n",
            "0           1   4669\n",
            "1           2   4091\n",
            "2           3   4281\n",
            "3           4   3343\n",
            "4           5   3422\n",
            "5           6   3196\n",
            "6           7   3932\n",
            "7           8   3890\n",
            "8           9   3405\n",
            "9          10   3465\n",
            "10         11   3301\n",
            "11         12   3500\n"
          ]
        },
        {
          "output_type": "execute_result",
          "data": {
            "text/plain": [
              "[<matplotlib.lines.Line2D at 0x7f56ad378c70>]"
            ]
          },
          "metadata": {},
          "execution_count": 189
        },
        {
          "output_type": "display_data",
          "data": {
            "text/plain": [
              "<Figure size 640x480 with 1 Axes>"
            ],
            "image/png": "[encoded data removed]"
          },
          "metadata": {}
        }
      ]
    },
    {
      "cell_type": "code",
      "source": [
        "print(df[:10])\n",
        "print(df[\"Estado_Vuelo\"].unique())"
      ],
      "metadata": {
        "colab": {
          "base_uri": "https://localhost:8080/"
        },
        "id": "qEoAYWeQj8cA",
        "outputId": "d8b30759-6359-4180-93cb-a0d915ebc9be"
      },
      "execution_count": null,
      "outputs": [
        {
          "output_type": "stream",
          "name": "stdout",
          "text": [
            "  Nombre_Aerolinea Codigo_Vuelo Ruta_Vuelo Horario_Prog_Arribo  \\\n",
            "0               DN         6049        IGR 2019-01-01 01:50:00   \n",
            "1               DN         6049        IGR 2019-01-02 01:50:00   \n",
            "2               DN         6049        IGR 2019-01-09 01:50:00   \n",
            "3               DN         6049        IGR 2019-01-10 01:50:00   \n",
            "4               DN         6049        IGR 2019-01-11 01:50:00   \n",
            "5               DN         6049        IGR 2019-01-12 01:50:00   \n",
            "6               DN         6049        IGR 2019-01-13 01:50:00   \n",
            "7               DN         6049        IGR 2019-01-16 01:50:00   \n",
            "8               DN         6049        IGR 2019-01-21 01:50:00   \n",
            "9               DN         6049        IGR 2019-01-22 01:50:00   \n",
            "\n",
            "  Horario_Estimado_Arribo Horario_Actual_Arribo Tipo_Vuelo Posicion_Arribo  \\\n",
            "0     2019-01-01 01:22:00   2019-01-01 01:22:00      1 C P              31   \n",
            "1     2019-02-01 02:06:00   2019-01-02 02:06:00      1 C P              30   \n",
            "2     2019-09-01 02:54:00   2019-01-09 02:54:00      1 C P              29   \n",
            "3     2019-10-01 03:01:00   2019-01-10 03:01:00      1 C P              31   \n",
            "4     2019-11-01 02:13:00   2019-01-11 02:13:00      1 C P              31   \n",
            "5     2019-12-01 02:03:00   2019-01-12 02:03:00      1 C P              18   \n",
            "6     2019-01-13 04:34:00   2019-01-13 04:34:00      1 C P              31   \n",
            "7     2019-01-16 02:51:00   2019-01-16 02:51:00      1 C P              30   \n",
            "8     2023-06-23 01:34:00   2019-01-21 01:35:00      1 C P               1   \n",
            "9     2019-01-22 02:05:00   2019-01-22 02:05:00      1 C P              31   \n",
            "\n",
            "  Terminal_Arribo Sector Estado_Vuelo Cinta_Equipajes  Cant_Pasajeros  \\\n",
            "0               A      2          ATE               8         100.000   \n",
            "1               A      2          ATE               7         148.000   \n",
            "2               A      2          ATE               6         128.000   \n",
            "3               A      2          ATE               9         139.000   \n",
            "4               A      2          ATE               8         139.000   \n",
            "5               A      2          ATE               6          78.000   \n",
            "6               A      2          ATE               7         114.000   \n",
            "7               A      2          ATE               9         119.000   \n",
            "8               A      2          ATE               9          79.000   \n",
            "9               A      2          ATE               8          76.000   \n",
            "\n",
            "  Matricula_Aeronave Tipo_Aeronave Nombre_Aerolinea_Partida Vuelo_Partida  \\\n",
            "0              LVHQH           738                       DN          6062   \n",
            "1              LVHQH           738                       DN          6022   \n",
            "2              LVHQH           738                       DN          6062   \n",
            "3              LVHQH           738                       DN          6062   \n",
            "4              LVHQH           738                       DN          6062   \n",
            "5              LVHQH           738                       DN          6062   \n",
            "6              LVHQH           738                       DN          6022   \n",
            "7              LVHQH           738                       DN          6022   \n",
            "8              LVHQH           738                       DN          6062   \n",
            "9              LVHQH           738                       DN          6062   \n",
            "\n",
            "   Cabecera_Arribo  Año_Vuelo  Mes_Vuelo  Hora_Vuelo  \\\n",
            "0           31.000       2019          1           1   \n",
            "1           31.000       2019          1           1   \n",
            "2           13.000       2019          1           1   \n",
            "3           13.000       2019          1           1   \n",
            "4           13.000       2019          1           1   \n",
            "5           13.000       2019          1           1   \n",
            "6           13.000       2019          1           1   \n",
            "7           13.000       2019          1           1   \n",
            "8           31.000       2019          1           1   \n",
            "9           31.000       2019          1           1   \n",
            "\n",
            "                            Nombre_aeropuerto Pais_Aeropuerto  \\\n",
            "0  Cataratas del Iguazú International Airport       Argentina   \n",
            "1  Cataratas del Iguazú International Airport       Argentina   \n",
            "2  Cataratas del Iguazú International Airport       Argentina   \n",
            "3  Cataratas del Iguazú International Airport       Argentina   \n",
            "4  Cataratas del Iguazú International Airport       Argentina   \n",
            "5  Cataratas del Iguazú International Airport       Argentina   \n",
            "6  Cataratas del Iguazú International Airport       Argentina   \n",
            "7  Cataratas del Iguazú International Airport       Argentina   \n",
            "8  Cataratas del Iguazú International Airport       Argentina   \n",
            "9  Cataratas del Iguazú International Airport       Argentina   \n",
            "\n",
            "  Ciudad_Aeropuerto Capacidad_Max_Aeronave             Uso_Aeronave  \\\n",
            "0     Puerto Iguazú                    189  Transporte de pasajeros   \n",
            "1     Puerto Iguazú                    189  Transporte de pasajeros   \n",
            "2     Puerto Iguazú                    189  Transporte de pasajeros   \n",
            "3     Puerto Iguazú                    189  Transporte de pasajeros   \n",
            "4     Puerto Iguazú                    189  Transporte de pasajeros   \n",
            "5     Puerto Iguazú                    189  Transporte de pasajeros   \n",
            "6     Puerto Iguazú                    189  Transporte de pasajeros   \n",
            "7     Puerto Iguazú                    189  Transporte de pasajeros   \n",
            "8     Puerto Iguazú                    189  Transporte de pasajeros   \n",
            "9     Puerto Iguazú                    189  Transporte de pasajeros   \n",
            "\n",
            "   Dia_Semana       D_M_A  \n",
            "0           1  2019-01-01  \n",
            "1           2  2019-01-02  \n",
            "2           2  2019-01-09  \n",
            "3           3  2019-01-10  \n",
            "4           4  2019-01-11  \n",
            "5           5  2019-01-12  \n",
            "6           6  2019-01-13  \n",
            "7           2  2019-01-16  \n",
            "8           0  2019-01-21  \n",
            "9           1  2019-01-22  \n",
            "['ATE' 'ALT' 'CAN']\n"
          ]
        }
      ]
    },
    {
      "cell_type": "code",
      "source": [
        "count_2019 = df[df['Año_Vuelo'] == 2019].groupby('Mes_Vuelo').size().reset_index(name='count')\n",
        "count_2020 = df[df['Año_Vuelo'] == 2020].groupby('Mes_Vuelo').size().reset_index(name='count')\n",
        "count_2021 = df[df['Año_Vuelo'] == 2021].groupby('Mes_Vuelo').size().reset_index(name='count')\n",
        "count_2022 = df[df['Año_Vuelo'] == 2022].groupby('Mes_Vuelo').size().reset_index(name='count')\n",
        "\n",
        "plt.plot(count_2019[\"Mes_Vuelo\"], count_2019[\"count\"], color='r', label='2019')\n",
        "plt.plot(count_2020[\"Mes_Vuelo\"], count_2020[\"count\"], color='g', label='2020')\n",
        "plt.plot(count_2021[\"Mes_Vuelo\"], count_2021[\"count\"], color='b', label='2021')\n",
        "plt.plot(count_2022[\"Mes_Vuelo\"], count_2022[\"count\"], color='y', label='2022')\n",
        "\n",
        "plt.legend()\n",
        "plt.xlabel('Mes')\n",
        "plt.ylabel('Arribos')\n",
        "plt.title('Arribos por mes')\n",
        "plt.show()"
      ],
      "metadata": {
        "colab": {
          "base_uri": "https://localhost:8080/",
          "height": 472
        },
        "id": "LLtDPQbJeuXl",
        "outputId": "2172d37a-6a84-430f-8427-9f7bfb13528c"
      },
      "execution_count": null,
      "outputs": [
        {
          "output_type": "display_data",
          "data": {
            "text/plain": [
              "<Figure size 640x480 with 1 Axes>"
            ],
            "image/png": "[encoded data removed]"
          },
          "metadata": {}
        }
      ]
    },
    {
      "cell_type": "code",
      "source": [
        "df[df['año'] == 2019].groupby(df['mes']).Aero.count().plot(kind='line', figsize=(7, 3))\n",
        "df[df['año'] == 2022].groupby(df['mes']).Aero.count().plot(kind='line', figsize=(7, 3))\n",
        "df[df['año'] == 2021].groupby(df['mes']).Aero.count().plot(kind='line', figsize=(7, 3))\n",
        "df[df['año'] == 2020].groupby(df['mes']).Aero.count().plot(kind='line', figsize=(7, 3))\n",
        "\n",
        "plt.xlabel('Mes')\n",
        "plt.ylabel('Arribos')\n",
        "plt.title('Arribos por mes')\n",
        "plt.legend(['2019','2022','2021', '2020'])\n",
        "plt.show()"
      ],
      "metadata": {
        "id": "aho2-62vrMtb",
        "colab": {
          "base_uri": "https://localhost:8080/",
          "height": 502
        },
        "outputId": "55b02994-32fd-4831-c657-704ad28f48b0"
      },
      "execution_count": null,
      "outputs": [
        {
          "output_type": "error",
          "ename": "KeyError",
          "evalue": "ignored",
          "traceback": [
            "\u001b[0;31m---------------------------------------------------------------------------\u001b[0m",
            "\u001b[0;31mKeyError\u001b[0m                                  Traceback (most recent call last)",
            "\u001b[0;32m/usr/local/lib/python3.10/dist-packages/pandas/core/indexes/base.py\u001b[0m in \u001b[0;36mget_loc\u001b[0;34m(self, key, method, tolerance)\u001b[0m\n\u001b[1;32m   3801\u001b[0m             \u001b[0;32mtry\u001b[0m\u001b[0;34m:\u001b[0m\u001b[0;34m\u001b[0m\u001b[0;34m\u001b[0m\u001b[0m\n\u001b[0;32m-> 3802\u001b[0;31m                 \u001b[0;32mreturn\u001b[0m \u001b[0mself\u001b[0m\u001b[0;34m.\u001b[0m\u001b[0m_engine\u001b[0m\u001b[0;34m.\u001b[0m\u001b[0mget_loc\u001b[0m\u001b[0;34m(\u001b[0m\u001b[0mcasted_key\u001b[0m\u001b[0;34m)\u001b[0m\u001b[0;34m\u001b[0m\u001b[0;34m\u001b[0m\u001b[0m\n\u001b[0m\u001b[1;32m   3803\u001b[0m             \u001b[0;32mexcept\u001b[0m \u001b[0mKeyError\u001b[0m \u001b[0;32mas\u001b[0m \u001b[0merr\u001b[0m\u001b[0;34m:\u001b[0m\u001b[0;34m\u001b[0m\u001b[0;34m\u001b[0m\u001b[0m\n",
            "\u001b[0;32m/usr/local/lib/python3.10/dist-packages/pandas/_libs/index.pyx\u001b[0m in \u001b[0;36mpandas._libs.index.IndexEngine.get_loc\u001b[0;34m()\u001b[0m\n",
            "\u001b[0;32m/usr/local/lib/python3.10/dist-packages/pandas/_libs/index.pyx\u001b[0m in \u001b[0;36mpandas._libs.index.IndexEngine.get_loc\u001b[0;34m()\u001b[0m\n",
            "\u001b[0;32mpandas/_libs/hashtable_class_helper.pxi\u001b[0m in \u001b[0;36mpandas._libs.hashtable.PyObjectHashTable.get_item\u001b[0;34m()\u001b[0m\n",
            "\u001b[0;32mpandas/_libs/hashtable_class_helper.pxi\u001b[0m in \u001b[0;36mpandas._libs.hashtable.PyObjectHashTable.get_item\u001b[0;34m()\u001b[0m\n",
            "\u001b[0;31mKeyError\u001b[0m: 'año'",
            "\nThe above exception was the direct cause of the following exception:\n",
            "\u001b[0;31mKeyError\u001b[0m                                  Traceback (most recent call last)",
            "\u001b[0;32m<ipython-input-197-45029da8ac35>\u001b[0m in \u001b[0;36m<cell line: 1>\u001b[0;34m()\u001b[0m\n\u001b[0;32m----> 1\u001b[0;31m \u001b[0mdf\u001b[0m\u001b[0;34m[\u001b[0m\u001b[0mdf\u001b[0m\u001b[0;34m[\u001b[0m\u001b[0;34m'año'\u001b[0m\u001b[0;34m]\u001b[0m \u001b[0;34m==\u001b[0m \u001b[0;36m2019\u001b[0m\u001b[0;34m]\u001b[0m\u001b[0;34m.\u001b[0m\u001b[0mgroupby\u001b[0m\u001b[0;34m(\u001b[0m\u001b[0mdf\u001b[0m\u001b[0;34m[\u001b[0m\u001b[0;34m'mes'\u001b[0m\u001b[0;34m]\u001b[0m\u001b[0;34m)\u001b[0m\u001b[0;34m.\u001b[0m\u001b[0mAero\u001b[0m\u001b[0;34m.\u001b[0m\u001b[0mcount\u001b[0m\u001b[0;34m(\u001b[0m\u001b[0;34m)\u001b[0m\u001b[0;34m.\u001b[0m\u001b[0mplot\u001b[0m\u001b[0;34m(\u001b[0m\u001b[0mkind\u001b[0m\u001b[0;34m=\u001b[0m\u001b[0;34m'line'\u001b[0m\u001b[0;34m,\u001b[0m \u001b[0mfigsize\u001b[0m\u001b[0;34m=\u001b[0m\u001b[0;34m(\u001b[0m\u001b[0;36m7\u001b[0m\u001b[0;34m,\u001b[0m \u001b[0;36m3\u001b[0m\u001b[0;34m)\u001b[0m\u001b[0;34m)\u001b[0m\u001b[0;34m\u001b[0m\u001b[0;34m\u001b[0m\u001b[0m\n\u001b[0m\u001b[1;32m      2\u001b[0m \u001b[0mdf\u001b[0m\u001b[0;34m[\u001b[0m\u001b[0mdf\u001b[0m\u001b[0;34m[\u001b[0m\u001b[0;34m'año'\u001b[0m\u001b[0;34m]\u001b[0m \u001b[0;34m==\u001b[0m \u001b[0;36m2022\u001b[0m\u001b[0;34m]\u001b[0m\u001b[0;34m.\u001b[0m\u001b[0mgroupby\u001b[0m\u001b[0;34m(\u001b[0m\u001b[0mdf\u001b[0m\u001b[0;34m[\u001b[0m\u001b[0;34m'mes'\u001b[0m\u001b[0;34m]\u001b[0m\u001b[0;34m)\u001b[0m\u001b[0;34m.\u001b[0m\u001b[0mAero\u001b[0m\u001b[0;34m.\u001b[0m\u001b[0mcount\u001b[0m\u001b[0;34m(\u001b[0m\u001b[0;34m)\u001b[0m\u001b[0;34m.\u001b[0m\u001b[0mplot\u001b[0m\u001b[0;34m(\u001b[0m\u001b[0mkind\u001b[0m\u001b[0;34m=\u001b[0m\u001b[0;34m'line'\u001b[0m\u001b[0;34m,\u001b[0m \u001b[0mfigsize\u001b[0m\u001b[0;34m=\u001b[0m\u001b[0;34m(\u001b[0m\u001b[0;36m7\u001b[0m\u001b[0;34m,\u001b[0m \u001b[0;36m3\u001b[0m\u001b[0;34m)\u001b[0m\u001b[0;34m)\u001b[0m\u001b[0;34m\u001b[0m\u001b[0;34m\u001b[0m\u001b[0m\n\u001b[1;32m      3\u001b[0m \u001b[0mdf\u001b[0m\u001b[0;34m[\u001b[0m\u001b[0mdf\u001b[0m\u001b[0;34m[\u001b[0m\u001b[0;34m'año'\u001b[0m\u001b[0;34m]\u001b[0m \u001b[0;34m==\u001b[0m \u001b[0;36m2021\u001b[0m\u001b[0;34m]\u001b[0m\u001b[0;34m.\u001b[0m\u001b[0mgroupby\u001b[0m\u001b[0;34m(\u001b[0m\u001b[0mdf\u001b[0m\u001b[0;34m[\u001b[0m\u001b[0;34m'mes'\u001b[0m\u001b[0;34m]\u001b[0m\u001b[0;34m)\u001b[0m\u001b[0;34m.\u001b[0m\u001b[0mAero\u001b[0m\u001b[0;34m.\u001b[0m\u001b[0mcount\u001b[0m\u001b[0;34m(\u001b[0m\u001b[0;34m)\u001b[0m\u001b[0;34m.\u001b[0m\u001b[0mplot\u001b[0m\u001b[0;34m(\u001b[0m\u001b[0mkind\u001b[0m\u001b[0;34m=\u001b[0m\u001b[0;34m'line'\u001b[0m\u001b[0;34m,\u001b[0m \u001b[0mfigsize\u001b[0m\u001b[0;34m=\u001b[0m\u001b[0;34m(\u001b[0m\u001b[0;36m7\u001b[0m\u001b[0;34m,\u001b[0m \u001b[0;36m3\u001b[0m\u001b[0;34m)\u001b[0m\u001b[0;34m)\u001b[0m\u001b[0;34m\u001b[0m\u001b[0;34m\u001b[0m\u001b[0m\n\u001b[1;32m      4\u001b[0m \u001b[0mdf\u001b[0m\u001b[0;34m[\u001b[0m\u001b[0mdf\u001b[0m\u001b[0;34m[\u001b[0m\u001b[0;34m'año'\u001b[0m\u001b[0;34m]\u001b[0m \u001b[0;34m==\u001b[0m \u001b[0;36m2020\u001b[0m\u001b[0;34m]\u001b[0m\u001b[0;34m.\u001b[0m\u001b[0mgroupby\u001b[0m\u001b[0;34m(\u001b[0m\u001b[0mdf\u001b[0m\u001b[0;34m[\u001b[0m\u001b[0;34m'mes'\u001b[0m\u001b[0;34m]\u001b[0m\u001b[0;34m)\u001b[0m\u001b[0;34m.\u001b[0m\u001b[0mAero\u001b[0m\u001b[0;34m.\u001b[0m\u001b[0mcount\u001b[0m\u001b[0;34m(\u001b[0m\u001b[0;34m)\u001b[0m\u001b[0;34m.\u001b[0m\u001b[0mplot\u001b[0m\u001b[0;34m(\u001b[0m\u001b[0mkind\u001b[0m\u001b[0;34m=\u001b[0m\u001b[0;34m'line'\u001b[0m\u001b[0;34m,\u001b[0m \u001b[0mfigsize\u001b[0m\u001b[0;34m=\u001b[0m\u001b[0;34m(\u001b[0m\u001b[0;36m7\u001b[0m\u001b[0;34m,\u001b[0m \u001b[0;36m3\u001b[0m\u001b[0;34m)\u001b[0m\u001b[0;34m)\u001b[0m\u001b[0;34m\u001b[0m\u001b[0;34m\u001b[0m\u001b[0m\n\u001b[1;32m      5\u001b[0m \u001b[0;34m\u001b[0m\u001b[0m\n",
            "\u001b[0;32m/usr/local/lib/python3.10/dist-packages/pandas/core/frame.py\u001b[0m in \u001b[0;36m__getitem__\u001b[0;34m(self, key)\u001b[0m\n\u001b[1;32m   3805\u001b[0m             \u001b[0;32mif\u001b[0m \u001b[0mself\u001b[0m\u001b[0;34m.\u001b[0m\u001b[0mcolumns\u001b[0m\u001b[0;34m.\u001b[0m\u001b[0mnlevels\u001b[0m \u001b[0;34m>\u001b[0m \u001b[0;36m1\u001b[0m\u001b[0;34m:\u001b[0m\u001b[0;34m\u001b[0m\u001b[0;34m\u001b[0m\u001b[0m\n\u001b[1;32m   3806\u001b[0m                 \u001b[0;32mreturn\u001b[0m \u001b[0mself\u001b[0m\u001b[0;34m.\u001b[0m\u001b[0m_getitem_multilevel\u001b[0m\u001b[0;34m(\u001b[0m\u001b[0mkey\u001b[0m\u001b[0;34m)\u001b[0m\u001b[0;34m\u001b[0m\u001b[0;34m\u001b[0m\u001b[0m\n\u001b[0;32m-> 3807\u001b[0;31m             \u001b[0mindexer\u001b[0m \u001b[0;34m=\u001b[0m \u001b[0mself\u001b[0m\u001b[0;34m.\u001b[0m\u001b[0mcolumns\u001b[0m\u001b[0;34m.\u001b[0m\u001b[0mget_loc\u001b[0m\u001b[0;34m(\u001b[0m\u001b[0mkey\u001b[0m\u001b[0;34m)\u001b[0m\u001b[0;34m\u001b[0m\u001b[0;34m\u001b[0m\u001b[0m\n\u001b[0m\u001b[1;32m   3808\u001b[0m             \u001b[0;32mif\u001b[0m \u001b[0mis_integer\u001b[0m\u001b[0;34m(\u001b[0m\u001b[0mindexer\u001b[0m\u001b[0;34m)\u001b[0m\u001b[0;34m:\u001b[0m\u001b[0;34m\u001b[0m\u001b[0;34m\u001b[0m\u001b[0m\n\u001b[1;32m   3809\u001b[0m                 \u001b[0mindexer\u001b[0m \u001b[0;34m=\u001b[0m \u001b[0;34m[\u001b[0m\u001b[0mindexer\u001b[0m\u001b[0;34m]\u001b[0m\u001b[0;34m\u001b[0m\u001b[0;34m\u001b[0m\u001b[0m\n",
            "\u001b[0;32m/usr/local/lib/python3.10/dist-packages/pandas/core/indexes/base.py\u001b[0m in \u001b[0;36mget_loc\u001b[0;34m(self, key, method, tolerance)\u001b[0m\n\u001b[1;32m   3802\u001b[0m                 \u001b[0;32mreturn\u001b[0m \u001b[0mself\u001b[0m\u001b[0;34m.\u001b[0m\u001b[0m_engine\u001b[0m\u001b[0;34m.\u001b[0m\u001b[0mget_loc\u001b[0m\u001b[0;34m(\u001b[0m\u001b[0mcasted_key\u001b[0m\u001b[0;34m)\u001b[0m\u001b[0;34m\u001b[0m\u001b[0;34m\u001b[0m\u001b[0m\n\u001b[1;32m   3803\u001b[0m             \u001b[0;32mexcept\u001b[0m \u001b[0mKeyError\u001b[0m \u001b[0;32mas\u001b[0m \u001b[0merr\u001b[0m\u001b[0;34m:\u001b[0m\u001b[0;34m\u001b[0m\u001b[0;34m\u001b[0m\u001b[0m\n\u001b[0;32m-> 3804\u001b[0;31m                 \u001b[0;32mraise\u001b[0m \u001b[0mKeyError\u001b[0m\u001b[0;34m(\u001b[0m\u001b[0mkey\u001b[0m\u001b[0;34m)\u001b[0m \u001b[0;32mfrom\u001b[0m \u001b[0merr\u001b[0m\u001b[0;34m\u001b[0m\u001b[0;34m\u001b[0m\u001b[0m\n\u001b[0m\u001b[1;32m   3805\u001b[0m             \u001b[0;32mexcept\u001b[0m \u001b[0mTypeError\u001b[0m\u001b[0;34m:\u001b[0m\u001b[0;34m\u001b[0m\u001b[0;34m\u001b[0m\u001b[0m\n\u001b[1;32m   3806\u001b[0m                 \u001b[0;31m# If we have a listlike key, _check_indexing_error will raise\u001b[0m\u001b[0;34m\u001b[0m\u001b[0;34m\u001b[0m\u001b[0m\n",
            "\u001b[0;31mKeyError\u001b[0m: 'año'"
          ]
        }
      ]
    },
    {
      "cell_type": "code",
      "source": [
        "df[df['año'] == 2019].groupby(df['mes']).Aero.count().plot(kind='line', figsize=(7, 3))\n",
        "df[df['año'] == 2022].groupby(df['mes']).Aero.count().plot(kind='line', figsize=(7, 3))\n",
        "\n",
        "plt.xlabel('Mes')\n",
        "plt.ylabel('Arribos')\n",
        "plt.title('Arribos por mes')\n",
        "plt.legend(['2019', '2022'])\n",
        "plt.show()"
      ],
      "metadata": {
        "id": "l5n7d8iJrc9Z",
        "colab": {
          "base_uri": "https://localhost:8080/",
          "height": 502
        },
        "outputId": "a7aef710-15fb-4091-c95b-e89dc88eaee7"
      },
      "execution_count": null,
      "outputs": [
        {
          "output_type": "error",
          "ename": "KeyError",
          "evalue": "ignored",
          "traceback": [
            "\u001b[0;31m---------------------------------------------------------------------------\u001b[0m",
            "\u001b[0;31mKeyError\u001b[0m                                  Traceback (most recent call last)",
            "\u001b[0;32m/usr/local/lib/python3.10/dist-packages/pandas/core/indexes/base.py\u001b[0m in \u001b[0;36mget_loc\u001b[0;34m(self, key, method, tolerance)\u001b[0m\n\u001b[1;32m   3801\u001b[0m             \u001b[0;32mtry\u001b[0m\u001b[0;34m:\u001b[0m\u001b[0;34m\u001b[0m\u001b[0;34m\u001b[0m\u001b[0m\n\u001b[0;32m-> 3802\u001b[0;31m                 \u001b[0;32mreturn\u001b[0m \u001b[0mself\u001b[0m\u001b[0;34m.\u001b[0m\u001b[0m_engine\u001b[0m\u001b[0;34m.\u001b[0m\u001b[0mget_loc\u001b[0m\u001b[0;34m(\u001b[0m\u001b[0mcasted_key\u001b[0m\u001b[0;34m)\u001b[0m\u001b[0;34m\u001b[0m\u001b[0;34m\u001b[0m\u001b[0m\n\u001b[0m\u001b[1;32m   3803\u001b[0m             \u001b[0;32mexcept\u001b[0m \u001b[0mKeyError\u001b[0m \u001b[0;32mas\u001b[0m \u001b[0merr\u001b[0m\u001b[0;34m:\u001b[0m\u001b[0;34m\u001b[0m\u001b[0;34m\u001b[0m\u001b[0m\n",
            "\u001b[0;32m/usr/local/lib/python3.10/dist-packages/pandas/_libs/index.pyx\u001b[0m in \u001b[0;36mpandas._libs.index.IndexEngine.get_loc\u001b[0;34m()\u001b[0m\n",
            "\u001b[0;32m/usr/local/lib/python3.10/dist-packages/pandas/_libs/index.pyx\u001b[0m in \u001b[0;36mpandas._libs.index.IndexEngine.get_loc\u001b[0;34m()\u001b[0m\n",
            "\u001b[0;32mpandas/_libs/hashtable_class_helper.pxi\u001b[0m in \u001b[0;36mpandas._libs.hashtable.PyObjectHashTable.get_item\u001b[0;34m()\u001b[0m\n",
            "\u001b[0;32mpandas/_libs/hashtable_class_helper.pxi\u001b[0m in \u001b[0;36mpandas._libs.hashtable.PyObjectHashTable.get_item\u001b[0;34m()\u001b[0m\n",
            "\u001b[0;31mKeyError\u001b[0m: 'año'",
            "\nThe above exception was the direct cause of the following exception:\n",
            "\u001b[0;31mKeyError\u001b[0m                                  Traceback (most recent call last)",
            "\u001b[0;32m<ipython-input-198-92a15f40d920>\u001b[0m in \u001b[0;36m<cell line: 1>\u001b[0;34m()\u001b[0m\n\u001b[0;32m----> 1\u001b[0;31m \u001b[0mdf\u001b[0m\u001b[0;34m[\u001b[0m\u001b[0mdf\u001b[0m\u001b[0;34m[\u001b[0m\u001b[0;34m'año'\u001b[0m\u001b[0;34m]\u001b[0m \u001b[0;34m==\u001b[0m \u001b[0;36m2019\u001b[0m\u001b[0;34m]\u001b[0m\u001b[0;34m.\u001b[0m\u001b[0mgroupby\u001b[0m\u001b[0;34m(\u001b[0m\u001b[0mdf\u001b[0m\u001b[0;34m[\u001b[0m\u001b[0;34m'mes'\u001b[0m\u001b[0;34m]\u001b[0m\u001b[0;34m)\u001b[0m\u001b[0;34m.\u001b[0m\u001b[0mAero\u001b[0m\u001b[0;34m.\u001b[0m\u001b[0mcount\u001b[0m\u001b[0;34m(\u001b[0m\u001b[0;34m)\u001b[0m\u001b[0;34m.\u001b[0m\u001b[0mplot\u001b[0m\u001b[0;34m(\u001b[0m\u001b[0mkind\u001b[0m\u001b[0;34m=\u001b[0m\u001b[0;34m'line'\u001b[0m\u001b[0;34m,\u001b[0m \u001b[0mfigsize\u001b[0m\u001b[0;34m=\u001b[0m\u001b[0;34m(\u001b[0m\u001b[0;36m7\u001b[0m\u001b[0;34m,\u001b[0m \u001b[0;36m3\u001b[0m\u001b[0;34m)\u001b[0m\u001b[0;34m)\u001b[0m\u001b[0;34m\u001b[0m\u001b[0;34m\u001b[0m\u001b[0m\n\u001b[0m\u001b[1;32m      2\u001b[0m \u001b[0mdf\u001b[0m\u001b[0;34m[\u001b[0m\u001b[0mdf\u001b[0m\u001b[0;34m[\u001b[0m\u001b[0;34m'año'\u001b[0m\u001b[0;34m]\u001b[0m \u001b[0;34m==\u001b[0m \u001b[0;36m2022\u001b[0m\u001b[0;34m]\u001b[0m\u001b[0;34m.\u001b[0m\u001b[0mgroupby\u001b[0m\u001b[0;34m(\u001b[0m\u001b[0mdf\u001b[0m\u001b[0;34m[\u001b[0m\u001b[0;34m'mes'\u001b[0m\u001b[0;34m]\u001b[0m\u001b[0;34m)\u001b[0m\u001b[0;34m.\u001b[0m\u001b[0mAero\u001b[0m\u001b[0;34m.\u001b[0m\u001b[0mcount\u001b[0m\u001b[0;34m(\u001b[0m\u001b[0;34m)\u001b[0m\u001b[0;34m.\u001b[0m\u001b[0mplot\u001b[0m\u001b[0;34m(\u001b[0m\u001b[0mkind\u001b[0m\u001b[0;34m=\u001b[0m\u001b[0;34m'line'\u001b[0m\u001b[0;34m,\u001b[0m \u001b[0mfigsize\u001b[0m\u001b[0;34m=\u001b[0m\u001b[0;34m(\u001b[0m\u001b[0;36m7\u001b[0m\u001b[0;34m,\u001b[0m \u001b[0;36m3\u001b[0m\u001b[0;34m)\u001b[0m\u001b[0;34m)\u001b[0m\u001b[0;34m\u001b[0m\u001b[0;34m\u001b[0m\u001b[0m\n\u001b[1;32m      3\u001b[0m \u001b[0;34m\u001b[0m\u001b[0m\n\u001b[1;32m      4\u001b[0m \u001b[0mplt\u001b[0m\u001b[0;34m.\u001b[0m\u001b[0mxlabel\u001b[0m\u001b[0;34m(\u001b[0m\u001b[0;34m'Mes'\u001b[0m\u001b[0;34m)\u001b[0m\u001b[0;34m\u001b[0m\u001b[0;34m\u001b[0m\u001b[0m\n\u001b[1;32m      5\u001b[0m \u001b[0mplt\u001b[0m\u001b[0;34m.\u001b[0m\u001b[0mylabel\u001b[0m\u001b[0;34m(\u001b[0m\u001b[0;34m'Arribos'\u001b[0m\u001b[0;34m)\u001b[0m\u001b[0;34m\u001b[0m\u001b[0;34m\u001b[0m\u001b[0m\n",
            "\u001b[0;32m/usr/local/lib/python3.10/dist-packages/pandas/core/frame.py\u001b[0m in \u001b[0;36m__getitem__\u001b[0;34m(self, key)\u001b[0m\n\u001b[1;32m   3805\u001b[0m             \u001b[0;32mif\u001b[0m \u001b[0mself\u001b[0m\u001b[0;34m.\u001b[0m\u001b[0mcolumns\u001b[0m\u001b[0;34m.\u001b[0m\u001b[0mnlevels\u001b[0m \u001b[0;34m>\u001b[0m \u001b[0;36m1\u001b[0m\u001b[0;34m:\u001b[0m\u001b[0;34m\u001b[0m\u001b[0;34m\u001b[0m\u001b[0m\n\u001b[1;32m   3806\u001b[0m                 \u001b[0;32mreturn\u001b[0m \u001b[0mself\u001b[0m\u001b[0;34m.\u001b[0m\u001b[0m_getitem_multilevel\u001b[0m\u001b[0;34m(\u001b[0m\u001b[0mkey\u001b[0m\u001b[0;34m)\u001b[0m\u001b[0;34m\u001b[0m\u001b[0;34m\u001b[0m\u001b[0m\n\u001b[0;32m-> 3807\u001b[0;31m             \u001b[0mindexer\u001b[0m \u001b[0;34m=\u001b[0m \u001b[0mself\u001b[0m\u001b[0;34m.\u001b[0m\u001b[0mcolumns\u001b[0m\u001b[0;34m.\u001b[0m\u001b[0mget_loc\u001b[0m\u001b[0;34m(\u001b[0m\u001b[0mkey\u001b[0m\u001b[0;34m)\u001b[0m\u001b[0;34m\u001b[0m\u001b[0;34m\u001b[0m\u001b[0m\n\u001b[0m\u001b[1;32m   3808\u001b[0m             \u001b[0;32mif\u001b[0m \u001b[0mis_integer\u001b[0m\u001b[0;34m(\u001b[0m\u001b[0mindexer\u001b[0m\u001b[0;34m)\u001b[0m\u001b[0;34m:\u001b[0m\u001b[0;34m\u001b[0m\u001b[0;34m\u001b[0m\u001b[0m\n\u001b[1;32m   3809\u001b[0m                 \u001b[0mindexer\u001b[0m \u001b[0;34m=\u001b[0m \u001b[0;34m[\u001b[0m\u001b[0mindexer\u001b[0m\u001b[0;34m]\u001b[0m\u001b[0;34m\u001b[0m\u001b[0;34m\u001b[0m\u001b[0m\n",
            "\u001b[0;32m/usr/local/lib/python3.10/dist-packages/pandas/core/indexes/base.py\u001b[0m in \u001b[0;36mget_loc\u001b[0;34m(self, key, method, tolerance)\u001b[0m\n\u001b[1;32m   3802\u001b[0m                 \u001b[0;32mreturn\u001b[0m \u001b[0mself\u001b[0m\u001b[0;34m.\u001b[0m\u001b[0m_engine\u001b[0m\u001b[0;34m.\u001b[0m\u001b[0mget_loc\u001b[0m\u001b[0;34m(\u001b[0m\u001b[0mcasted_key\u001b[0m\u001b[0;34m)\u001b[0m\u001b[0;34m\u001b[0m\u001b[0;34m\u001b[0m\u001b[0m\n\u001b[1;32m   3803\u001b[0m             \u001b[0;32mexcept\u001b[0m \u001b[0mKeyError\u001b[0m \u001b[0;32mas\u001b[0m \u001b[0merr\u001b[0m\u001b[0;34m:\u001b[0m\u001b[0;34m\u001b[0m\u001b[0;34m\u001b[0m\u001b[0m\n\u001b[0;32m-> 3804\u001b[0;31m                 \u001b[0;32mraise\u001b[0m \u001b[0mKeyError\u001b[0m\u001b[0;34m(\u001b[0m\u001b[0mkey\u001b[0m\u001b[0;34m)\u001b[0m \u001b[0;32mfrom\u001b[0m \u001b[0merr\u001b[0m\u001b[0;34m\u001b[0m\u001b[0;34m\u001b[0m\u001b[0m\n\u001b[0m\u001b[1;32m   3805\u001b[0m             \u001b[0;32mexcept\u001b[0m \u001b[0mTypeError\u001b[0m\u001b[0;34m:\u001b[0m\u001b[0;34m\u001b[0m\u001b[0;34m\u001b[0m\u001b[0m\n\u001b[1;32m   3806\u001b[0m                 \u001b[0;31m# If we have a listlike key, _check_indexing_error will raise\u001b[0m\u001b[0;34m\u001b[0m\u001b[0;34m\u001b[0m\u001b[0m\n",
            "\u001b[0;31mKeyError\u001b[0m: 'año'"
          ]
        }
      ]
    },
    {
      "cell_type": "code",
      "source": [
        "#df[df['año'] == 2019].groupby(df['mes']).Pax.sum().plot(kind='line', figsize=(7, 3))\n",
        "#df[df['año'] == 2022].groupby(df['mes']).Pax.sum().plot(kind='line', figsize=(7, 3))\n",
        "\n",
        "#plt.xlabel('Mes')\n",
        "#plt.ylabel('Pax')\n",
        "#plt.title('Pasajeros por mes')\n",
        "#plt.legend(['2019', '2022'])\n",
        "#plt.show()"
      ],
      "metadata": {
        "id": "tDQlCi8Wrg_n",
        "colab": {
          "base_uri": "https://localhost:8080/",
          "height": 502
        },
        "outputId": "51182df3-6682-4800-bb4f-61cda2d8a003"
      },
      "execution_count": null,
      "outputs": [
        {
          "output_type": "error",
          "ename": "KeyError",
          "evalue": "ignored",
          "traceback": [
            "\u001b[0;31m---------------------------------------------------------------------------\u001b[0m",
            "\u001b[0;31mKeyError\u001b[0m                                  Traceback (most recent call last)",
            "\u001b[0;32m/usr/local/lib/python3.10/dist-packages/pandas/core/indexes/base.py\u001b[0m in \u001b[0;36mget_loc\u001b[0;34m(self, key, method, tolerance)\u001b[0m\n\u001b[1;32m   3801\u001b[0m             \u001b[0;32mtry\u001b[0m\u001b[0;34m:\u001b[0m\u001b[0;34m\u001b[0m\u001b[0;34m\u001b[0m\u001b[0m\n\u001b[0;32m-> 3802\u001b[0;31m                 \u001b[0;32mreturn\u001b[0m \u001b[0mself\u001b[0m\u001b[0;34m.\u001b[0m\u001b[0m_engine\u001b[0m\u001b[0;34m.\u001b[0m\u001b[0mget_loc\u001b[0m\u001b[0;34m(\u001b[0m\u001b[0mcasted_key\u001b[0m\u001b[0;34m)\u001b[0m\u001b[0;34m\u001b[0m\u001b[0;34m\u001b[0m\u001b[0m\n\u001b[0m\u001b[1;32m   3803\u001b[0m             \u001b[0;32mexcept\u001b[0m \u001b[0mKeyError\u001b[0m \u001b[0;32mas\u001b[0m \u001b[0merr\u001b[0m\u001b[0;34m:\u001b[0m\u001b[0;34m\u001b[0m\u001b[0;34m\u001b[0m\u001b[0m\n",
            "\u001b[0;32m/usr/local/lib/python3.10/dist-packages/pandas/_libs/index.pyx\u001b[0m in \u001b[0;36mpandas._libs.index.IndexEngine.get_loc\u001b[0;34m()\u001b[0m\n",
            "\u001b[0;32m/usr/local/lib/python3.10/dist-packages/pandas/_libs/index.pyx\u001b[0m in \u001b[0;36mpandas._libs.index.IndexEngine.get_loc\u001b[0;34m()\u001b[0m\n",
            "\u001b[0;32mpandas/_libs/hashtable_class_helper.pxi\u001b[0m in \u001b[0;36mpandas._libs.hashtable.PyObjectHashTable.get_item\u001b[0;34m()\u001b[0m\n",
            "\u001b[0;32mpandas/_libs/hashtable_class_helper.pxi\u001b[0m in \u001b[0;36mpandas._libs.hashtable.PyObjectHashTable.get_item\u001b[0;34m()\u001b[0m\n",
            "\u001b[0;31mKeyError\u001b[0m: 'año'",
            "\nThe above exception was the direct cause of the following exception:\n",
            "\u001b[0;31mKeyError\u001b[0m                                  Traceback (most recent call last)",
            "\u001b[0;32m<ipython-input-199-a0cf9b6e21c5>\u001b[0m in \u001b[0;36m<cell line: 1>\u001b[0;34m()\u001b[0m\n\u001b[0;32m----> 1\u001b[0;31m \u001b[0mdf\u001b[0m\u001b[0;34m[\u001b[0m\u001b[0mdf\u001b[0m\u001b[0;34m[\u001b[0m\u001b[0;34m'año'\u001b[0m\u001b[0;34m]\u001b[0m \u001b[0;34m==\u001b[0m \u001b[0;36m2019\u001b[0m\u001b[0;34m]\u001b[0m\u001b[0;34m.\u001b[0m\u001b[0mgroupby\u001b[0m\u001b[0;34m(\u001b[0m\u001b[0mdf\u001b[0m\u001b[0;34m[\u001b[0m\u001b[0;34m'mes'\u001b[0m\u001b[0;34m]\u001b[0m\u001b[0;34m)\u001b[0m\u001b[0;34m.\u001b[0m\u001b[0mPax\u001b[0m\u001b[0;34m.\u001b[0m\u001b[0msum\u001b[0m\u001b[0;34m(\u001b[0m\u001b[0;34m)\u001b[0m\u001b[0;34m.\u001b[0m\u001b[0mplot\u001b[0m\u001b[0;34m(\u001b[0m\u001b[0mkind\u001b[0m\u001b[0;34m=\u001b[0m\u001b[0;34m'line'\u001b[0m\u001b[0;34m,\u001b[0m \u001b[0mfigsize\u001b[0m\u001b[0;34m=\u001b[0m\u001b[0;34m(\u001b[0m\u001b[0;36m7\u001b[0m\u001b[0;34m,\u001b[0m \u001b[0;36m3\u001b[0m\u001b[0;34m)\u001b[0m\u001b[0;34m)\u001b[0m\u001b[0;34m\u001b[0m\u001b[0;34m\u001b[0m\u001b[0m\n\u001b[0m\u001b[1;32m      2\u001b[0m \u001b[0mdf\u001b[0m\u001b[0;34m[\u001b[0m\u001b[0mdf\u001b[0m\u001b[0;34m[\u001b[0m\u001b[0;34m'año'\u001b[0m\u001b[0;34m]\u001b[0m \u001b[0;34m==\u001b[0m \u001b[0;36m2022\u001b[0m\u001b[0;34m]\u001b[0m\u001b[0;34m.\u001b[0m\u001b[0mgroupby\u001b[0m\u001b[0;34m(\u001b[0m\u001b[0mdf\u001b[0m\u001b[0;34m[\u001b[0m\u001b[0;34m'mes'\u001b[0m\u001b[0;34m]\u001b[0m\u001b[0;34m)\u001b[0m\u001b[0;34m.\u001b[0m\u001b[0mPax\u001b[0m\u001b[0;34m.\u001b[0m\u001b[0msum\u001b[0m\u001b[0;34m(\u001b[0m\u001b[0;34m)\u001b[0m\u001b[0;34m.\u001b[0m\u001b[0mplot\u001b[0m\u001b[0;34m(\u001b[0m\u001b[0mkind\u001b[0m\u001b[0;34m=\u001b[0m\u001b[0;34m'line'\u001b[0m\u001b[0;34m,\u001b[0m \u001b[0mfigsize\u001b[0m\u001b[0;34m=\u001b[0m\u001b[0;34m(\u001b[0m\u001b[0;36m7\u001b[0m\u001b[0;34m,\u001b[0m \u001b[0;36m3\u001b[0m\u001b[0;34m)\u001b[0m\u001b[0;34m)\u001b[0m\u001b[0;34m\u001b[0m\u001b[0;34m\u001b[0m\u001b[0m\n\u001b[1;32m      3\u001b[0m \u001b[0;34m\u001b[0m\u001b[0m\n\u001b[1;32m      4\u001b[0m \u001b[0mplt\u001b[0m\u001b[0;34m.\u001b[0m\u001b[0mxlabel\u001b[0m\u001b[0;34m(\u001b[0m\u001b[0;34m'Mes'\u001b[0m\u001b[0;34m)\u001b[0m\u001b[0;34m\u001b[0m\u001b[0;34m\u001b[0m\u001b[0m\n\u001b[1;32m      5\u001b[0m \u001b[0mplt\u001b[0m\u001b[0;34m.\u001b[0m\u001b[0mylabel\u001b[0m\u001b[0;34m(\u001b[0m\u001b[0;34m'Pax'\u001b[0m\u001b[0;34m)\u001b[0m\u001b[0;34m\u001b[0m\u001b[0;34m\u001b[0m\u001b[0m\n",
            "\u001b[0;32m/usr/local/lib/python3.10/dist-packages/pandas/core/frame.py\u001b[0m in \u001b[0;36m__getitem__\u001b[0;34m(self, key)\u001b[0m\n\u001b[1;32m   3805\u001b[0m             \u001b[0;32mif\u001b[0m \u001b[0mself\u001b[0m\u001b[0;34m.\u001b[0m\u001b[0mcolumns\u001b[0m\u001b[0;34m.\u001b[0m\u001b[0mnlevels\u001b[0m \u001b[0;34m>\u001b[0m \u001b[0;36m1\u001b[0m\u001b[0;34m:\u001b[0m\u001b[0;34m\u001b[0m\u001b[0;34m\u001b[0m\u001b[0m\n\u001b[1;32m   3806\u001b[0m                 \u001b[0;32mreturn\u001b[0m \u001b[0mself\u001b[0m\u001b[0;34m.\u001b[0m\u001b[0m_getitem_multilevel\u001b[0m\u001b[0;34m(\u001b[0m\u001b[0mkey\u001b[0m\u001b[0;34m)\u001b[0m\u001b[0;34m\u001b[0m\u001b[0;34m\u001b[0m\u001b[0m\n\u001b[0;32m-> 3807\u001b[0;31m             \u001b[0mindexer\u001b[0m \u001b[0;34m=\u001b[0m \u001b[0mself\u001b[0m\u001b[0;34m.\u001b[0m\u001b[0mcolumns\u001b[0m\u001b[0;34m.\u001b[0m\u001b[0mget_loc\u001b[0m\u001b[0;34m(\u001b[0m\u001b[0mkey\u001b[0m\u001b[0;34m)\u001b[0m\u001b[0;34m\u001b[0m\u001b[0;34m\u001b[0m\u001b[0m\n\u001b[0m\u001b[1;32m   3808\u001b[0m             \u001b[0;32mif\u001b[0m \u001b[0mis_integer\u001b[0m\u001b[0;34m(\u001b[0m\u001b[0mindexer\u001b[0m\u001b[0;34m)\u001b[0m\u001b[0;34m:\u001b[0m\u001b[0;34m\u001b[0m\u001b[0;34m\u001b[0m\u001b[0m\n\u001b[1;32m   3809\u001b[0m                 \u001b[0mindexer\u001b[0m \u001b[0;34m=\u001b[0m \u001b[0;34m[\u001b[0m\u001b[0mindexer\u001b[0m\u001b[0;34m]\u001b[0m\u001b[0;34m\u001b[0m\u001b[0;34m\u001b[0m\u001b[0m\n",
            "\u001b[0;32m/usr/local/lib/python3.10/dist-packages/pandas/core/indexes/base.py\u001b[0m in \u001b[0;36mget_loc\u001b[0;34m(self, key, method, tolerance)\u001b[0m\n\u001b[1;32m   3802\u001b[0m                 \u001b[0;32mreturn\u001b[0m \u001b[0mself\u001b[0m\u001b[0;34m.\u001b[0m\u001b[0m_engine\u001b[0m\u001b[0;34m.\u001b[0m\u001b[0mget_loc\u001b[0m\u001b[0;34m(\u001b[0m\u001b[0mcasted_key\u001b[0m\u001b[0;34m)\u001b[0m\u001b[0;34m\u001b[0m\u001b[0;34m\u001b[0m\u001b[0m\n\u001b[1;32m   3803\u001b[0m             \u001b[0;32mexcept\u001b[0m \u001b[0mKeyError\u001b[0m \u001b[0;32mas\u001b[0m \u001b[0merr\u001b[0m\u001b[0;34m:\u001b[0m\u001b[0;34m\u001b[0m\u001b[0;34m\u001b[0m\u001b[0m\n\u001b[0;32m-> 3804\u001b[0;31m                 \u001b[0;32mraise\u001b[0m \u001b[0mKeyError\u001b[0m\u001b[0;34m(\u001b[0m\u001b[0mkey\u001b[0m\u001b[0;34m)\u001b[0m \u001b[0;32mfrom\u001b[0m \u001b[0merr\u001b[0m\u001b[0;34m\u001b[0m\u001b[0;34m\u001b[0m\u001b[0m\n\u001b[0m\u001b[1;32m   3805\u001b[0m             \u001b[0;32mexcept\u001b[0m \u001b[0mTypeError\u001b[0m\u001b[0;34m:\u001b[0m\u001b[0;34m\u001b[0m\u001b[0;34m\u001b[0m\u001b[0m\n\u001b[1;32m   3806\u001b[0m                 \u001b[0;31m# If we have a listlike key, _check_indexing_error will raise\u001b[0m\u001b[0;34m\u001b[0m\u001b[0;34m\u001b[0m\u001b[0m\n",
            "\u001b[0;31mKeyError\u001b[0m: 'año'"
          ]
        }
      ]
    },
    {
      "cell_type": "markdown",
      "metadata": {
        "id": "yNpa_2JF7edC"
      },
      "source": [
        "Tenemos un solo año _\"NORMAL\"_ con datos completos: 2019.\n",
        "\n",
        "2020 y 2021 pandemia.\n",
        "\n",
        "Estimar los arribos aprox del último tercio de 2022.\n",
        "\n",
        "Aproximación:"
      ]
    },
    {
      "cell_type": "code",
      "execution_count": null,
      "metadata": {
        "id": "UH4aPTHt7edE",
        "colab": {
          "base_uri": "https://localhost:8080/",
          "height": 35
        },
        "outputId": "ed1237e9-47c3-4829-b090-56da3e498c10"
      },
      "outputs": [
        {
          "output_type": "execute_result",
          "data": {
            "text/plain": [
              "\"\\nprint('CANTIDAD DE VUELOS ENTRE OCTUBRE Y DICIEMBRE DE 2019')\\ndf[(df['STA'].dt.year == 2019) & (df['STA'].dt.month >= 10)].shape[0]\\n\""
            ],
            "application/vnd.google.colaboratory.intrinsic+json": {
              "type": "string"
            }
          },
          "metadata": {},
          "execution_count": 203
        }
      ],
      "source": [
        "#cuántos vuelos hubo entre octubre y diciembre de 2019?\n",
        "\"\"\"\n",
        "print('CANTIDAD DE VUELOS ENTRE OCTUBRE Y DICIEMBRE DE 2019')\n",
        "df[(df['STA'].dt.year == 2019) & (df['STA'].dt.month >= 10)].shape[0]\n",
        "\"\"\""
      ]
    },
    {
      "cell_type": "markdown",
      "metadata": {
        "id": "tmw5eDHY7edH"
      },
      "source": [
        "Esto es, un 23,28% de los vuelos de 2019. Si utilizamos este porcentaje (considerando la estacionalidad) para estimar los vuelos totales de 2022:\n",
        "\n",
        "(solamente a los fines exploratorios)"
      ]
    },
    {
      "cell_type": "code",
      "execution_count": null,
      "metadata": {
        "id": "GdacQfpD7edI",
        "colab": {
          "base_uri": "https://localhost:8080/"
        },
        "outputId": "013fefae-fd69-404b-d48e-1d626728e767"
      },
      "outputs": [
        {
          "output_type": "stream",
          "name": "stdout",
          "text": [
            "VUELOS TOTALES ESTIMADOS DE 2022:\n"
          ]
        },
        {
          "output_type": "execute_result",
          "data": {
            "text/plain": [
              "49243.75682761136"
            ]
          },
          "metadata": {},
          "execution_count": 201
        }
      ],
      "source": [
        "#vuelos totales estimados de 2022\n",
        "#print('VUELOS TOTALES ESTIMADOS DE 2022:')\n",
        "#37777/(1- 13315/57181)"
      ]
    },
    {
      "cell_type": "markdown",
      "metadata": {
        "id": "FD6cKLu87edL"
      },
      "source": [
        "Con esta estimación(*), tenemos estos nuevos valores de vuelos totales:\n",
        "\n",
        "2019:   57.181 vuelos\n",
        "\n",
        "2020:    11.441 vuelos\n",
        "\n",
        "2021:    21.530 vuelos\n",
        "\n",
        "2022(*):    49.244 vuelos\n",
        "\n",
        "\n",
        "_Los vuelos de 2022 *serían* un 86% del total de 2019._\n",
        "\n",
        "//\n",
        "\n",
        "_de nuevo: solo a fines exploratorios._"
      ]
    },
    {
      "cell_type": "code",
      "execution_count": null,
      "metadata": {
        "id": "SjaOHNrh7edV",
        "colab": {
          "base_uri": "https://localhost:8080/",
          "height": 519
        },
        "outputId": "64d4289c-f151-4687-aa9e-81a3a725643f"
      },
      "outputs": [
        {
          "output_type": "stream",
          "name": "stdout",
          "text": [
            "AEROLÍNEAS CON MÁS VUELOS:\n"
          ]
        },
        {
          "output_type": "error",
          "ename": "KeyError",
          "evalue": "ignored",
          "traceback": [
            "\u001b[0;31m---------------------------------------------------------------------------\u001b[0m",
            "\u001b[0;31mKeyError\u001b[0m                                  Traceback (most recent call last)",
            "\u001b[0;32m/usr/local/lib/python3.10/dist-packages/pandas/core/indexes/base.py\u001b[0m in \u001b[0;36mget_loc\u001b[0;34m(self, key, method, tolerance)\u001b[0m\n\u001b[1;32m   3801\u001b[0m             \u001b[0;32mtry\u001b[0m\u001b[0;34m:\u001b[0m\u001b[0;34m\u001b[0m\u001b[0;34m\u001b[0m\u001b[0m\n\u001b[0;32m-> 3802\u001b[0;31m                 \u001b[0;32mreturn\u001b[0m \u001b[0mself\u001b[0m\u001b[0;34m.\u001b[0m\u001b[0m_engine\u001b[0m\u001b[0;34m.\u001b[0m\u001b[0mget_loc\u001b[0m\u001b[0;34m(\u001b[0m\u001b[0mcasted_key\u001b[0m\u001b[0;34m)\u001b[0m\u001b[0;34m\u001b[0m\u001b[0;34m\u001b[0m\u001b[0m\n\u001b[0m\u001b[1;32m   3803\u001b[0m             \u001b[0;32mexcept\u001b[0m \u001b[0mKeyError\u001b[0m \u001b[0;32mas\u001b[0m \u001b[0merr\u001b[0m\u001b[0;34m:\u001b[0m\u001b[0;34m\u001b[0m\u001b[0;34m\u001b[0m\u001b[0m\n",
            "\u001b[0;32m/usr/local/lib/python3.10/dist-packages/pandas/_libs/index.pyx\u001b[0m in \u001b[0;36mpandas._libs.index.IndexEngine.get_loc\u001b[0;34m()\u001b[0m\n",
            "\u001b[0;32m/usr/local/lib/python3.10/dist-packages/pandas/_libs/index.pyx\u001b[0m in \u001b[0;36mpandas._libs.index.IndexEngine.get_loc\u001b[0;34m()\u001b[0m\n",
            "\u001b[0;32mpandas/_libs/hashtable_class_helper.pxi\u001b[0m in \u001b[0;36mpandas._libs.hashtable.PyObjectHashTable.get_item\u001b[0;34m()\u001b[0m\n",
            "\u001b[0;32mpandas/_libs/hashtable_class_helper.pxi\u001b[0m in \u001b[0;36mpandas._libs.hashtable.PyObjectHashTable.get_item\u001b[0;34m()\u001b[0m\n",
            "\u001b[0;31mKeyError\u001b[0m: 'Aero'",
            "\nThe above exception was the direct cause of the following exception:\n",
            "\u001b[0;31mKeyError\u001b[0m                                  Traceback (most recent call last)",
            "\u001b[0;32m<ipython-input-202-e7b04da2757a>\u001b[0m in \u001b[0;36m<cell line: 4>\u001b[0;34m()\u001b[0m\n\u001b[1;32m      2\u001b[0m \u001b[0mprint\u001b[0m\u001b[0;34m(\u001b[0m\u001b[0;34m'AEROLÍNEAS CON MÁS VUELOS:'\u001b[0m\u001b[0;34m)\u001b[0m\u001b[0;34m\u001b[0m\u001b[0;34m\u001b[0m\u001b[0m\n\u001b[1;32m      3\u001b[0m \u001b[0;34m\u001b[0m\u001b[0m\n\u001b[0;32m----> 4\u001b[0;31m \u001b[0mfrecuencias_absolutas\u001b[0m \u001b[0;34m=\u001b[0m \u001b[0mdf\u001b[0m\u001b[0;34m[\u001b[0m\u001b[0;34m'Aero'\u001b[0m\u001b[0;34m]\u001b[0m\u001b[0;34m.\u001b[0m\u001b[0mvalue_counts\u001b[0m\u001b[0;34m(\u001b[0m\u001b[0;34m)\u001b[0m\u001b[0;34m.\u001b[0m\u001b[0mreset_index\u001b[0m\u001b[0;34m(\u001b[0m\u001b[0;34m)\u001b[0m\u001b[0;34m.\u001b[0m\u001b[0mrename\u001b[0m\u001b[0;34m(\u001b[0m\u001b[0mcolumns\u001b[0m\u001b[0;34m=\u001b[0m\u001b[0;34m{\u001b[0m\u001b[0;34m'index'\u001b[0m\u001b[0;34m:\u001b[0m \u001b[0;34m'Aero'\u001b[0m\u001b[0;34m,\u001b[0m \u001b[0;34m'Aero'\u001b[0m\u001b[0;34m:\u001b[0m \u001b[0;34m'Frecuencia Absoluta'\u001b[0m\u001b[0;34m}\u001b[0m\u001b[0;34m)\u001b[0m\u001b[0;34m\u001b[0m\u001b[0;34m\u001b[0m\u001b[0m\n\u001b[0m\u001b[1;32m      5\u001b[0m \u001b[0mfrecuencias_relativas\u001b[0m \u001b[0;34m=\u001b[0m \u001b[0mdf\u001b[0m\u001b[0;34m[\u001b[0m\u001b[0;34m'Aero'\u001b[0m\u001b[0;34m]\u001b[0m\u001b[0;34m.\u001b[0m\u001b[0mvalue_counts\u001b[0m\u001b[0;34m(\u001b[0m\u001b[0mnormalize\u001b[0m\u001b[0;34m=\u001b[0m\u001b[0;32mTrue\u001b[0m\u001b[0;34m)\u001b[0m\u001b[0;34m.\u001b[0m\u001b[0mreset_index\u001b[0m\u001b[0;34m(\u001b[0m\u001b[0;34m)\u001b[0m\u001b[0;34m.\u001b[0m\u001b[0mrename\u001b[0m\u001b[0;34m(\u001b[0m\u001b[0mcolumns\u001b[0m\u001b[0;34m=\u001b[0m\u001b[0;34m{\u001b[0m\u001b[0;34m'index'\u001b[0m\u001b[0;34m:\u001b[0m \u001b[0;34m'Aero'\u001b[0m\u001b[0;34m,\u001b[0m \u001b[0;34m'Aero'\u001b[0m\u001b[0;34m:\u001b[0m \u001b[0;34m'Frecuencia Relativa'\u001b[0m\u001b[0;34m}\u001b[0m\u001b[0;34m)\u001b[0m\u001b[0;34m\u001b[0m\u001b[0;34m\u001b[0m\u001b[0m\n\u001b[1;32m      6\u001b[0m \u001b[0mtabla_frecuencias\u001b[0m \u001b[0;34m=\u001b[0m \u001b[0mfrecuencias_absolutas\u001b[0m\u001b[0;34m.\u001b[0m\u001b[0mmerge\u001b[0m\u001b[0;34m(\u001b[0m\u001b[0mfrecuencias_relativas\u001b[0m\u001b[0;34m,\u001b[0m \u001b[0mon\u001b[0m\u001b[0;34m=\u001b[0m\u001b[0;34m'Aero'\u001b[0m\u001b[0;34m)\u001b[0m\u001b[0;34m\u001b[0m\u001b[0;34m\u001b[0m\u001b[0m\n",
            "\u001b[0;32m/usr/local/lib/python3.10/dist-packages/pandas/core/frame.py\u001b[0m in \u001b[0;36m__getitem__\u001b[0;34m(self, key)\u001b[0m\n\u001b[1;32m   3805\u001b[0m             \u001b[0;32mif\u001b[0m \u001b[0mself\u001b[0m\u001b[0;34m.\u001b[0m\u001b[0mcolumns\u001b[0m\u001b[0;34m.\u001b[0m\u001b[0mnlevels\u001b[0m \u001b[0;34m>\u001b[0m \u001b[0;36m1\u001b[0m\u001b[0;34m:\u001b[0m\u001b[0;34m\u001b[0m\u001b[0;34m\u001b[0m\u001b[0m\n\u001b[1;32m   3806\u001b[0m                 \u001b[0;32mreturn\u001b[0m \u001b[0mself\u001b[0m\u001b[0;34m.\u001b[0m\u001b[0m_getitem_multilevel\u001b[0m\u001b[0;34m(\u001b[0m\u001b[0mkey\u001b[0m\u001b[0;34m)\u001b[0m\u001b[0;34m\u001b[0m\u001b[0;34m\u001b[0m\u001b[0m\n\u001b[0;32m-> 3807\u001b[0;31m             \u001b[0mindexer\u001b[0m \u001b[0;34m=\u001b[0m \u001b[0mself\u001b[0m\u001b[0;34m.\u001b[0m\u001b[0mcolumns\u001b[0m\u001b[0;34m.\u001b[0m\u001b[0mget_loc\u001b[0m\u001b[0;34m(\u001b[0m\u001b[0mkey\u001b[0m\u001b[0;34m)\u001b[0m\u001b[0;34m\u001b[0m\u001b[0;34m\u001b[0m\u001b[0m\n\u001b[0m\u001b[1;32m   3808\u001b[0m             \u001b[0;32mif\u001b[0m \u001b[0mis_integer\u001b[0m\u001b[0;34m(\u001b[0m\u001b[0mindexer\u001b[0m\u001b[0;34m)\u001b[0m\u001b[0;34m:\u001b[0m\u001b[0;34m\u001b[0m\u001b[0;34m\u001b[0m\u001b[0m\n\u001b[1;32m   3809\u001b[0m                 \u001b[0mindexer\u001b[0m \u001b[0;34m=\u001b[0m \u001b[0;34m[\u001b[0m\u001b[0mindexer\u001b[0m\u001b[0;34m]\u001b[0m\u001b[0;34m\u001b[0m\u001b[0;34m\u001b[0m\u001b[0m\n",
            "\u001b[0;32m/usr/local/lib/python3.10/dist-packages/pandas/core/indexes/base.py\u001b[0m in \u001b[0;36mget_loc\u001b[0;34m(self, key, method, tolerance)\u001b[0m\n\u001b[1;32m   3802\u001b[0m                 \u001b[0;32mreturn\u001b[0m \u001b[0mself\u001b[0m\u001b[0;34m.\u001b[0m\u001b[0m_engine\u001b[0m\u001b[0;34m.\u001b[0m\u001b[0mget_loc\u001b[0m\u001b[0;34m(\u001b[0m\u001b[0mcasted_key\u001b[0m\u001b[0;34m)\u001b[0m\u001b[0;34m\u001b[0m\u001b[0;34m\u001b[0m\u001b[0m\n\u001b[1;32m   3803\u001b[0m             \u001b[0;32mexcept\u001b[0m \u001b[0mKeyError\u001b[0m \u001b[0;32mas\u001b[0m \u001b[0merr\u001b[0m\u001b[0;34m:\u001b[0m\u001b[0;34m\u001b[0m\u001b[0;34m\u001b[0m\u001b[0m\n\u001b[0;32m-> 3804\u001b[0;31m                 \u001b[0;32mraise\u001b[0m \u001b[0mKeyError\u001b[0m\u001b[0;34m(\u001b[0m\u001b[0mkey\u001b[0m\u001b[0;34m)\u001b[0m \u001b[0;32mfrom\u001b[0m \u001b[0merr\u001b[0m\u001b[0;34m\u001b[0m\u001b[0;34m\u001b[0m\u001b[0m\n\u001b[0m\u001b[1;32m   3805\u001b[0m             \u001b[0;32mexcept\u001b[0m \u001b[0mTypeError\u001b[0m\u001b[0;34m:\u001b[0m\u001b[0;34m\u001b[0m\u001b[0;34m\u001b[0m\u001b[0m\n\u001b[1;32m   3806\u001b[0m                 \u001b[0;31m# If we have a listlike key, _check_indexing_error will raise\u001b[0m\u001b[0;34m\u001b[0m\u001b[0;34m\u001b[0m\u001b[0m\n",
            "\u001b[0;31mKeyError\u001b[0m: 'Aero'"
          ]
        }
      ],
      "source": [
        "#@title Aerolíneas más frecuentes (con más vuelos)\n",
        "#print('AEROLÍNEAS CON MÁS VUELOS:')\n",
        "#\n",
        "#frecuencias_absolutas = df['Aero'].value_counts().reset_index().rename(columns={'index': 'Aero', 'Aero': 'Frecuencia Absoluta'})\n",
        "#frecuencias_relativas = df['Aero'].value_counts(normalize=True).reset_index().rename(columns={'index': 'Aero', 'Aero': 'Frecuencia Relativa'})\n",
        "#tabla_frecuencias = frecuencias_absolutas.merge(frecuencias_relativas, on='Aero')\n",
        "#print(tabla_frecuencias.head(23))\n"
      ]
    },
    {
      "cell_type": "markdown",
      "metadata": {
        "id": "-uhe_3q37edX"
      },
      "source": [
        "Último vuelo en Aeroparque de Austral (se fusionó con Aerolíneas Argentinas):"
      ]
    },
    {
      "cell_type": "code",
      "execution_count": null,
      "metadata": {
        "id": "J2LwNZ3J7edZ"
      },
      "outputs": [],
      "source": [
        "#Aero AU STA max\n",
        "#print('AERO AU STA MAX:')\n",
        "#df[df['Aero'] == 'AU'].STA.max()"
      ]
    },
    {
      "cell_type": "code",
      "execution_count": null,
      "metadata": {
        "id": "q6Vcm1J77eda"
      },
      "outputs": [],
      "source": [
        "#filtramos el Aero DN\n",
        "#df_dn = df[df['Aero'] == 'DN']\n",
        "#df_dn.shape\n",
        "#\n",
        "##describe de año\n",
        "#df_dn['ATA'].describe()\n"
      ]
    },
    {
      "cell_type": "code",
      "execution_count": null,
      "metadata": {
        "id": "TOZD2TJ57edc"
      },
      "outputs": [],
      "source": [
        "#filtramos Aero FAA\n",
        "#df_fa = df[df['Aero'] == 'FAA']\n",
        "#df_fa.Mat.unique()\n"
      ]
    },
    {
      "cell_type": "markdown",
      "metadata": {
        "id": "AbFKqm0A7edd"
      },
      "source": [
        "51% Aerolíneas Argentinas\n",
        "\n",
        "15% Austral (antes de fusionarse con Aerolíneas Argentinas)\n",
        "\n",
        "8% LATAM\n",
        "\n",
        "8% Aero Chaco\n",
        "\n",
        "5% JetSMART\n",
        "\n",
        "4% Flybondi\n",
        "\n",
        "4% Norwegian Air (YA NO OPERA. 19/3/2020 último vuelo)\n",
        "\n"
      ]
    },
    {
      "cell_type": "markdown",
      "metadata": {
        "id": "H7gDA5bQ7ede"
      },
      "source": [
        "#### **Matrículas argentinas vs extranjeras**"
      ]
    },
    {
      "cell_type": "markdown",
      "metadata": {
        "id": "WVpsw96N7ede"
      },
      "source": [
        "PREFIJOS DE MATRÍCULAS ARGENTINAS:\n",
        "\n",
        "**LV y LQ**\n",
        "\n",
        "Otras matrículas argentinas (Fuerza Aérea, Prefectura Naval, Flota presidencial):\n",
        "\n",
        "PA73, T04, T10, T11,T22,T25,T26,T32,T33,T34, T99, TC52, TC53, TC61, TC66, TC70, TC99, TC115, TC117\n",
        "\n",
        "\n",
        "\n",
        "**PREFIJOS DE MATRÍCULAS DE OTROS PAÍSES**\n",
        "\n",
        "PR: BRASIL\n",
        "\n",
        "CC: CHILE\n",
        "\n",
        "CX: URUGUAY\n",
        "\n",
        "ZP: PARAGUAY\n",
        "\n",
        "\n"
      ]
    },
    {
      "cell_type": "code",
      "execution_count": null,
      "metadata": {
        "id": "5FfCd4Wz7edf"
      },
      "outputs": [],
      "source": [
        "#mat_arg = [\n",
        "#    'PA73','T04', 'T10', 'T11', 'T22', 'T25', 'T26', 'T32', 'T33', 'T34',\n",
        "#     'T99','TC52', 'TC53', 'TC61', 'TC66', 'TC70', 'TC99', 'TC115', 'TC117'\n",
        "#     ]\n",
        "#\n",
        "#df['Mat'] = df['Mat'].astype(str)\n",
        "# Filtrar las matrículas que no empiezan con 'LV' o 'LQ' y no están en la lista anterior\n",
        "#mat_foreing = df[~df['Mat'].str.startswith(('LV', 'LQ')) & ~df['Mat'].isin(mat_arg)]['Mat']\n",
        "\n",
        "#hay matrículas NA en mat_foreing?\n",
        "#print('MATRÍCULAS NA EN MAT_FOREING:')\n",
        "#display(mat_foreing.isna().sum())\n",
        "\n",
        "#cantidad de filas con matrículas extranjeras\n",
        "#print('CANTIDAD DE FILAS CON MATRÍCULAS EXTRANJERAS:')\n",
        "#display(mat_foreing.shape[0])\n",
        "\n",
        "#print(f'(de un total de {df.shape[0]} filas)')"
      ]
    },
    {
      "cell_type": "code",
      "execution_count": null,
      "metadata": {
        "id": "c3akN7C37edh"
      },
      "outputs": [],
      "source": [
        "#describe = df.describe(include='all')\n",
        "\n",
        "#creación de una nueva columna. Primeros 2 caracteres de la columna Mat:\n",
        "#df['Mat'] = df['Mat'].astype(str)\n",
        "#df['Pref_Mat'] = df['Mat'].str[:2]\n",
        "#\n",
        "#print('FRECUENCIAS ABSOLUTAS')\n",
        "#display(df.Pref_Mat.value_counts().head(7))\n",
        "#print('FRECUENCIAS RELATIVAS')\n",
        "#display(df.Pref_Mat.value_counts(normalize=True).head(7))"
      ]
    },
    {
      "cell_type": "markdown",
      "metadata": {
        "id": "XC-Y24Ix7edj"
      },
      "source": [
        "AEROPUERTOS"
      ]
    },
    {
      "cell_type": "code",
      "execution_count": null,
      "metadata": {
        "id": "JDpm6ibf7edj"
      },
      "outputs": [],
      "source": [
        "#display(df.Aero.describe())\n",
        "#print(f'Porcentaje de AR: {65423/127929}')"
      ]
    },
    {
      "cell_type": "code",
      "execution_count": null,
      "metadata": {
        "id": "jCWUTriv7edl"
      },
      "outputs": [],
      "source": [
        "# Matrículas que comienzan con 'T' pero no son argentinas?\n",
        "#filtered_df = df[df['Mat'].str.startswith('T') & ~df['Mat'].isin(['T04', 'T10', 'T11','T22','T25','T26','T32','T33','T34', 'T99', 'TC52', 'TC53', 'TC61', 'TC66', 'TC70', 'TC99', 'TC115', 'TC117'])]\n",
        "#\n",
        "#display(filtered_df.head())\n"
      ]
    },
    {
      "cell_type": "markdown",
      "metadata": {
        "id": "xUU8_Xni7edn"
      },
      "source": [
        "ORIGEN"
      ]
    },
    {
      "cell_type": "code",
      "execution_count": null,
      "metadata": {
        "id": "7UhXvqt97edo"
      },
      "outputs": [],
      "source": [
        "#COUNTS OF ORIGEN. tabla de frecuencias absolutas y relativas\n",
        "#print('FRECUENCIAS ABSOLUTAS')\n",
        "#display(df.Origen.value_counts().head(8))\n",
        "#print('FRECUENCIAS RELATIVAS')\n",
        "#display(df.Origen.value_counts(normalize=True).head(8))"
      ]
    },
    {
      "cell_type": "code",
      "execution_count": null,
      "metadata": {
        "id": "Fxfk3qJB7edp"
      },
      "outputs": [],
      "source": [
        "#Creación de una nueva columna que sea la diferencia entre ATA y STA (Retraso)\n",
        "#delay = []\n",
        "#for row in df.itertuples():\n",
        "#    diff = row.ATA - row.STA\n",
        "#    diff_minutes = diff.total_seconds() / 60\n",
        "#    delay.append(diff_minutes)\n",
        "#df['Retraso 1'] = delay\n",
        "#df.head()"
      ]
    },
    {
      "cell_type": "markdown",
      "metadata": {
        "id": "9iPEdOJJ7edp"
      },
      "source": [
        "NUESTRO DATASET ESTÁ USANDO LOS CÓDIGOS **IATA** EN LA COLUMNA **Origen**"
      ]
    },
    {
      "cell_type": "markdown",
      "metadata": {
        "id": "OTgXsrQn7edr"
      },
      "source": [
        "HAY QUE TRABAJAR EL **ETA** PARA AGREGARLE EL DÍA (solucionando problema al rededor de las 00:00 hs)\n",
        "\n",
        "ANALICEMOS EL RETRASO POR DIFERENCIA CON EL STA:"
      ]
    },
    {
      "cell_type": "code",
      "execution_count": null,
      "metadata": {
        "id": "YoC7zw_o7eds"
      },
      "outputs": [],
      "source": [
        "#describe Retraso 1\n",
        "#df['Retraso 1'].describe()"
      ]
    },
    {
      "cell_type": "markdown",
      "metadata": {
        "id": "GX4ttA9S7eds"
      },
      "source": [
        "La mediana es de **8 minutos de adelanto**\n",
        "\n",
        "El 50% central de los datos se ubica entre 17 min de adelanto y 0 retraso.\n",
        "\n",
        "¿Cuántas observaciones se demoran más de media hora?"
      ]
    },
    {
      "cell_type": "code",
      "execution_count": null,
      "metadata": {
        "id": "REhuxc3l7edt"
      },
      "outputs": [],
      "source": [
        "#count retraso mayor o igual a 30 min:\n",
        "#df[df['Retraso 1'] >= 30]['Retraso 1'].count()"
      ]
    },
    {
      "cell_type": "code",
      "execution_count": null,
      "metadata": {
        "id": "Pbao5WyW7edt"
      },
      "outputs": [],
      "source": [
        "#dejemos de lado los años 2020 y 2021\n",
        "#df_2019 = df[df['STA'].dt.year == 2019]\n",
        "#df_2022 = df[df['STA'].dt.year == 2022]\n",
        "#\n",
        "##df_sin_pandemia= df_sin_pandemia[df_sin_pandemia['STA'].dt.year != 2021]\n",
        "#\n",
        "##count retraso mayor o igual a 30 min:\n",
        "#df_2019[df_2019['Retraso 1'] >= 30]['Retraso 1'].count()\n",
        "#print(f'Cantidad de vuelos con retraso desde 30 min en 2019: {df_2019[df_2019[\"Retraso 1\"] >= 30][\"Retraso 1\"].count()} de {df_2019.shape[0]})')\n",
        "#print(f'Esto significa un porcentaje de {df_2019[df_2019[\"Retraso 1\"] >= 30][\"Retraso 1\"].count()/df_2019.shape[0]}')\n",
        "#\n",
        "#df_2022[df_2022['Retraso 1'] >= 30]['Retraso 1'].count()\n",
        "#print(f'Cantidad de vuelos con retraso desde 30 min en 2022: {df_2022[df_2022[\"Retraso 1\"] >= 30][\"Retraso 1\"].count()} de {df_2022.shape[0]})')\n",
        "#print(f'esto es un porcentaje de {df_2022[df_2022[\"Retraso 1\"] >= 30][\"Retraso 1\"].count()/df_2022.shape[0]}')"
      ]
    },
    {
      "cell_type": "code",
      "execution_count": null,
      "metadata": {
        "id": "5ugf0iB17edv"
      },
      "outputs": [],
      "source": [
        "#nuevo dataframe: 2019 y 2022 con retrasos mayores a 30 min\n",
        "#df_2019_2022 = pd.concat([df_2019, df_2022])\n",
        "#df_2019_2022.head()\n",
        "#\n",
        "##Aerolíneas con más vuelos\n",
        "#print('AEROLÍNEAS CON MÁS VUELOS:')\n",
        "#frecuencias_absolutas = df_2019_2022['Aero'].value_counts().reset_index().rename(columns={'index': 'Aero', 'Aero': 'Frecuencia Absoluta'})\n",
        "#frecuencias_relativas = df_2019_2022['Aero'].value_counts(normalize=True).reset_index().rename(columns={'index': 'Aero', 'Aero': 'Frecuencia Relativa'})\n",
        "#tabla_frecuencias = frecuencias_absolutas.merge(frecuencias_relativas, on='Aero')\n",
        "#print(tabla_frecuencias.head(21))\n",
        "#\n",
        "##dataframe con retrasos mayores a 30 min\n",
        "#df_retrasos = df_2019_2022[df_2019_2022['Retraso 1'] >= 30]\n",
        "#df_retrasos.head()\n",
        "#\n",
        "#display(df_retrasos.shape)"
      ]
    },
    {
      "cell_type": "markdown",
      "metadata": {
        "id": "c0za4Uaq7edv"
      },
      "source": [
        "IMPORTO EL SET DE DATOS DE LOS CÓDIGOS DE AEROPUERTOS DE ARGENTINA"
      ]
    },
    {
      "cell_type": "code",
      "execution_count": null,
      "metadata": {
        "id": "L4M66f-N7edw"
      },
      "outputs": [],
      "source": [
        "#Aeródromos ANAC\n",
        "#IMPORT CSV\n",
        "#ANAC_aeros = pd.read_csv('Aeródromos_ANAC.csv', sep=',')\n",
        "#ANAC_aeros.head()"
      ]
    },
    {
      "cell_type": "code",
      "execution_count": null,
      "metadata": {
        "id": "mhxpO-jw7edx"
      },
      "outputs": [],
      "source": [
        "#VISUALIZAR ORIGEN= NCJ\n",
        "#df[df['Origen'] == 'NCJ'].head()"
      ]
    },
    {
      "cell_type": "markdown",
      "metadata": {
        "id": "qYChdL757edx"
      },
      "source": [
        "NCJ es un aeropuerto en Sunchales, Santa Fe."
      ]
    },
    {
      "cell_type": "code",
      "execution_count": null,
      "metadata": {
        "id": "3xtCXY447edy"
      },
      "outputs": [],
      "source": [
        "#me quedo con las siguientes columnas:\n",
        "#ANAC_aeros = ANAC_aeros[['iata', 'oaci', 'latitud', 'longitud', 'provincia', 'elev_m', 'denominacion','inhab']]\n",
        "##agrego una columna de país (el set de ANAC son todos Arg)\n",
        "#ANAC_aeros['Nac'] = 'ARGENTINA'\n",
        "\n",
        "#merge\n",
        "#df = df.merge(ANAC_aeros, left_on='Origen', right_on='iata', how='left')\n",
        "#\n",
        "#df.head()"
      ]
    },
    {
      "cell_type": "markdown",
      "metadata": {
        "id": "8HSyuslC7edz"
      },
      "source": [
        "**Aero vs Aero 1**"
      ]
    },
    {
      "cell_type": "code",
      "execution_count": null,
      "metadata": {
        "id": "c2-jpU8q7ed0"
      },
      "outputs": [],
      "source": [
        "#filtrar las filas en donde Aero es distinto a Aero1\n",
        "#df_diferencias = df[df['Aero'] != df['Aero.1']]\n",
        "#display(df_diferencias.shape)\n",
        "##eliminar filas donde Aero1 es na\n",
        "#df_diferencias2 = df_diferencias[df_diferencias['Aero.1'].notna()]\n",
        "#display(df_diferencias2.shape)"
      ]
    },
    {
      "cell_type": "markdown",
      "metadata": {
        "id": "F2inv7Qv7ed1"
      },
      "source": [
        "**¿INTERNACIONALES?**"
      ]
    },
    {
      "cell_type": "code",
      "execution_count": null,
      "metadata": {
        "id": "CY32jadE7ed1"
      },
      "outputs": [],
      "source": [
        "#ver los NA en iata:\n",
        "#df_sinubicar = df[df['iata'].isna()].copy()\n",
        "#\n",
        "##describe de Origen\n",
        "#df_sinubicar.Origen.describe()"
      ]
    },
    {
      "cell_type": "code",
      "execution_count": null,
      "metadata": {
        "id": "gIkJdhNZ7ed2"
      },
      "outputs": [],
      "source": [
        "#frecuencias de Origen\n",
        "df_sinubicar.Origen.value_counts().head(15)"
      ]
    },
    {
      "cell_type": "code",
      "execution_count": null,
      "metadata": {
        "id": "fo1FXWoM7ed3"
      },
      "outputs": [],
      "source": [
        "#Diccionario de PAÍS (Nac) para completar según Origen:\n",
        "#diccionario = {'GRU': 'BRASIL','MVD': 'URUGUAY', 'PDP':'URUGUAY', 'SCL':'CHILE',\n",
        "#               'GIG':'BRASIL','ASU':'PARAGUAY','LIM':'PERÚ','FLN':'BRASIL','VVI':'BOLIVIA',\n",
        "#               'SCA':'COLOMBIA','POA':'BRASIL','BSB':'BRASIL','CWB':'BRASIL','SSA':'BRASIL',\n",
        "#               'BOG':'COLOMBIA','NCJ':'ARGENTINA','GYE':'ECUADOR','PAL':'COLOMBIA','MOR':'ARGENTINA'}\n",
        "#\n",
        "##COMPLETAR Nac\n",
        "#df['Nac'] = df['Nac'].fillna(df['Origen'].map(diccionario))"
      ]
    },
    {
      "cell_type": "markdown",
      "metadata": {
        "id": "WYxDedEc7ed4"
      },
      "source": [
        "Aeródromos pendientes de ubicar y sus frecuencias:"
      ]
    },
    {
      "cell_type": "code",
      "execution_count": null,
      "metadata": {
        "id": "QV6vDLOQ7ed4"
      },
      "outputs": [],
      "source": [
        "#df_where = df[df['Nac'].isna()].copy()\n",
        "##count origen\n",
        "#df_where.Origen.value_counts().head(15)"
      ]
    },
    {
      "cell_type": "code",
      "execution_count": null,
      "metadata": {
        "id": "q-TeHoM87ed5"
      },
      "outputs": [],
      "source": [
        "#VER FILAS DONDE Nac es SRC, #¿NOMBRE? o FOR:\n",
        "#display(df[df['Origen'] == 'SRC'].head())\n",
        "#display(df[df['Origen'] == '#¿NOMBRE?'].head())\n",
        "#display(df[df['Origen'] == 'FOR'].head())\n",
        "\n"
      ]
    },
    {
      "cell_type": "code",
      "execution_count": null,
      "metadata": {
        "id": "pSdRZNJK7ed5"
      },
      "outputs": [],
      "source": [
        "#ver frecuencias por Nac.  group by year\n",
        "#display(df.groupby(df['año']).Nac.value_counts().head(23))\n",
        "#\n",
        "##df.Nac.value_counts().head(15)\n",
        "#\n",
        "##ver año == 2022 frecuencias por Nac (lo separo por una cuestión de visualización)\n",
        "#print('2022')\n",
        "#df[df['año'] == 2022].Nac.value_counts().head(15)\n"
      ]
    },
    {
      "cell_type": "code",
      "execution_count": null,
      "metadata": {
        "id": "i2PeYYmk7ed6"
      },
      "outputs": [],
      "source": [
        "#df.shape"
      ]
    },
    {
      "cell_type": "code",
      "execution_count": null,
      "metadata": {
        "id": "J85wowVN7ed6"
      },
      "outputs": [],
      "source": [
        "#df describe columna tipo\n",
        "#df['Tipo'].describe()"
      ]
    },
    {
      "cell_type": "code",
      "execution_count": null,
      "metadata": {
        "id": "_2dhfseH7ed7"
      },
      "outputs": [],
      "source": [
        "#Describe las 3 columnas: Pos, Ter, Sec\n",
        "#df[['Pos', 'Ter', 'Sec']].describe()\n"
      ]
    },
    {
      "cell_type": "code",
      "execution_count": null,
      "metadata": {
        "id": "pvT950Yi7ed8"
      },
      "outputs": [],
      "source": [
        "#count most frequent Acft\n",
        "#df.Acft.value_counts().head()\n"
      ]
    },
    {
      "cell_type": "markdown",
      "metadata": {
        "id": "YCKScL3j7ed8"
      },
      "source": [
        "Boeing 738 - Capacidad max 189 pax\n",
        "\n",
        "Embraer 190: Capacidad max 100 pax\n",
        "\n",
        "Airbus 320: Capacidad max 220 pax\n",
        "\n",
        "Boeing 737 - Capacidad max 168 pax"
      ]
    },
    {
      "cell_type": "code",
      "execution_count": null,
      "metadata": {
        "id": "3P6WRzLv7ed8"
      },
      "outputs": [],
      "source": [
        "#frecuencia por cabecera\n",
        "#df.Cabecera.value_counts().head()"
      ]
    },
    {
      "cell_type": "markdown",
      "metadata": {
        "id": "BeyaoBtr7ed9"
      },
      "source": [
        "74%. Predominan los arribos por cabecera 13 (¿predomina viento noroeste?)"
      ]
    },
    {
      "cell_type": "code",
      "execution_count": null,
      "metadata": {
        "id": "rWE56u6q7ed9"
      },
      "outputs": [],
      "source": [
        "#cabecera en el tiempo - gráfico por mes\n",
        "#df.groupby(df['mes']).Cabecera.value_counts().plot(kind='bar', figsize=(7, 3))"
      ]
    },
    {
      "cell_type": "markdown",
      "metadata": {
        "id": "RAScp3M17ed9"
      },
      "source": [
        "Todos los meses se usa más la cabecera 13. No es una cuestión estacional."
      ]
    },
    {
      "cell_type": "code",
      "execution_count": null,
      "metadata": {
        "id": "cQCgLEsV7ed-"
      },
      "outputs": [],
      "source": [
        "#pasajeros a lo largo de tod 2019\n",
        "#etiquetas_meses = ['ENE', 'FEB', 'MAR', 'ABR', 'MAY', 'JUN',\n",
        "#                   'JUL', 'AGO', 'SEP', 'OCT', 'NOV', 'DIC']\n",
        "#df[df['año'] == 2019].groupby(df['mes']).Pax.sum().plot(kind='bar', figsize=(7, 3)), plt.title('Pasajeros mensuales - 2019'),plt.xticks(range(12), etiquetas_meses, rotation=90)\n",
        "#\n",
        "#plt.show()"
      ]
    },
    {
      "cell_type": "code",
      "execution_count": null,
      "metadata": {
        "id": "CLy2OjCM7ed-"
      },
      "outputs": [],
      "source": [
        "#pasajeros a lo largo de todo el 2022\n",
        "#etiquetas_meses = ['ENE', 'FEB', 'MAR', 'ABR', 'MAY', 'JUN',\n",
        "#                   'JUL', 'AGO', 'SEP']\n",
        "#df[df['año'] == 2022].groupby(df['mes']).Pax.sum().plot(kind='bar', figsize=(7, 3), color='orange'), plt.title('Pasajeros mensuales 2022'),plt.xticks(range(9), etiquetas_meses, rotation=90)\n",
        "#plt.show()"
      ]
    },
    {
      "cell_type": "code",
      "execution_count": null,
      "metadata": {
        "id": "B8UlHI4f7ed-"
      },
      "outputs": [],
      "source": [
        "#filas con pax menor a 10\n",
        "#df[df['Pax'] < 10].shape"
      ]
    },
    {
      "cell_type": "code",
      "source": [
        "# guardamos en el drive el DB\n",
        "with open(path, 'w') as f:\n",
        "  df.to_csv(f, index=False)"
      ],
      "metadata": {
        "id": "Uw25AXM5Tsk2"
      },
      "execution_count": null,
      "outputs": []
    }
  ]
}